{
 "cells": [
  {
   "cell_type": "code",
   "execution_count": 2,
   "id": "1d5f5ebb-cd38-4980-81ed-45268fd19eff",
   "metadata": {},
   "outputs": [
    {
     "name": "stdout",
     "output_type": "stream",
     "text": [
      "1.010000000000001\n"
     ]
    }
   ],
   "source": [
    "x0 = 1 #lim f(x+h)-f(x)/h derecha\n",
    "delta = 1e-2\n",
    "def f(x):\n",
    "    return x * (x-1)\n",
    "def derivada(f, x0, delta):\n",
    "    d = (f(x0 + delta)-f(x0))/delta\n",
    "    return(d)\n",
    "\n",
    "print(derivada(f,x0,delta))"
   ]
  },
  {
   "cell_type": "code",
   "execution_count": 5,
   "id": "080f77d8-8db0-4f11-9e06-852fef086602",
   "metadata": {},
   "outputs": [
    {
     "name": "stdout",
     "output_type": "stream",
     "text": [
      "0.9900000000000009\n"
     ]
    }
   ],
   "source": [
    "x0 = 1 #izquierda\n",
    "delta = 1e-2\n",
    "def f(x):\n",
    "    return x * (x-1)\n",
    "def derivada(f, x0, delta):\n",
    "    d = (f(x0)-f(x0-delta))/delta\n",
    "    return(d)\n",
    "\n",
    "print(derivada(f,x0,delta))"
   ]
  },
  {
   "cell_type": "code",
   "execution_count": 7,
   "id": "8c5411a5-8de0-4a49-96fb-57ba281b5cfd",
   "metadata": {},
   "outputs": [
    {
     "name": "stdout",
     "output_type": "stream",
     "text": [
      "1.0000000000000009\n"
     ]
    }
   ],
   "source": [
    "x0 = 1 #central\n",
    "delta = 1e-2\n",
    "def f(x):\n",
    "    return x * (x-1)\n",
    "def derivada(f, x0, delta):\n",
    "    d = (f(x0+delta)-f(x0-delta))/(2*delta)\n",
    "    return(d)\n",
    "\n",
    "print(derivada(f,x0,delta))"
   ]
  },
  {
   "cell_type": "code",
   "execution_count": null,
   "id": "4a6ac0ea-c9f6-4cbb-8e44-5014ee4e2913",
   "metadata": {},
   "outputs": [],
   "source": []
  }
 ],
 "metadata": {
  "kernelspec": {
   "display_name": "Python 3 (ipykernel)",
   "language": "python",
   "name": "python3"
  },
  "language_info": {
   "codemirror_mode": {
    "name": "ipython",
    "version": 3
   },
   "file_extension": ".py",
   "mimetype": "text/x-python",
   "name": "python",
   "nbconvert_exporter": "python",
   "pygments_lexer": "ipython3",
   "version": "3.12.4"
  }
 },
 "nbformat": 4,
 "nbformat_minor": 5
}
