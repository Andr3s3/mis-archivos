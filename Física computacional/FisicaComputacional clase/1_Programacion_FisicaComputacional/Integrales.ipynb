{
 "cells": [
  {
   "cell_type": "code",
   "execution_count": 1,
   "id": "34a3c7fd-d7bf-458e-b25e-66f3eed70df3",
   "metadata": {},
   "outputs": [
    {
     "name": "stdout",
     "output_type": "stream",
     "text": [
      "1.7724538509055159\n"
     ]
    }
   ],
   "source": [
    "import numpy as np #regla del trapecio \n",
    "\n",
    "def f(x):\n",
    "    return(np.e**(-x**2))\n",
    "def trapecio(a, b, n):\n",
    "    h = (b-a)/n\n",
    "    integ = (h/2)*(f(a)+f(b))\n",
    "    for i in range(1,n):\n",
    "        integ = integ + h*f(a+i*h)\n",
    "    return(integ)\n",
    "a = -100000\n",
    "b = 100000\n",
    "n = 10000000\n",
    "print(trapecio(a, b, n))"
   ]
  },
  {
   "cell_type": "code",
   "execution_count": 24,
   "id": "db0c8274-48b1-477b-9466-5d4cb97db5af",
   "metadata": {},
   "outputs": [
    {
     "data": {
      "text/plain": [
       "2.718281828459045"
      ]
     },
     "execution_count": 24,
     "metadata": {},
     "output_type": "execute_result"
    }
   ],
   "source": [
    "np.e"
   ]
  },
  {
   "cell_type": "code",
   "execution_count": 25,
   "id": "bdcee143-484e-4f4e-834c-7f940b7a0f2f",
   "metadata": {},
   "outputs": [
    {
     "data": {
      "text/plain": [
       "1.7724538509055159"
      ]
     },
     "execution_count": 25,
     "metadata": {},
     "output_type": "execute_result"
    }
   ],
   "source": [
    "np.sqrt(np.pi)"
   ]
  },
  {
   "cell_type": "code",
   "execution_count": 28,
   "id": "d967af32-1947-40c7-b4a6-1412674e5859",
   "metadata": {},
   "outputs": [
    {
     "name": "stdout",
     "output_type": "stream",
     "text": [
      "9.355394094268275\n"
     ]
    }
   ],
   "source": [
    "import numpy as np #fórmula de simpson formula 2\n",
    "def f(x):\n",
    "    return(np.e**(np.cos(x)) + np.log(x/5))\n",
    "def integ(a,b,n):\n",
    "    h = (b-a)/n\n",
    "    inte = (f(a)+f(b))\n",
    "    int1 = 0 \n",
    "    int2 = 0\n",
    "    for k in np.arange(1, (n/2)+1):\n",
    "      int1 = int1 + (4*(f(a+((2*k)-1)*h)))\n",
    "    for k in np.arange(1, n/2):\n",
    "        int2 = int2 + (2*(f(a + (2*k*h))))\n",
    "    intf = (h/3)*(inte + int1 + int2)\n",
    "    return(intf)\n",
    "a = 1\n",
    "b = 10\n",
    "n = 10000\n",
    "print(integ(a,b,n))"
   ]
  },
  {
   "cell_type": "code",
   "execution_count": null,
   "id": "b5cd64df-cdf6-44aa-851f-0fe0fa13715d",
   "metadata": {},
   "outputs": [],
   "source": []
  }
 ],
 "metadata": {
  "kernelspec": {
   "display_name": "Python 3 (ipykernel)",
   "language": "python",
   "name": "python3"
  },
  "language_info": {
   "codemirror_mode": {
    "name": "ipython",
    "version": 3
   },
   "file_extension": ".py",
   "mimetype": "text/x-python",
   "name": "python",
   "nbconvert_exporter": "python",
   "pygments_lexer": "ipython3",
   "version": "3.12.4"
  }
 },
 "nbformat": 4,
 "nbformat_minor": 5
}
