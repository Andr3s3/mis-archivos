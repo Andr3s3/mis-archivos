{
 "cells": [
  {
   "cell_type": "markdown",
   "metadata": {},
   "source": [
    "<h1 align=\"center\">Física Computacional.</h1>\n",
    "<h1 align=\"center\">Semestre 2015-1</h1>\n",
    "\n",
    "<h2>Sergio A. Alcalá Corona </h2> \n",
    "\n",
    "---\n",
    "### Rodrigo Vega Vilchis\n",
    "### Joel Gómez Uribe\n",
    "---"
   ]
  },
  {
   "cell_type": "markdown",
   "metadata": {},
   "source": [
    "<h1 align=\"center\">Programación para la física computacional</h1> \n",
    "\n",
    "# 1.1. Fundamentos de programación\n",
    "\n",
    "---\n",
    "\n",
    "## 1.1.2 Listas, arreglos, matrices y estructuras de control.\n",
    "\n",
    "En este *Notebook* presentaremos de manera muy breve el uso general de las estrcuturas de control en *Python*, así también, cómo definir y usar funciones dentro de *Python*.\n",
    "\n",
    "Asimismo, mostraremos muy brevemente, cómo leer y escribir archivos (de texto o de datos) y finalmente expondremos cómo crear _**scripts** de Python_.\n",
    "\n",
    "---"
   ]
  },
  {
   "cell_type": "markdown",
   "metadata": {},
   "source": [
    "### Estructuras de control\n",
    "\n",
    "En *Python* existen las estructuras de control comunes usadas en los lenguajes programación, que son las condicionales (`if`) y las iteretivas (`for` y `while`).\n",
    "\n",
    "Estás se usan junto con, los operadores lógicos y de comparación ya mencionados y que tienen un formato en común en casi todos los lenguajes de programación.\n",
    "\n",
    "#### Operadores de comparación:\n",
    "\n",
    "- *Igual que*:  `==`\n",
    "- *Diferente que*:  `!=`\n",
    "- *Menor que*:  `<`\n",
    "- *Mayor que*:  `>`\n",
    "- *Menor o igual que*:  `<=`\n",
    "- *Mayor o igual que*:  `>=`\n",
    "\n",
    "#### Operadores de lógicos:\n",
    "\n",
    "- *AND*:  `and`\n",
    "- *OR*:  `or`\n",
    "- *NOT*:  `!`"
   ]
  },
  {
   "cell_type": "markdown",
   "metadata": {},
   "source": [
    "A diferencia de otros lenguajes de programación en *Python*, no existen instrucciones que indiquen donde empieza y termina un bloque del programa.\n",
    "\n",
    "Un bloque empieza por **`:`**, y su extensión se indica por el uso de una cantidad definida de espacio en blanco al principio de cada línea. \n",
    "\n",
    "Es muy importante dejar **una identación (un tabulador)** después de que se inicia un bloque de instrucciones definido por `:`.\n",
    "\n",
    "Algunos editores de texto (como Kate) o IDEs permiten hacer eso de forma automática."
   ]
  },
  {
   "cell_type": "markdown",
   "metadata": {},
   "source": [
    "### Estructuras Condicionales\n",
    "\n",
    "Para checar una condición y ejecutar código dependiente del resultado, se ocupa  **`if`**:"
   ]
  },
  {
   "cell_type": "code",
   "execution_count": 1,
   "metadata": {},
   "outputs": [
    {
     "name": "stdout",
     "output_type": "stream",
     "text": [
      "Ingresa el valor de a 8\n",
      "a es positiva\n"
     ]
    }
   ],
   "source": [
    "a = int(input('Ingresa el valor de a '))\n",
    "\n",
    "if (a > 0):\n",
    "        print(\"a es positiva\")\n",
    "        a = a + 1\n",
    "elif a == 0:  # Notese: dos veces =\n",
    "        print(\"a es 0\")\n",
    "else:\n",
    "        print(\"a es negativa\")"
   ]
  },
  {
   "cell_type": "markdown",
   "metadata": {},
   "source": [
    "En el primer caso, hay dos comandos en el bloque que se ejecutará en el caso de que `a > 0`. Nótese que `elif` es una abreviación de `else:if`"
   ]
  },
  {
   "cell_type": "markdown",
   "metadata": {},
   "source": [
    "Las condiciones que se pueden ocupar incluyen: `<`, `<=` y `!=` (*no es igual*). \n",
    "Para combinar condiciones se ocupan las palabras `and` y `or`:"
   ]
  },
  {
   "cell_type": "code",
   "execution_count": null,
   "metadata": {},
   "outputs": [],
   "source": [
    "a = 3; b=7\n",
    "\n",
    "if a > 1 and b > 2:\n",
    "    print(\"Grandes\")\n",
    "\n",
    "if a > 0 or b > 0:\n",
    "    print(\"Al menos uno positivo\")"
   ]
  },
  {
   "cell_type": "markdown",
   "metadata": {},
   "source": [
    "Aca otro ejemplo"
   ]
  },
  {
   "cell_type": "code",
   "execution_count": null,
   "metadata": {},
   "outputs": [],
   "source": [
    "x = int(input(\"Introduce un número entero no mayor que diez: \"))\n",
    "\n",
    "if x > 10:\n",
    "    print(\"Ingresaste un número mayor a diez.\")\n",
    "    print(\"Déjame arreglar eso por ti.\")\n",
    "    x = 10\n",
    "    print(\"tu número es\",x)"
   ]
  },
  {
   "cell_type": "markdown",
   "metadata": {},
   "source": [
    "Donde podemos usar `and` y `or`:"
   ]
  },
  {
   "cell_type": "code",
   "execution_count": null,
   "metadata": {},
   "outputs": [],
   "source": [
    "x = int(input(\"Introduce un número entero entre 1 y diez: \"))\n",
    "    \n",
    "if x > 10 or x < 1:\n",
    "    print(\"Tu número es demasiado grande o demasiado pequeño.\")\n"
   ]
  },
  {
   "cell_type": "code",
   "execution_count": null,
   "metadata": {},
   "outputs": [],
   "source": [
    "x = int(input(\"Introduce un número entero menor o igual a 1 y menor o igual a diez: \"))\n",
    "    \n",
    "if x <= 10 and x >=1:\n",
    "    print (\"Tu número es correcto.\")\n",
    "else:\n",
    "    print (\"Tu número es incorrecto.\")"
   ]
  },
  {
   "cell_type": "code",
   "execution_count": null,
   "metadata": {},
   "outputs": [],
   "source": [
    "x = int(input(\"Introduce un número entero no mayor que diez: \"))\n",
    "if x > 10:\n",
    "    print(\"Tu numero es mayor que diez.\")\n",
    "elif x > 9:\n",
    "    print(\"Tu número está bien, pero por poco no!\")\n",
    "else:\n",
    "    print (\"Tu número está bien. Continua.\")"
   ]
  },
  {
   "cell_type": "markdown",
   "metadata": {},
   "source": [
    "**Ejemplo: Número pares e impares**\n",
    "\n",
    "Escribamos un programa que tome como entrada un número entero e imprima si el número es par o impar."
   ]
  },
  {
   "cell_type": "code",
   "execution_count": null,
   "metadata": {},
   "outputs": [],
   "source": [
    "n = int(input(\"Ingresa un entero: \"))\n",
    "if n%2==0:\n",
    "    print(\"par\")\n",
    "else:\n",
    "    print(\"impar\")"
   ]
  },
  {
   "cell_type": "markdown",
   "metadata": {},
   "source": [
    "### Estructuras Iterativas\n",
    "\n",
    "La parte central de muchos cálculos científicos consiste en llevar a cabo **ciclos (bucles)**. Para esto usamos las estructura de control **`while`** y **`for`**.\n",
    "\n",
    "La instrucción `while` ejecuta un bloque de código mientras una cierta condición se satisfaga. Asimismo, la instrucción `for` se usa generalmente cuando se conoce de antemano el número de iteraciones necesarias."
   ]
  },
  {
   "cell_type": "markdown",
   "metadata": {},
   "source": [
    "#### La estructura `while`\n",
    "\n",
    "\n",
    "Como instrucción de bucle, la más simple es **`while`**, que como ya mencionamos, ejecuta un bloque de código mientras una cierta condición se satisfaga, y suele ocuparse para llevar a cabo una iteración en la cual no se conoce de antemano el número de iteraciones necesarias. Sin embargo hay que tener cuidado al usar esta estructura pues si no definimos bien la condición de termino puede que el ciclo se repita indefinidamente y nunca acabe. \n",
    "\n",
    "Un ejemplo muy sencillo de un while, donde sí se conoce la condición terminal, para contar hasta 9, se puede hacer como sigue:"
   ]
  },
  {
   "cell_type": "code",
   "execution_count": null,
   "metadata": {},
   "outputs": [],
   "source": [
    "i = 0\n",
    "while i < 10:\n",
    "    i += 1     # equivalente a i = i + 1\n",
    "    print(i)"
   ]
  },
  {
   "cell_type": "markdown",
   "metadata": {},
   "source": [
    "O bien, podemos usarlo de la siguiente manera:"
   ]
  },
  {
   "cell_type": "code",
   "execution_count": null,
   "metadata": {},
   "outputs": [],
   "source": [
    "x = int(input(\"Ingresa un número entero no mayor a diez: \"))\n",
    "\n",
    "while x > 10:\n",
    "    \n",
    "    print(\"Este numero es mayor a diez. Vuelve a intentarlo.\")\n",
    "    x = int(input(\"Ingresa un número entero no mayor a diez: \"))\n",
    "\n",
    "print(\"Tu número es\",x)"
   ]
  },
  {
   "cell_type": "markdown",
   "metadata": {},
   "source": [
    "Ahora compiquemos un poco el programa y de los números par e impar y pidamos uno y uno:"
   ]
  },
  {
   "cell_type": "code",
   "execution_count": 1,
   "metadata": {},
   "outputs": [
    {
     "name": "stdout",
     "output_type": "stream",
     "text": [
      "Ingresa dos enteros, uno par y el otro impar.\n"
     ]
    },
    {
     "name": "stdin",
     "output_type": "stream",
     "text": [
      "Ingresa el primer entero:  4\n",
      "Ingresa el segundo entero:  5\n"
     ]
    },
    {
     "name": "stdout",
     "output_type": "stream",
     "text": [
      "Correto! Los números que elegiste son: 4 y 5\n"
     ]
    }
   ],
   "source": [
    "print(\"Ingresa dos enteros, uno par y el otro impar.\")\n",
    "m = int(input(\"Ingresa el primer entero: \"))\n",
    "n = int(input(\"Ingresa el segundo entero: \"))\n",
    "while (m+n)%2==0:\n",
    "    print(\"Uno debe ser par y el otro impar.\")\n",
    "    m = int(input(\"Ingresa el primer entero: \"))\n",
    "    n = int(input(\"Ingresa el segundo entero: \"))\n",
    "print(\"Correto! Los números que elegiste son:\",m,\"y\",n)"
   ]
  },
  {
   "cell_type": "markdown",
   "metadata": {},
   "source": [
    "**Ejemplo: Sucesión de Fibonacci**\n",
    "\n",
    "Los números de (la sucesión) de Fibonacci se definen de la siguiente manera:\n",
    "\n",
    "### $f_n = f_{n-1} + f_{n-2}$\n",
    "\n",
    "con las condiciones iniciales\n",
    "\n",
    "#### $f_0=0$  y $f_1=1$\n",
    "\n",
    "Escribamos un programa para generar los números de Fibonacci, menores a 1000:"
   ]
  },
  {
   "cell_type": "code",
   "execution_count": 2,
   "metadata": {},
   "outputs": [
    {
     "name": "stdout",
     "output_type": "stream",
     "text": [
      "1\n",
      "2\n",
      "3\n",
      "5\n",
      "8\n",
      "13\n",
      "21\n",
      "34\n",
      "55\n",
      "89\n",
      "144\n",
      "233\n",
      "377\n",
      "610\n",
      "987\n"
     ]
    }
   ],
   "source": [
    "f1,f2 = 1,1\n",
    "\n",
    "while f2 < 1000:    \n",
    "    print(f2)\n",
    "    f1,f2 = f2,f1+f2"
   ]
  },
  {
   "cell_type": "markdown",
   "metadata": {},
   "source": [
    "<!-- ![fibrabbits.png](attachment:fibrabbits.png) -->\n",
    "<div>\n",
    "    <img src=\"fibrabbits.png\", width=\"800\" height=\"600\">\n",
    "</div>\n"
   ]
  },
  {
   "cell_type": "markdown",
   "metadata": {},
   "source": [
    "Una instrucción muy útil, cuando estamos usando un `while` es **`break`**, que nos permiten salir del ciclo incluso si no se cumple la condición. Por ejemplo:"
   ]
  },
  {
   "cell_type": "code",
   "execution_count": 5,
   "metadata": {},
   "outputs": [
    {
     "name": "stdin",
     "output_type": "stream",
     "text": [
      "Ingresa un número entero no mayor a diez:  1\n"
     ]
    }
   ],
   "source": [
    "x = int(input(\"Ingresa un número entero no mayor a diez: \"))\n",
    "\n",
    "while x>10:\n",
    "\n",
    "    print(\"Esto es mayor a diez, por favor intentalo de nuevo.\")\n",
    "    x = x+1\n",
    "    \n",
    "    if x==111:\n",
    "        break\n",
    "\n",
    "    print(x)\n"
   ]
  },
  {
   "cell_type": "markdown",
   "metadata": {},
   "source": [
    "Una instrucción parecida a `break`  es la instrucción **`continue`**. Al colocar esta instrucción dentro `while` (con una condición de un `if`), hará que el programa salte el resto del código del ciclo, regresando al principio del bucle, donde se vuelve a comprobar la condición en el `while`.\n",
    "\n",
    "**OJO:** Se recomienda un uso bien pensando de esta istrucción, pues podría provocar que nuestro programa se estanque en un *\"bucle infinito\"*\n",
    "\n",
    "\n",
    "\n"
   ]
  },
  {
   "cell_type": "code",
   "execution_count": null,
   "metadata": {},
   "outputs": [],
   "source": [
    "x = int(input(\"Ingresa un número entero no mayor a diez: \"))\n",
    "\n",
    "while x>10:\n",
    "    \n",
    "    print(\"Esto es mayor a diez, por favor intentalo de nuevo.\")\n",
    "    x = x+1\n",
    "    \n",
    "    if (x % 2) == 0:\n",
    "        continue\n",
    "    elif x==111:\n",
    "            break\n",
    "    print(x)\n"
   ]
  },
  {
   "cell_type": "markdown",
   "metadata": {},
   "source": [
    "<!-- \n",
    "break | continue\n",
    "- | - \n",
    "![break](break.png) | ![continue](continue.png)\n",
    " -->"
   ]
  },
  {
   "cell_type": "markdown",
   "metadata": {},
   "source": [
    "### Diferencia entre el uso de `break`  y `continue`\n",
    "$\\;$\n",
    "\n",
    "<div align=\"center\">\n",
    "    <table>      \n",
    "        <tr>\n",
    "            <td> <img src=\"break.png\" alt=\"break\" style=\"width: 450px;\"/> </td>\n",
    "            <td> <img src=\"continue.png\" alt=\"continue\" style=\"width: 450px;\"/> </td>\n",
    "        </tr>\n",
    "        <tr>\n",
    "            <td><div align=\"center\"><h2>break</h2></div></td>\n",
    "            <td><div align=\"center\"><h2>continue</h2></div></td>\n",
    "        </tr>          \n",
    "    </table>\n",
    "</div>\n",
    "\n"
   ]
  },
  {
   "cell_type": "code",
   "execution_count": null,
   "metadata": {},
   "outputs": [],
   "source": []
  },
  {
   "cell_type": "markdown",
   "metadata": {},
   "source": [
    "### Ejercicio: Números de Catalan\n",
    "\n",
    "Los números de Catalan $C_n$ son una secuencia de números enteros 1, 1, 2, 5, 14, 42, 132 que juegan un papel importante en la mecánica cuántica y la teoría de los sistemas desordenados. (Eran fundamentales para la prueba de Eugene Wigner de la llamada ley del semicírculo). Se definen de la siguiente manera:\n",
    "\n",
    "<h3 align=\"center\">$C_0 = 1,\\qquad C_{n+1} = {4n+2\\over n+2}\\,C_n$.</h3> \n",
    "\n",
    "Escribe un programa que imprima en orden creciente todos los números catalanes menores o iguales a mil millones.\n"
   ]
  },
  {
   "cell_type": "code",
   "execution_count": 8,
   "metadata": {},
   "outputs": [
    {
     "name": "stdout",
     "output_type": "stream",
     "text": [
      "1\n",
      "2.0\n",
      "5.0\n",
      "14.0\n",
      "42.0\n",
      "132.0\n",
      "429.0\n",
      "1430.0\n",
      "4862.0\n",
      "16796.0\n",
      "58786.0\n",
      "208012.0\n",
      "742900.0\n",
      "2674440.0\n",
      "9694845.0\n",
      "35357670.0\n"
     ]
    }
   ],
   "source": [
    "f1= 1\n",
    "f3 = 0\n",
    "while f1<10**8:\n",
    "    print(f1)\n",
    "    f3= f3+1\n",
    "    f1 = (((4*(f3))+2)/(f3+2))*f1"
   ]
  },
  {
   "cell_type": "code",
   "execution_count": null,
   "metadata": {},
   "outputs": [],
   "source": []
  },
  {
   "cell_type": "code",
   "execution_count": null,
   "metadata": {},
   "outputs": [],
   "source": []
  },
  {
   "cell_type": "markdown",
   "metadata": {},
   "source": [
    "#### La estructura `for`\n",
    "\n",
    "Un ciclo tipo `for` se suele ocupar para llevar a cabo un número de iteraciones que se conoce de antemano. En el bucle de tipo `for`, encontramos una diferencia importante con respecto a lenguajes más tradicionales:\n",
    "\n",
    "Se puede iterar sobre cualquier lista y ejecutar un bloque de código para cada elemento de la lista:"
   ]
  },
  {
   "cell_type": "code",
   "execution_count": null,
   "metadata": {},
   "outputs": [],
   "source": [
    "r = [ 1, 3, 5]\n",
    "\n",
    "for n in r:\n",
    "    print(n)\n",
    "    print(2*n)\n",
    "print(\"Termine!\")"
   ]
  },
  {
   "cell_type": "code",
   "execution_count": null,
   "metadata": {},
   "outputs": [],
   "source": [
    "l = [1, 2.5, -3.71, \"hola\", [2, 3]]\n",
    "\n",
    "for i in l:\n",
    "    print(2*l)"
   ]
  },
  {
   "cell_type": "markdown",
   "metadata": {},
   "source": [
    "Si queremos iterar sobre muchos elementos, es más útil construir la lista con `range`."
   ]
  },
  {
   "cell_type": "code",
   "execution_count": null,
   "metadata": {},
   "outputs": [],
   "source": [
    "r = range(5)\n",
    "print(\"Hola!\")\n",
    "\n",
    "for n in r:\n",
    "    print(\"Hola de nuevo!\")"
   ]
  },
  {
   "cell_type": "markdown",
   "metadata": {},
   "source": [
    " Por ejemplo, para hacer una iteración para todos los números pares hasta 100, podemos utilizar:"
   ]
  },
  {
   "cell_type": "code",
   "execution_count": null,
   "metadata": {},
   "outputs": [],
   "source": [
    "for i in range(100):\n",
    "    print(2*i)"
   ]
  },
  {
   "cell_type": "markdown",
   "metadata": {},
   "source": [
    "\n",
    "Recordemos que la función `range` crea una lista de `N` elementos comenzado en el *$0$*. O también podemos usar\n"
   ]
  },
  {
   "cell_type": "code",
   "execution_count": null,
   "metadata": {},
   "outputs": [],
   "source": [
    "for i in range(3,57,3):\n",
    "    print(2*i)"
   ]
  },
  {
   "cell_type": "markdown",
   "metadata": {},
   "source": [
    "Para poder indicar **`un inicio`**, **`un fin`** y **`un incremento`** de paso en la iteración."
   ]
  },
  {
   "cell_type": "markdown",
   "metadata": {},
   "source": [
    "Recordemos también que `range` sólo funciona con enteros. Por lo que el siguiente programa nos arrojará un error:"
   ]
  },
  {
   "cell_type": "code",
   "execution_count": null,
   "metadata": {},
   "outputs": [],
   "source": [
    "p = 10\n",
    "q =2\n",
    "for n in range(p/q):\n",
    "    print(n)"
   ]
  },
  {
   "cell_type": "markdown",
   "metadata": {},
   "source": [
    "Para poder corregir esto podemos usar la parte entera:"
   ]
  },
  {
   "cell_type": "code",
   "execution_count": null,
   "metadata": {},
   "outputs": [],
   "source": [
    "for n in range(p//q):\n",
    "    print(n)"
   ]
  },
  {
   "cell_type": "markdown",
   "metadata": {},
   "source": [
    "O bien la función `arange` de **`numpy`**."
   ]
  },
  {
   "cell_type": "code",
   "execution_count": null,
   "metadata": {},
   "outputs": [],
   "source": [
    "from numpy import arange\n",
    "\n",
    "for n in arange(p/q):\n",
    "    print(n)"
   ]
  },
  {
   "cell_type": "markdown",
   "metadata": {},
   "source": [
    "#### **Ejercicio:** \n",
    "\n",
    "Escribe un programa que realice la siguiente suma:\n",
    "\n",
    "<h4 align=\"center\">$\\displaystyle s = \\sum_{k=1}^{100} \\dfrac{1}{k}$</h4> "
   ]
  },
  {
   "cell_type": "code",
   "execution_count": null,
   "metadata": {},
   "outputs": [],
   "source": []
  },
  {
   "cell_type": "code",
   "execution_count": null,
   "metadata": {},
   "outputs": [],
   "source": []
  },
  {
   "cell_type": "markdown",
   "metadata": {},
   "source": [
    "#### **Ejercicio:** \n",
    "\n",
    "Ahora escribe un programa que realice la suma de los cuadrados de los valores tomados de un archivo de texto:\n",
    "\n",
    "<h4 align=\"center\">$\\displaystyle s = \\sum x^2 \\; \\; \\; \\forall x \\in V_{txt}$</h4> "
   ]
  },
  {
   "cell_type": "code",
   "execution_count": null,
   "metadata": {},
   "outputs": [],
   "source": []
  },
  {
   "cell_type": "code",
   "execution_count": null,
   "metadata": {},
   "outputs": [],
   "source": []
  },
  {
   "cell_type": "code",
   "execution_count": null,
   "metadata": {},
   "outputs": [],
   "source": []
  },
  {
   "cell_type": "markdown",
   "metadata": {},
   "source": [
    "### **Ejemplo:** Lineas de emisión de Hidrogeno \n",
    "\n",
    "En 1888 Johannes Rydberg publicó su famosa fórmula para las longitudes de onda $\\lambda$ de las líneas de emisión del átomo de hidrógeno:\n",
    "\n",
    "<h3 align=\"center\">$\\displaystyle \\dfrac{1}{\\lambda} = R \\left(\\dfrac{1}{m^2} - \\dfrac{1}{n^2} \\right)$</h3> \n",
    "\n",
    "donde $R$ es la constante de Rydberg $R = 1.097 × 10^{-2}$ nm$^{-1}$ y $m$ y $n$ son números enteros positivos. Para un valor dado de $m$, las longitudes de onda $\\lambda$ dadas por esta fórmula para todo $n > m$ forman una serie, las tres primeras de tales series, para $m = 1$, $2$ y $3$, se conocen como series de *Lyman*, *Balmer* y *Paschen* en honor a sus respectivos descubridores.\n",
    "\n",
    "Para resumir varias de las cosas vistas, a continuación escribiremos un breve programa de ejemplo, que imprime las longitudes de onda de las primeras cinco líneas en cada una de estas tres series:\n"
   ]
  },
  {
   "cell_type": "code",
   "execution_count": null,
   "metadata": {},
   "outputs": [],
   "source": [
    "R = 1.097e-2\n",
    "\n",
    "for m in range(1,4):    \n",
    "    print(\"\\n Serie para m =\",m)    \n",
    "    for n in range(m+1,m+6):\n",
    "        invlambda = R*(1/m**2-1/n**2)\n",
    "        print(\"  \",1/invlambda,\"nm\")\n"
   ]
  },
  {
   "cell_type": "markdown",
   "metadata": {},
   "source": [
    "## 1.1.3  Funciones y bibliotecas para cómputo científico"
   ]
  },
  {
   "cell_type": "markdown",
   "metadata": {},
   "source": [
    "### Funciones\n",
    "\n",
    "Las funciones se pueden considerar como subprogramas que ejecutan una tarea dada, pueden contener variables propias (locales) así como estructuras de control y cálculos en su interior. En *Python*, las funciones pueden o no aceptar argumentos, y pueden o no regresar resultados.\n",
    "\n",
    "La sintaxis para declarar una función es como sigue:"
   ]
  },
  {
   "cell_type": "code",
   "execution_count": null,
   "metadata": {},
   "outputs": [],
   "source": [
    "def f(x):\n",
    "    print \"Argumento x = \", x\n",
    "    return x*x"
   ]
  },
  {
   "cell_type": "markdown",
   "metadata": {},
   "source": [
    "y se llama así:"
   ]
  },
  {
   "cell_type": "code",
   "execution_count": null,
   "metadata": {},
   "outputs": [],
   "source": [
    "f(3)\n",
    "f(3.5)"
   ]
  },
  {
   "cell_type": "markdown",
   "metadata": {},
   "source": [
    "Las funciones se pueden utilizar con argumentos de cualquier tipo (el tipo de los argumentos nunca se especifica). Si las operaciones llevadas a cabo no se permiten para el tipo que se provee, entonces *Python* regresa un error:"
   ]
  },
  {
   "cell_type": "code",
   "execution_count": null,
   "metadata": {},
   "outputs": [],
   "source": [
    "f(\"hola\")"
   ]
  },
  {
   "cell_type": "markdown",
   "metadata": {},
   "source": [
    "Las funciones pueden regresar varios resultados al juntarlos en un *tuple* (n-ada):"
   ]
  },
  {
   "cell_type": "code",
   "execution_count": 6,
   "metadata": {},
   "outputs": [],
   "source": [
    "def f(x, y):\n",
    "    return 2*x, 3*y"
   ]
  },
  {
   "cell_type": "code",
   "execution_count": 7,
   "metadata": {},
   "outputs": [
    {
     "data": {
      "text/plain": [
       "(6, 12)"
      ]
     },
     "execution_count": 7,
     "metadata": {},
     "output_type": "execute_result"
    }
   ],
   "source": [
    "f(3,4)"
   ]
  },
  {
   "cell_type": "markdown",
   "metadata": {},
   "source": [
    "#### **Ejercicio:** \n",
    "\n",
    "Escribe una función que tome como argumento un número entero y que regrese el factorial del mismo.\n",
    "\n",
    "<h4 align=\"center\">$\\displaystyle n! = \\prod_{i=1}^n i$</h4> \n",
    "\n",
    "Y pruebala para diferentes valores."
   ]
  },
  {
   "cell_type": "code",
   "execution_count": 2,
   "metadata": {},
   "outputs": [
    {
     "name": "stdin",
     "output_type": "stream",
     "text": [
      "Numero entero 5\n"
     ]
    },
    {
     "name": "stdout",
     "output_type": "stream",
     "text": [
      "120\n"
     ]
    }
   ],
   "source": [
    "x = int(input(\"Numero entero\"))\n",
    "def factorial(x):\n",
    "    m = 1 \n",
    "    v = []\n",
    "    for i in range(1,x+1):\n",
    "        m = m * i \n",
    "        v.append(m)\n",
    "    return(m)\n",
    "print(factorial(x))"
   ]
  },
  {
   "cell_type": "code",
   "execution_count": 1,
   "metadata": {},
   "outputs": [],
   "source": [
    "def fact(n):\n",
    "    if n == 1 or n == 0:\n",
    "        return 1\n",
    "    else: \n",
    "        return n*fact(n-1)"
   ]
  },
  {
   "cell_type": "code",
   "execution_count": 5,
   "metadata": {},
   "outputs": [
    {
     "data": {
      "text/plain": [
       "24"
      ]
     },
     "execution_count": 5,
     "metadata": {},
     "output_type": "execute_result"
    }
   ],
   "source": [
    "fact(4)"
   ]
  },
  {
   "cell_type": "markdown",
   "metadata": {},
   "source": [
    "Se puede proporcionar una forma sencilla de documentación de una función al proporcionar un *docstring* (cadena de documentación):"
   ]
  },
  {
   "cell_type": "code",
   "execution_count": 2,
   "metadata": {},
   "outputs": [],
   "source": [
    "def cuad(x):\n",
    "    \"\"\"Funcion para elevar un numero al cuadrado.\n",
    "    Funciona siempre y cuando el tipo de x permita la multiplicacion.\n",
    "    \"\"\"\n",
    "    return x*x"
   ]
  },
  {
   "cell_type": "markdown",
   "metadata": {},
   "source": [
    "Ahora si interrogamos al objeto `cuad` (con ipython o Jupyter):"
   ]
  },
  {
   "cell_type": "code",
   "execution_count": 3,
   "metadata": {},
   "outputs": [
    {
     "data": {
      "text/plain": [
       "\u001b[0;31mSignature:\u001b[0m \u001b[0mcuad\u001b[0m\u001b[0;34m(\u001b[0m\u001b[0mx\u001b[0m\u001b[0;34m)\u001b[0m\u001b[0;34m\u001b[0m\u001b[0;34m\u001b[0m\u001b[0m\n",
       "\u001b[0;31mDocstring:\u001b[0m\n",
       "Funcion para elevar un numero al cuadrado.\n",
       "Funciona siempre y cuando el tipo de x permita la multiplicacion.\n",
       "\u001b[0;31mFile:\u001b[0m      /tmp/ipykernel_3198/4072522639.py\n",
       "\u001b[0;31mType:\u001b[0m      function"
      ]
     },
     "metadata": {},
     "output_type": "display_data"
    }
   ],
   "source": [
    "cuad?"
   ]
  },
  {
   "cell_type": "markdown",
   "metadata": {},
   "source": [
    "nos da esta información. Si la función está definida en un archivo, entonces `cuad??` muestra el código de la definición de la función."
   ]
  },
  {
   "cell_type": "code",
   "execution_count": 4,
   "metadata": {},
   "outputs": [
    {
     "data": {
      "text/plain": [
       "\u001b[0;31mSignature:\u001b[0m \u001b[0mcuad\u001b[0m\u001b[0;34m(\u001b[0m\u001b[0mx\u001b[0m\u001b[0;34m)\u001b[0m\u001b[0;34m\u001b[0m\u001b[0;34m\u001b[0m\u001b[0m\n",
       "\u001b[0;31mSource:\u001b[0m   \n",
       "\u001b[0;32mdef\u001b[0m \u001b[0mcuad\u001b[0m\u001b[0;34m(\u001b[0m\u001b[0mx\u001b[0m\u001b[0;34m)\u001b[0m\u001b[0;34m:\u001b[0m\u001b[0;34m\u001b[0m\n",
       "\u001b[0;34m\u001b[0m    \u001b[0;34m\"\"\"Funcion para elevar un numero al cuadrado.\u001b[0m\n",
       "\u001b[0;34m    Funciona siempre y cuando el tipo de x permita la multiplicacion.\u001b[0m\n",
       "\u001b[0;34m    \"\"\"\u001b[0m\u001b[0;34m\u001b[0m\n",
       "\u001b[0;34m\u001b[0m    \u001b[0;32mreturn\u001b[0m \u001b[0mx\u001b[0m\u001b[0;34m*\u001b[0m\u001b[0mx\u001b[0m\u001b[0;34m\u001b[0m\u001b[0;34m\u001b[0m\u001b[0m\n",
       "\u001b[0;31mFile:\u001b[0m      /tmp/ipykernel_3198/4072522639.py\n",
       "\u001b[0;31mType:\u001b[0m      function"
      ]
     },
     "metadata": {},
     "output_type": "display_data"
    }
   ],
   "source": [
    "cuad??"
   ]
  },
  {
   "cell_type": "markdown",
   "metadata": {},
   "source": [
    "#### **Ejercicio:** \n",
    "\n",
    "Supongamos, que tenemos un punto $p$ especificado en coordenadas cilíndricas $r$, $\\theta$, $z$. Escribe una función que tome como argumentos los valores de las cordenadas del punto ($r$,$\\theta$,$z$) para que regrese la distancia $d$ del origena a $p$ y pruebala para diferentes valores. \n",
    "\n",
    "*Hint:* La forma más sencilla es usar el teorema de Pitagoras."
   ]
  },
  {
   "cell_type": "code",
   "execution_count": 94,
   "metadata": {},
   "outputs": [
    {
     "name": "stdin",
     "output_type": "stream",
     "text": [
      "radio 1\n",
      "angulo 0\n",
      "z 1\n"
     ]
    },
    {
     "name": "stdout",
     "output_type": "stream",
     "text": [
      "1.4142135623730951\n"
     ]
    }
   ],
   "source": [
    "import math as mt\n",
    "p = [float(input(\"radio\")), float(input(\"angulo\")), float(input(\"z\"))]\n",
    "v0 = [0 , 0 , 0]\n",
    "def distancia(p):\n",
    "    x = p[0]*(mt.cos(mt.radians(p[1])))\n",
    "    y = p[0]*(mt.sin(mt.radians(p[1])))\n",
    "    z = p[2]\n",
    "    d = mt.sqrt((x - v0[0])**2 + (y - v0[1])**2 + (z - v0[2])**2)\n",
    "    return(d) \n",
    "print(distancia(p))"
   ]
  },
  {
   "cell_type": "code",
   "execution_count": 76,
   "metadata": {},
   "outputs": [],
   "source": [
    "import math as mt\n",
    "def dist(r,theta,z):\n",
    "    theta = mt.radians(theta)\n",
    "    x = r*mt.cos(theta)\n",
    "    y = r*mt.sin(theta)\n",
    "    d = mt.sqrt(x**2 + y**2 + z**2)\n",
    "    return(d)"
   ]
  },
  {
   "cell_type": "code",
   "execution_count": 77,
   "metadata": {},
   "outputs": [
    {
     "data": {
      "text/plain": [
       "1.4142135623730951"
      ]
     },
     "execution_count": 77,
     "metadata": {},
     "output_type": "execute_result"
    }
   ],
   "source": [
    "dist(1,0,1)"
   ]
  },
  {
   "cell_type": "markdown",
   "metadata": {},
   "source": [
    "#### **Ejercicio:** \n",
    "\n",
    "Supongamos que tenemos un número entero $n$ y queremos saber sus **_factores primos_**. Los factores primos se pueden calcular con relativa facilidad dividiendo repetidamente por todos los números enteros desde 2 hasta $n$ y verificando si el resto es cero. \n",
    "\n",
    "Escribe una función que tome como argumento un número $n$ y devuelva una lista de sus factores primos."
   ]
  },
  {
   "cell_type": "code",
   "execution_count": null,
   "metadata": {},
   "outputs": [],
   "source": [
    "imp"
   ]
  },
  {
   "cell_type": "code",
   "execution_count": null,
   "metadata": {},
   "outputs": [],
   "source": []
  },
  {
   "cell_type": "code",
   "execution_count": null,
   "metadata": {},
   "outputs": [],
   "source": []
  },
  {
   "cell_type": "markdown",
   "metadata": {},
   "source": [
    "### BIBLIOTECAS.\n",
    "\n",
    "Se puede escribir un script que solo tenga definiciones de funciones, a la cual puede considerarse una biblioteca propia, y también se puede importarse:\n",
    "\n",
    "`from mi_biblioteca import *`\n",
    "\n",
    "Así podemos llamar a esta biblioteca dentro de otro script y usar sus funciones dentro de este.\n",
    "\n",
    "O bien se puede importar desde el *interprete de comandos python* (o el entrono **ipython** o **Jupyter**) con lo que podemos llamar esas funciones o ver sus características coma ya mencionamos."
   ]
  },
  {
   "cell_type": "markdown",
   "metadata": {},
   "source": [
    "Es posible importar las funciones de una biblioteca, ya sea una por una conforme las vayamos necesitando:"
   ]
  },
  {
   "cell_type": "code",
   "execution_count": null,
   "metadata": {},
   "outputs": [],
   "source": [
    "from math import log\n",
    "from math import exp"
   ]
  },
  {
   "cell_type": "markdown",
   "metadata": {},
   "source": [
    "varias a la vez:"
   ]
  },
  {
   "cell_type": "code",
   "execution_count": null,
   "metadata": {},
   "outputs": [],
   "source": [
    "from math import log,exp\n",
    "from math import log,exp,sin,cos,sqrt,pi,e"
   ]
  },
  {
   "cell_type": "markdown",
   "metadata": {},
   "source": [
    "O bien, todas de una sola vez:"
   ]
  },
  {
   "cell_type": "code",
   "execution_count": null,
   "metadata": {},
   "outputs": [],
   "source": [
    "from math import *"
   ]
  },
  {
   "cell_type": "markdown",
   "metadata": {},
   "source": [
    "o de manera alternativa"
   ]
  },
  {
   "cell_type": "code",
   "execution_count": null,
   "metadata": {},
   "outputs": [],
   "source": [
    "import math "
   ]
  },
  {
   "cell_type": "markdown",
   "metadata": {},
   "source": [
    "Asimismo, podemos importar una función desde un módulo particular de una biblioteca, de la siguiente manera:"
   ]
  },
  {
   "cell_type": "code",
   "execution_count": null,
   "metadata": {},
   "outputs": [],
   "source": [
    "from numpy.linalg import inv"
   ]
  },
  {
   "cell_type": "markdown",
   "metadata": {},
   "source": [
    "Una forma muy comun de importar una biblioteca es poniendo un alias (sobrenombre), por ejemplo:"
   ]
  },
  {
   "cell_type": "code",
   "execution_count": null,
   "metadata": {},
   "outputs": [],
   "source": [
    "import math as mt"
   ]
  },
  {
   "cell_type": "markdown",
   "metadata": {},
   "source": [
    "Lo anterior nos permite importar varias bibliotecas a la vez, pero tener sus funcionalidades separadas, sin que se confundan\n"
   ]
  },
  {
   "cell_type": "code",
   "execution_count": 1,
   "metadata": {},
   "outputs": [],
   "source": [
    "import math as mt\n",
    "import numpy as np\n",
    "import matplotlib.pyplot as plt"
   ]
  },
  {
   "cell_type": "code",
   "execution_count": null,
   "metadata": {},
   "outputs": [],
   "source": [
    "np.pi"
   ]
  },
  {
   "cell_type": "code",
   "execution_count": null,
   "metadata": {},
   "outputs": [],
   "source": [
    "math.sin(np.pi/2)"
   ]
  },
  {
   "cell_type": "code",
   "execution_count": null,
   "metadata": {},
   "outputs": [],
   "source": [
    "plt.plot?"
   ]
  },
  {
   "cell_type": "markdown",
   "metadata": {},
   "source": [
    "## 1.1.4 ENTRADA y SALIDA de datos.\n",
    "\n",
    "### ENTRADA\n",
    "\n",
    "Como ya hemos visto, se puede pedir información del usuario con `input()`\n",
    "\n"
   ]
  },
  {
   "cell_type": "code",
   "execution_count": null,
   "metadata": {},
   "outputs": [],
   "source": [
    "a = float(input('Dame el valor de a: '))\n",
    "\n",
    "print(\"El cuadrado de a es \", a*a)"
   ]
  },
  {
   "cell_type": "markdown",
   "metadata": {},
   "source": [
    "Sin embargo, uno de los usos principales de Python para el cómputo científico es el de **procesar datos** generados en otro lado. Por lo tanto, es necesario saber cómo importar y exportar archivos."
   ]
  },
  {
   "cell_type": "markdown",
   "metadata": {},
   "source": [
    "#### Leer archivos\n",
    "\n",
    "Para leer un archivo, primero es necesario abrirlo para leerse. Supongamos que tenemos un archivo llamado *datos.dat*, entonces lo podemos abrir para su lectura con:"
   ]
  },
  {
   "cell_type": "code",
   "execution_count": 19,
   "metadata": {},
   "outputs": [],
   "source": [
    "entrada = open(\"datos.dat\", \"r\")    # esto es un buffer"
   ]
  },
  {
   "cell_type": "code",
   "execution_count": 18,
   "metadata": {},
   "outputs": [
    {
     "data": {
      "text/plain": [
       "['54\\n',\n",
       " '6465\\n',\n",
       " '54\\n',\n",
       " '54\\n',\n",
       " '65\\n',\n",
       " '54\\n',\n",
       " '4\\n',\n",
       " '54\\n',\n",
       " '5\\n',\n",
       " '5\\n',\n",
       " '65\\n',\n",
       " '3546\\n',\n",
       " '534354']"
      ]
     },
     "execution_count": 18,
     "metadata": {},
     "output_type": "execute_result"
    }
   ],
   "source": [
    "entrada.readlines()"
   ]
  },
  {
   "cell_type": "markdown",
   "metadata": {},
   "source": [
    "El segundo argumento, `\"r\"`, es para indicar que se va a leer (*“read”*) el archivo. \n",
    "\n",
    "El objeto `entrada` ahora representa el archivo."
   ]
  },
  {
   "cell_type": "markdown",
   "metadata": {},
   "source": [
    "Para leer del archivo abierto, hay varias posibilidades. \n",
    "Podemos leer todo de un golpe con `entrada.read()`, \n",
    "\n",
    "leer todo por líneas con `entrada.readlines()`, \n",
    "\n",
    "o línea por línea con `entrada.readline()`. \n",
    "\n",
    "Sin embargo, lo que se ha leído ya no se puede leer de nuevo sin cerrar el archivo con `entrada.close()` y volverlo a abrir.\n",
    "\n",
    "Por ejemplo, podemos utilizar"
   ]
  },
  {
   "cell_type": "code",
   "execution_count": 13,
   "metadata": {},
   "outputs": [
    {
     "name": "stdout",
     "output_type": "stream",
     "text": [
      "54\n",
      "\n",
      "6465\n",
      "\n",
      "54\n",
      "\n",
      "54\n",
      "\n",
      "65\n",
      "\n",
      "54\n",
      "\n",
      "4\n",
      "\n",
      "54\n",
      "\n",
      "5\n",
      "\n",
      "5\n",
      "\n",
      "65\n",
      "\n",
      "3546\n",
      "\n",
      "534354\n"
     ]
    }
   ],
   "source": [
    "for linea in entrada.readlines():\n",
    "    print(linea)"
   ]
  },
  {
   "cell_type": "markdown",
   "metadata": {},
   "source": [
    "Sin embargo, tal vez la opción más fácil e intuitiva es:"
   ]
  },
  {
   "cell_type": "code",
   "execution_count": 16,
   "metadata": {},
   "outputs": [
    {
     "name": "stdout",
     "output_type": "stream",
     "text": [
      "54\n",
      "\n",
      "6465\n",
      "\n",
      "54\n",
      "\n",
      "54\n",
      "\n",
      "65\n",
      "\n",
      "54\n",
      "\n",
      "4\n",
      "\n",
      "54\n",
      "\n",
      "5\n",
      "\n",
      "5\n",
      "\n",
      "65\n",
      "\n",
      "3546\n",
      "\n",
      "534354\n"
     ]
    }
   ],
   "source": [
    "for linea in entrada:\n",
    "    print(linea)"
   ]
  },
  {
   "cell_type": "code",
   "execution_count": null,
   "metadata": {},
   "outputs": [],
   "source": []
  },
  {
   "cell_type": "code",
   "execution_count": 2,
   "metadata": {},
   "outputs": [],
   "source": [
    "entrada = open(\"datos.dat\",\"r\")"
   ]
  },
  {
   "cell_type": "code",
   "execution_count": 14,
   "metadata": {},
   "outputs": [],
   "source": [
    "listavacia = []\n",
    "entrada = open(\"datos.dat\",\"r\")\n",
    "for linea in entrada:\n",
    "        for numero in linea.split():\n",
    "            listavacia.append(float(numero.strip()))\n",
    "#            print(numero) "
   ]
  },
  {
   "cell_type": "code",
   "execution_count": 4,
   "metadata": {},
   "outputs": [
    {
     "name": "stdout",
     "output_type": "stream",
     "text": [
      "[0.0, 8.0, 1.0, 23.0, 2.0, 48.0, 3.0, 83.0, 4.0, 128.0, 5.0, 183.0, 6.0, 248.0, 7.0, 323.0, 8.0, 408.0, 9.0, 503.0, 10.0, 608.0, 11.0, 723.0, 12.0, 848.0, 13.0, 983.0, 14.0, 1128.0, 15.0, 1283.0, 16.0, 1448.0, 17.0, 1623.0, 18.0, 1808.0, 19.0, 2003.0, 20.0, 2208.0, 21.0, 2423.0, 22.0, 2648.0, 23.0, 2883.0, 24.0, 3128.0, 25.0, 3383.0, 26.0, 3648.0, 27.0, 3923.0, 28.0, 4208.0, 29.0, 4503.0, 30.0, 4808.0, 31.0, 5123.0, 32.0, 5448.0, 33.0, 5783.0, 34.0, 6128.0, 35.0, 6483.0, 36.0, 6848.0, 37.0, 7223.0, 38.0, 7608.0, 39.0, 8003.0, 40.0, 8408.0, 41.0, 8823.0, 42.0, 9248.0, 43.0, 9683.0, 44.0, 10128.0, 45.0, 10583.0, 46.0, 11048.0, 47.0, 11523.0, 48.0, 12008.0, 49.0, 12503.0, 50.0, 13008.0, 51.0, 13523.0, 52.0, 14048.0, 53.0, 14583.0, 54.0, 15128.0, 55.0, 15683.0, 56.0, 16248.0, 57.0, 16823.0, 58.0, 17408.0, 59.0, 18003.0, 60.0, 18608.0, 61.0, 19223.0, 62.0, 19848.0, 63.0, 20483.0, 64.0, 21128.0, 65.0, 21783.0, 66.0, 22448.0, 67.0, 23123.0, 68.0, 23808.0, 69.0, 24503.0, 70.0, 25208.0, 71.0, 25923.0, 72.0, 26648.0, 73.0, 27383.0, 74.0, 28128.0, 75.0, 28883.0, 76.0, 29648.0, 77.0, 30423.0, 78.0, 31208.0, 79.0, 32003.0, 80.0, 32808.0, 81.0, 33623.0, 82.0, 34448.0, 83.0, 35283.0, 84.0, 36128.0, 85.0, 36983.0, 86.0, 37848.0, 87.0, 38723.0, 88.0, 39608.0, 89.0, 40503.0, 90.0, 41408.0, 91.0, 42323.0, 92.0, 43248.0, 93.0, 44183.0, 94.0, 45128.0, 95.0, 46083.0, 96.0, 47048.0, 97.0, 48023.0, 98.0, 49008.0, 99.0, 50003.0]\n"
     ]
    }
   ],
   "source": [
    "print(listavacia)"
   ]
  },
  {
   "cell_type": "code",
   "execution_count": 7,
   "metadata": {},
   "outputs": [
    {
     "data": {
      "text/plain": [
       "float"
      ]
     },
     "execution_count": 7,
     "metadata": {},
     "output_type": "execute_result"
    }
   ],
   "source": [
    "type(listavacia[0])"
   ]
  },
  {
   "cell_type": "markdown",
   "metadata": {},
   "source": [
    "Es decir, el archivo ¡se comporta como una secuencia!\n",
    "\n",
    "Ahora bien, la línea viene como una sola cadena, con espacios etc. Para extraer la información, primero necesitamos dividirlo en palabras:"
   ]
  },
  {
   "cell_type": "code",
   "execution_count": 15,
   "metadata": {},
   "outputs": [],
   "source": [
    "palabras = linea.split()"
   ]
  },
  {
   "cell_type": "code",
   "execution_count": 16,
   "metadata": {},
   "outputs": [
    {
     "data": {
      "text/plain": [
       "['99', '50003']"
      ]
     },
     "execution_count": 16,
     "metadata": {},
     "output_type": "execute_result"
    }
   ],
   "source": [
    "palabras"
   ]
  },
  {
   "cell_type": "markdown",
   "metadata": {},
   "source": [
    "Si todos los datos en realidad son números, entonces tenemos que procesar cada palabra, convirtiéndola en un número:"
   ]
  },
  {
   "cell_type": "code",
   "execution_count": 17,
   "metadata": {},
   "outputs": [],
   "source": [
    "datos = []\n",
    "for i in palabras:\n",
    "    datos.append(float(i))"
   ]
  },
  {
   "cell_type": "markdown",
   "metadata": {},
   "source": [
    "Resulta que hay una manera más fácil, de más alto nivel y más rápida de hacer esto:"
   ]
  },
  {
   "cell_type": "code",
   "execution_count": 18,
   "metadata": {},
   "outputs": [
    {
     "data": {
      "text/plain": [
       "<map at 0x7f7f5306c820>"
      ]
     },
     "execution_count": 18,
     "metadata": {},
     "output_type": "execute_result"
    }
   ],
   "source": [
    "map(float, palabras)"
   ]
  },
  {
   "cell_type": "markdown",
   "metadata": {},
   "source": [
    "Eso literalmente mapea la función float sobre la lista palabras."
   ]
  },
  {
   "cell_type": "markdown",
   "metadata": {},
   "source": [
    "Combinando todo, podemos escribir:"
   ]
  },
  {
   "cell_type": "code",
   "execution_count": 12,
   "metadata": {},
   "outputs": [],
   "source": [
    "entrada = open(\"datos.dat\", \"r\")\n",
    "\n",
    "for linea in entrada:\n",
    "    datos = map(float, linea.split())"
   ]
  },
  {
   "cell_type": "markdown",
   "metadata": {},
   "source": [
    "Y ya dentro del bucle podemos manipular los datos como queramos."
   ]
  },
  {
   "cell_type": "markdown",
   "metadata": {},
   "source": [
    "#### **Ejercicio:** \n",
    "\n",
    "Escribe un programa que lea el archivo `datos.dat` y guarde en una arreglo de `numpy` los datos de la primera columna y en otro diferente los datos de la segunda columna."
   ]
  },
  {
   "cell_type": "code",
   "execution_count": 4,
   "metadata": {},
   "outputs": [],
   "source": [
    "datos = []\n",
    "entrada = open(\"datos.dat\", \"r\")\n",
    "\n",
    "for linea in entrada:     # creamos un bufer y guardamos cada linea en la lista datos\n",
    "    datos.append(linea)"
   ]
  },
  {
   "cell_type": "code",
   "execution_count": 9,
   "metadata": {},
   "outputs": [],
   "source": [
    "A = []\n",
    "B = []\n",
    "\n",
    "for d in datos:        # para cada linea en la lista datos\n",
    "    data = d.split('\\t')     # separamos los datos por tabulador, resultando en un vector de dos estradas\n",
    "    A.append(float(data[0].strip()))     # quitamos a la primera entrada los espacios y otros caracteres y lo guardamos como flotante en la lista A\n",
    "    B.append(float(data[1].strip()))     # lo mismo para la segunda entrada y la lista B\n",
    "\n",
    "A = np.array(A)    # finalmente transformamos la listas A y B, en arreglos de numpy\n",
    "B = np.array(B)"
   ]
  },
  {
   "cell_type": "code",
   "execution_count": null,
   "metadata": {},
   "outputs": [],
   "source": []
  },
  {
   "cell_type": "markdown",
   "metadata": {},
   "source": [
    "### SALIDA\n",
    "\n",
    "Como ya hemos visto en el *interprete de comandos python*, en *ipython* o *Jupyter*, para mandar un resultado a la salida simplemente hay que definirlo y después escribirlo y presionar enter."
   ]
  },
  {
   "cell_type": "code",
   "execution_count": null,
   "metadata": {},
   "outputs": [],
   "source": [
    "a = 17.3\n",
    "a"
   ]
  },
  {
   "cell_type": "code",
   "execution_count": null,
   "metadata": {},
   "outputs": [],
   "source": [
    "b = \"hola\"\n",
    "b"
   ]
  },
  {
   "cell_type": "markdown",
   "metadata": {},
   "source": [
    "Adicionalmente se puede utilizar el comando `print()`"
   ]
  },
  {
   "cell_type": "code",
   "execution_count": null,
   "metadata": {},
   "outputs": [],
   "source": [
    "print(\"imprimiendo datos\", a, b)"
   ]
  },
  {
   "cell_type": "markdown",
   "metadata": {},
   "source": [
    "También, como ya lo vimos, si ejecutamos nuestro codigo como un *script* (de python) desde la terminal (**_bash_**), podemos mandar las salida del programa a un archivo con:\n",
    "\n",
    "`python script.py > salida.dat`"
   ]
  },
  {
   "cell_type": "markdown",
   "metadata": {},
   "source": [
    "El método de redirigir la salida es rápido y fácil. Sin embargo, no es de ninguna manera flexible, por ejemplo no podemos especificar desde nuestro programa el nombre del archivo de salida, ni escribir en dos archivos diferentes. Para hacer eso, necesitamos poder abrir un archivo para escribirse:"
   ]
  },
  {
   "cell_type": "code",
   "execution_count": null,
   "metadata": {},
   "outputs": [],
   "source": [
    "salida = open(\"resultados.dat\", \"w\")  # Esto es un buffer de salida"
   ]
  },
  {
   "cell_type": "markdown",
   "metadata": {},
   "source": [
    "La parte más complicada viene al momento de escribir en el archivo. Para hacerlo, ocupamos la función:\n",
    "\n",
    "`salida.write()`"
   ]
  },
  {
   "cell_type": "markdown",
   "metadata": {},
   "source": [
    "Sin embargo, esta función puede escribir solamente cadenas. Por lo tanto, si queremos escribir números contenidos en variables, es necesario convertirlos primero a la forma de cadena.\n",
    "\n",
    "Una manera de hacer eso es con la función str(), y concatenar (juntar) distintas cadenas con +:\n",
    "\n"
   ]
  },
  {
   "cell_type": "code",
   "execution_count": null,
   "metadata": {},
   "outputs": [],
   "source": [
    "a = 3\n",
    "s = \"El valor de a es \" + str(a)\n",
    "\n",
    "print(s)"
   ]
  },
  {
   "cell_type": "markdown",
   "metadata": {},
   "source": [
    "Sin embargo, para largas secuencias de datos eso se vuelve latoso."
   ]
  },
  {
   "cell_type": "markdown",
   "metadata": {},
   "source": [
    "La manera más elegante de hacerlo es con la sustitución de variables en cadenas . En una cadena ponemos una secuencia especial de caracteres, empezando por `%`, que indica que se sustituirá el valor de una variable:"
   ]
  },
  {
   "cell_type": "code",
   "execution_count": null,
   "metadata": {},
   "outputs": [],
   "source": [
    "a = 3\n",
    "s = \"El valor de a es %d\" % a\n",
    "\n",
    "b = 3.5; c = 10.1\n",
    "s = \"b = %g; c = %g\" % (b, c)"
   ]
  },
  {
   "cell_type": "markdown",
   "metadata": {},
   "source": [
    "El carácter después del `%` indica el tipo de variable que incluir en la cadena: \n",
    "\n",
    "- **`d`** corresponde a un _**entero**_, \n",
    "\n",
    "\n",
    "- **`g`**  o **`f`**  a un _**flotante**_ y \n",
    "\n",
    "\n",
    "- **`s`**  a _**otra cadena**_.\n",
    "\n",
    "\n",
    "Finalmente ahora podemos imprimir en el archivo, por ejemplo:"
   ]
  },
  {
   "cell_type": "code",
   "execution_count": null,
   "metadata": {},
   "outputs": [],
   "source": [
    "salida.write(\" %g\\t %g\" % (a,b) )"
   ]
  },
  {
   "cell_type": "markdown",
   "metadata": {},
   "source": [
    "Aquí, **`\\t`** representa un tabulador, y **`\\n`** una nueva línea."
   ]
  },
  {
   "cell_type": "markdown",
   "metadata": {},
   "source": [
    "#### Ejemplo"
   ]
  },
  {
   "cell_type": "code",
   "execution_count": null,
   "metadata": {},
   "outputs": [],
   "source": [
    "def fibonacci(n):\n",
    "    \n",
    "    output = []\n",
    "    \n",
    "    f1,f2 = 1,1\n",
    "\n",
    "    while f2 < n:\n",
    "        output.append(f2)        \n",
    "        f1,f2 = f2,f1+f2\n",
    "    \n",
    "    return output\n"
   ]
  },
  {
   "cell_type": "code",
   "execution_count": null,
   "metadata": {},
   "outputs": [],
   "source": [
    "fibo = fibonacci(100)\n",
    "\n",
    "outputBuff = open(\"fibonacci.dat\", \"w\")\n",
    "\n",
    "for n in fibo:\n",
    "    outputBuff.write(\"%d \\n\" % n)\n",
    "#     outputBuff.write(\"%f \\n\" % n)\n",
    "\n",
    "outputBuff.close()"
   ]
  },
  {
   "cell_type": "code",
   "execution_count": null,
   "metadata": {},
   "outputs": [],
   "source": [
    "fibo2 = fibonacci(1000)\n",
    "\n",
    "with open(\"fibonacci2.dat\", 'a') as out:\n",
    "    for n in fibo2:\n",
    "        out.write(str(n) + '\\n')"
   ]
  },
  {
   "cell_type": "code",
   "execution_count": null,
   "metadata": {},
   "outputs": [],
   "source": []
  },
  {
   "cell_type": "markdown",
   "metadata": {},
   "source": [
    "## Scripts de Python."
   ]
  },
  {
   "cell_type": "markdown",
   "metadata": {},
   "source": [
    "Una vez que las secuencias de comandos se complican, podría pasar que queramos repetir la misma secuencia varias veces o bien reusar algunas secuencias de comandos, sin embargo esto significaría reescribir todo nuevamente en el interprete de comandos, o estar editando y volviendo a correr las celdas en *Jupyter*.\n",
    "\n",
    "Entonces sería conveniente poder guardar bloques de instrucciones completos y correrlos de una sola vez.\n",
    "Esto es posible realizando un *programa*, o _**script**_. \n",
    "\n",
    "Esto consiste en un **archivo de texto**, cuyo nombre termina en **.py**, en el cual se escribe y guarda la secuencia de comandos.\n",
    "\n",
    "Por ejemplo, consideremos el siguiente código: "
   ]
  },
  {
   "cell_type": "code",
   "execution_count": null,
   "metadata": {},
   "outputs": [],
   "source": [
    "from fractions import Fraction\n",
    "\n",
    "a = Fraction(3, 5)\n",
    "b = Fraction(1)\n",
    "c = a + b\n",
    "d = Fraction(4, 6)\n",
    "d \n",
    "e = a + d\n",
    "print a,b,c,d,e"
   ]
  },
  {
   "cell_type": "markdown",
   "metadata": {},
   "source": [
    "podemos escribirlo en un editor de textos y salvarlo como un archivo cuad.py. Y así entonces podemos correr el código desde **ipython** o _**Jupyter Notebook**_, de la siguiente manera:"
   ]
  },
  {
   "cell_type": "code",
   "execution_count": null,
   "metadata": {},
   "outputs": [],
   "source": [
    "run cuad.py"
   ]
  },
  {
   "cell_type": "markdown",
   "metadata": {},
   "source": [
    "**Nota:** si no estamos en el mismo directorio donde se guardo el archivo script.py, habrá que especificar la ruta relativa o absoluta según sea el caso."
   ]
  },
  {
   "cell_type": "markdown",
   "metadata": {},
   "source": [
    "Alternativamente, podemos tratar el script como un *programa* (en Linux) en sí, y **ejecutarlo desde el shell**:\n",
    "\n",
    "**`$>`**`python cuad.py`\n",
    "\n",
    "**Nota:** Al terminar, el control regresa al shell, y perdemos la información adentro del script."
   ]
  },
  {
   "cell_type": "markdown",
   "metadata": {},
   "source": [
    "Aunque no hay una forma rígida de programar, para escribir un buen script (programa) se puede seguir la siguiente estructura:\n",
    "\n",
    "- `Comentarios generales del programa`\n",
    "\n",
    "\n",
    "- `Importar bibliotecas (librerías o módulos)`\n",
    "\n",
    "\n",
    "- `Definir funciones`\n",
    "\n",
    "\n",
    "- `Definir variables globales`\n",
    "\n",
    "\n",
    "- `Comandos de entrada por parte del usuario (si es necesario)`\n",
    "\n",
    "\n",
    "- `Estructuras de control y/o cálculos`\n",
    "\n",
    "\n",
    "- `Comandos de salida (si es necesario)`"
   ]
  },
  {
   "cell_type": "markdown",
   "metadata": {},
   "source": [
    "Finalmente, es posible exportar los _**Cuadernos de Jupyter**_, como **scripts**, desde el menu *File*.\n",
    "Intentalo ..."
   ]
  },
  {
   "cell_type": "code",
   "execution_count": null,
   "metadata": {},
   "outputs": [],
   "source": []
  }
 ],
 "metadata": {
  "@webio": {
   "lastCommId": null,
   "lastKernelId": null
  },
  "kernelspec": {
   "display_name": "Python 3 (ipykernel)",
   "language": "python",
   "name": "python3"
  },
  "language_info": {
   "codemirror_mode": {
    "name": "ipython",
    "version": 3
   },
   "file_extension": ".py",
   "mimetype": "text/x-python",
   "name": "python",
   "nbconvert_exporter": "python",
   "pygments_lexer": "ipython3",
   "version": "3.12.4"
  }
 },
 "nbformat": 4,
 "nbformat_minor": 4
}
