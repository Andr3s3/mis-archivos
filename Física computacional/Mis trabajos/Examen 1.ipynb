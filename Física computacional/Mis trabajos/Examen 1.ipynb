{
 "cells": [
  {
   "cell_type": "markdown",
   "id": "a604ea98-d30a-4b40-8e9b-346ce064d2aa",
   "metadata": {},
   "source": [
    "**Ejercicio 2**"
   ]
  },
  {
   "cell_type": "code",
   "execution_count": 15,
   "id": "5cb9d24b-8ce3-463c-ae44-8d4942cd8c43",
   "metadata": {},
   "outputs": [
    {
     "ename": "NameError",
     "evalue": "name 'v' is not defined",
     "output_type": "error",
     "traceback": [
      "\u001b[0;31m---------------------------------------------------------------------------\u001b[0m",
      "\u001b[0;31mNameError\u001b[0m                                 Traceback (most recent call last)",
      "Cell \u001b[0;32mIn[15], line 36\u001b[0m\n\u001b[1;32m     34\u001b[0m     s \u001b[38;5;241m=\u001b[39m s \u001b[38;5;241m+\u001b[39m v[k]\n\u001b[1;32m     35\u001b[0m     \u001b[38;5;28;01mreturn\u001b[39;00m(s)\n\u001b[0;32m---> 36\u001b[0m \u001b[38;5;28mprint\u001b[39m(sumas(v))\n",
      "\u001b[0;31mNameError\u001b[0m: name 'v' is not defined"
     ]
    }
   ],
   "source": [
    "import math as mt\n",
    "def factk(k):\n",
    "    for i in range(0, 100):\n",
    "        fk = [] \n",
    "        if k == 0 or k ==1: \n",
    "            return 1\n",
    "        else:\n",
    "            return k*factk(k-1)\n",
    "        fk.append(factk)\n",
    "        return(fk)\n",
    "def factm(k):\n",
    "     for i in range(0, 100):\n",
    "        m = (2*k)+1\n",
    "        if m == 0 or m == 1:\n",
    "            return 1\n",
    "        else: \n",
    "            return m*factm(m-1)\n",
    "        fm.append(factm)\n",
    "        return(fm)\n",
    "def exp(k, num):\n",
    "    for i in range(0, 100):\n",
    "        ex = []\n",
    "        x = 2**k\n",
    "        ex.append(exp)\n",
    "        return(ex)\n",
    "def producto(fk,m,ex):\n",
    "    v = []\n",
    "    p = 2*(ex[j]*(fk[j])**2)/fm[j]\n",
    "    return(p)\n",
    "    v.append(p)\n",
    "    return(v)\n",
    "def sumas(v):\n",
    "    s = 0 \n",
    "    s = s + v[k]\n",
    "    return(s)\n",
    "print(sumas(v))"
   ]
  },
  {
   "cell_type": "markdown",
   "id": "8863e995-0f9b-4f12-872a-e9194e5dd85f",
   "metadata": {},
   "source": [
    "**Ejercicio 3**"
   ]
  },
  {
   "cell_type": "code",
   "execution_count": null,
   "id": "42ff13c1-0695-41e1-bad6-8ae825e9eea0",
   "metadata": {},
   "outputs": [],
   "source": [
    "import numpy as np\n",
    "x0 = 0 \n",
    "v = 5\n",
    "t0 = 0\n",
    "tf = 10 \n",
    "dats = 1000\n",
    "dt = (tf-ti)/(dats-1)\n",
    "t = np.linspace(t0, tf. dats)\n",
    "x = x0 + (v*t)\n",
    "with open(\"mru.txt\", \"w\") as file: \n",
    "    file.write.."
   ]
  },
  {
   "cell_type": "code",
   "execution_count": null,
   "id": "4871601f-b59b-472d-86df-f7be74dafa44",
   "metadata": {},
   "outputs": [],
   "source": [
    "import matplotlib.pyplot as plt\n",
    "ent = open(\"mru.txt\""
   ]
  }
 ],
 "metadata": {
  "kernelspec": {
   "display_name": "Python 3 (ipykernel)",
   "language": "python",
   "name": "python3"
  },
  "language_info": {
   "codemirror_mode": {
    "name": "ipython",
    "version": 3
   },
   "file_extension": ".py",
   "mimetype": "text/x-python",
   "name": "python",
   "nbconvert_exporter": "python",
   "pygments_lexer": "ipython3",
   "version": "3.12.4"
  }
 },
 "nbformat": 4,
 "nbformat_minor": 5
}
