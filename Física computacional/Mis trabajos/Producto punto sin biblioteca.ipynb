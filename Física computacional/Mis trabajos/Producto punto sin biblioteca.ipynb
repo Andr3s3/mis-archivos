{
 "cells": [
  {
   "cell_type": "code",
   "execution_count": 6,
   "id": "f0905652-a55d-44fe-bb1b-9d0b547976ca",
   "metadata": {},
   "outputs": [],
   "source": [
    "v1 = [1,2,3,4]\n",
    "v2 = [5,6,7,8]"
   ]
  },
  {
   "cell_type": "code",
   "execution_count": 4,
   "id": "ea435bd2-3a03-4d5f-88a9-e25273f39fb1",
   "metadata": {},
   "outputs": [
    {
     "data": {
      "text/plain": [
       "[1, 2, 3, 4]"
      ]
     },
     "execution_count": 4,
     "metadata": {},
     "output_type": "execute_result"
    }
   ],
   "source": [
    "v1"
   ]
  },
  {
   "cell_type": "code",
   "execution_count": 5,
   "id": "65cd783c-d172-4380-a9b2-82d3da71586e",
   "metadata": {},
   "outputs": [
    {
     "data": {
      "text/plain": [
       "[5, 6, 7, 8]"
      ]
     },
     "execution_count": 5,
     "metadata": {},
     "output_type": "execute_result"
    }
   ],
   "source": [
    "v2"
   ]
  },
  {
   "cell_type": "code",
   "execution_count": 19,
   "id": "d087d798-fb1b-4bf3-9293-9adbd03a7d34",
   "metadata": {},
   "outputs": [
    {
     "name": "stdout",
     "output_type": "stream",
     "text": [
      "algo\n",
      "algo\n"
     ]
    }
   ],
   "source": [
    "for i  in [0,5]:\n",
    "    print(\"algo\")"
   ]
  },
  {
   "cell_type": "code",
   "execution_count": 20,
   "id": "65734083-7d42-4d10-b986-cc99005d1211",
   "metadata": {},
   "outputs": [
    {
     "name": "stdout",
     "output_type": "stream",
     "text": [
      "range(0, 10)\n"
     ]
    }
   ],
   "source": [
    "r = range(10)\n",
    "print(r)"
   ]
  },
  {
   "cell_type": "code",
   "execution_count": 21,
   "id": "499c2661-71d5-4d94-9718-cc33af662fcf",
   "metadata": {},
   "outputs": [
    {
     "name": "stdout",
     "output_type": "stream",
     "text": [
      "algo\n",
      "algo\n",
      "algo\n",
      "algo\n",
      "algo\n"
     ]
    }
   ],
   "source": [
    "for i in range(5):\n",
    "    print(\"algo\")"
   ]
  },
  {
   "cell_type": "code",
   "execution_count": 22,
   "id": "f99272c6-27b6-4b9a-ab6f-b5467190c3b6",
   "metadata": {},
   "outputs": [
    {
     "name": "stdout",
     "output_type": "stream",
     "text": [
      "algo 0\n",
      "algo 1\n",
      "algo 2\n",
      "algo 3\n",
      "algo 4\n",
      "algo 5\n",
      "algo 6\n",
      "algo 7\n",
      "algo 8\n",
      "algo 9\n"
     ]
    }
   ],
   "source": [
    "for i in range(10):\n",
    "    print(\"algo\", i) "
   ]
  },
  {
   "cell_type": "code",
   "execution_count": 7,
   "id": "c242236d-f790-413e-b149-88740f1c44c6",
   "metadata": {},
   "outputs": [
    {
     "name": "stdout",
     "output_type": "stream",
     "text": [
      "1 5\n",
      "2 6\n",
      "3 7\n",
      "4 8\n"
     ]
    }
   ],
   "source": [
    "for i in range(4): #el rango debe der de la longitud de la lista\n",
    "    print(v1[i],v2[i])"
   ]
  },
  {
   "cell_type": "code",
   "execution_count": 8,
   "id": "a4877232-dcc1-4daf-b423-63020720e9d5",
   "metadata": {},
   "outputs": [
    {
     "data": {
      "text/plain": [
       "4"
      ]
     },
     "execution_count": 8,
     "metadata": {},
     "output_type": "execute_result"
    }
   ],
   "source": [
    "len(v1)"
   ]
  },
  {
   "cell_type": "code",
   "execution_count": 9,
   "id": "bc370ab9-49ce-4339-a967-c723c97e9cba",
   "metadata": {},
   "outputs": [
    {
     "name": "stdout",
     "output_type": "stream",
     "text": [
      "70\n",
      "32\n",
      "70\n"
     ]
    }
   ],
   "source": [
    "v3 = [] #asignamos un vector vacío, para que se la lista en donde se almacenarán los valores multiplicados\n",
    "#    auxiliar = 0\n",
    "m = 0 \n",
    "m1 = 0\n",
    "m2 = 0 \n",
    "for i in range(len(v1)): #len(v1) longitud de la lista v1\n",
    " #   print(v1[2]*v2[i])\n",
    "    m = m + v1[i]*v2[i]\n",
    "    m1 =+ v1[i]*v2[i] # esta mal esta porque... solamente opera con los ultimos valores de las listas\n",
    "    m2 += v1[i]*v2[i]\n",
    "    v3.append(m) #.append sirve para agregar un elemento final a la lista\n",
    "# print(i)\n",
    "# print(v2[i])\n",
    "print(m)\n",
    "print(m1)\n",
    "print(m2)"
   ]
  },
  {
   "cell_type": "code",
   "execution_count": 10,
   "id": "dc9c7385-241f-4da9-982f-ae1a1e261e05",
   "metadata": {},
   "outputs": [
    {
     "data": {
      "text/plain": [
       "[5, 17, 38, 70]"
      ]
     },
     "execution_count": 10,
     "metadata": {},
     "output_type": "execute_result"
    }
   ],
   "source": [
    "v3"
   ]
  },
  {
   "cell_type": "code",
   "execution_count": null,
   "id": "2e0b03d0-d277-4377-a579-e7ca341d9393",
   "metadata": {},
   "outputs": [],
   "source": []
  }
 ],
 "metadata": {
  "kernelspec": {
   "display_name": "Python 3 (ipykernel)",
   "language": "python",
   "name": "python3"
  },
  "language_info": {
   "codemirror_mode": {
    "name": "ipython",
    "version": 3
   },
   "file_extension": ".py",
   "mimetype": "text/x-python",
   "name": "python",
   "nbconvert_exporter": "python",
   "pygments_lexer": "ipython3",
   "version": "3.12.4"
  }
 },
 "nbformat": 4,
 "nbformat_minor": 5
}
