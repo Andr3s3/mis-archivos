{
 "cells": [
  {
   "cell_type": "markdown",
   "metadata": {},
   "source": [
    "<h1 align=\"center\">Física Computacional.</h1>\n",
    "<h1 align=\"center\">Semestre 2015-1</h1>\n",
    "\n",
    "<h2>Andrés Camacho López </h2> \n",
    "\n",
    "---\n",
    "## Profesor:\n",
    "## Sergio A. Alcalá Corona\n",
    "## Ayudantes:\n",
    "### Rodrigo Vega Vilchis\n",
    "### Joel Gómez Uribe\n",
    "---"
   ]
  },
  {
   "cell_type": "markdown",
   "metadata": {},
   "source": [
    "<h1 align=\"center\">Programación para la física computacional</h1> \n",
    "\n",
    "## Práctica 7.  Programación para la física computacional\n",
    "\n",
    "\n",
    "###\n",
    "\n",
    "---"
   ]
  },
  {
   "cell_type": "markdown",
   "metadata": {},
   "source": [
    "### EJERCICIOS:\n",
    "\n",
    "\n",
    "**1. Descomposición LU**\n",
    "\n",
    "Inciso a)"
   ]
  },
  {
   "cell_type": "code",
   "execution_count": 4,
   "metadata": {},
   "outputs": [
    {
     "name": "stdout",
     "output_type": "stream",
     "text": [
      "La matriz L:\n",
      "[[1.  0. ]\n",
      " [1.5 1. ]]\n",
      "La matriz U:\n",
      "[[ 4.   3. ]\n",
      " [ 0.  -1.5]]\n"
     ]
    }
   ],
   "source": [
    "import numpy as np\n",
    "\n",
    "def lu(A):\n",
    "    n = len(A)\n",
    "    L = np.zeros((n,n))\n",
    "    U = np.zeros((n,n))\n",
    "    for i in range(n):\n",
    "        L[i][i] = 1 #Diagonal de L con 1's\n",
    "        for j in range(i,n):\n",
    "            su = sum(L[i][k]*U[k][j] for k in range(i))\n",
    "            U[i][j] = A[i][j] - su\n",
    "        for j in range(i+1, n):\n",
    "            s1 = sum(L[j][k] * U[k][i] for k in range(i))\n",
    "            L[j][i] = (A[j][i] - s1)/U[i][i]\n",
    "    return(L, U)\n",
    "\n",
    "#Ejemplo\n",
    "A = np.array([[4,3],[6,3]])\n",
    "L, U = lu(A)\n",
    "\n",
    "print(\"La matriz L:\")\n",
    "print(L)\n",
    "print(\"La matriz U:\")\n",
    "print(U)"
   ]
  },
  {
   "cell_type": "markdown",
   "metadata": {},
   "source": [
    "Inciso b)"
   ]
  },
  {
   "cell_type": "code",
   "execution_count": 9,
   "metadata": {},
   "outputs": [
    {
     "name": "stdout",
     "output_type": "stream",
     "text": [
      "La matriz L:\n",
      "[[ 1.          0.          0.          0.        ]\n",
      " [ 1.5         1.          0.          0.        ]\n",
      " [ 0.5        -1.8         1.          0.        ]\n",
      " [ 1.         -1.2         0.83823529  1.        ]]\n",
      "La matriz U:\n",
      "[[  2.    1.    4.    1. ]\n",
      " [  0.    2.5  -7.   -2.5]\n",
      " [  0.    0.  -13.6   0. ]\n",
      " [  0.    0.    0.   -1. ]]\n",
      "La matriz recuperada es\n",
      "[[ 2.  1.  4.  1.]\n",
      " [ 3.  4. -1. -1.]\n",
      " [ 1. -4.  1.  5.]\n",
      " [ 2. -2.  1.  3.]]\n"
     ]
    }
   ],
   "source": [
    "import numpy as np\n",
    "\n",
    "def lu(A):\n",
    "    n = len(A)\n",
    "    L = np.zeros((n,n))\n",
    "    U = np.zeros((n,n))\n",
    "    for i in range(n):\n",
    "        L[i][i] = 1 #Diagonal de L con 1's\n",
    "        for j in range(i,n):\n",
    "            su = sum(L[i][k] * U[k][j] for k in range(i))\n",
    "            U[i][j] = A[i][j] - su\n",
    "        for j in range(i+1, n):\n",
    "            sl = sum(L[j][k] * U[k][i] for k in range(i))\n",
    "            L[j][i] = (A[j][i] - sl)/U[i][i]\n",
    "    return(L, U)\n",
    "\n",
    "A = np.array([[2,1,4,1],[3,4,-1,-1],[1,-4,1,5],[2,-2,1,3]], dtype=float)\n",
    "L, U = lu(A)\n",
    "\n",
    "print(\"La matriz L:\")\n",
    "print(L)\n",
    "print(\"La matriz U:\")\n",
    "print(U)"
   ]
  },
  {
   "cell_type": "markdown",
   "metadata": {},
   "source": [
    "Inciso c)"
   ]
  },
  {
   "cell_type": "code",
   "execution_count": 11,
   "metadata": {},
   "outputs": [
    {
     "name": "stdout",
     "output_type": "stream",
     "text": [
      "La matriz recuperada es:\n",
      "[[ 2.  1.  4.  1.]\n",
      " [ 3.  4. -1. -1.]\n",
      " [ 1. -4.  1.  5.]\n",
      " [ 2. -2.  1.  3.]]\n"
     ]
    }
   ],
   "source": [
    "import numpy as np\n",
    "\n",
    "def lu(A):\n",
    "    n = len(A)\n",
    "    L = np.zeros((n,n))\n",
    "    U = np.zeros((n,n))\n",
    "    for i in range(n):\n",
    "        L[i][i] = 1 #Diagonal de L con 1's\n",
    "        for j in range(i,n):\n",
    "            su = sum(L[i][k] * U[k][j] for k in range(i))\n",
    "            U[i][j] = A[i][j] - su\n",
    "        for j in range(i+1, n):\n",
    "            sl = sum(L[j][k] * U[k][i] for k in range(i))\n",
    "            L[j][i] = (A[j][i] - sl)/U[i][i]\n",
    "    return(L, U)\n",
    "\n",
    "A = np.array([[2,1,4,1],[3,4,-1,-1],[1,-4,1,5],[2,-2,1,3]], dtype=float)\n",
    "L, U = lu(A)\n",
    "Aprima = np.dot(L, U)\n",
    "\n",
    "print(\"La matriz recuperada es:\")\n",
    "print(Aprima)"
   ]
  },
  {
   "cell_type": "markdown",
   "metadata": {},
   "source": [
    "inciso d)"
   ]
  },
  {
   "cell_type": "code",
   "execution_count": 6,
   "metadata": {},
   "outputs": [
    {
     "name": "stdout",
     "output_type": "stream",
     "text": [
      "La solución del sistemas es:\n",
      "[ 2. -1. -2.  1.]\n"
     ]
    }
   ],
   "source": [
    "import numpy as np\n",
    "\n",
    "def lu(A):\n",
    "    n = len(A)\n",
    "    L = np.zeros((n,n))\n",
    "    U = np.zeros((n,n))\n",
    "    for i in range(n):\n",
    "        L[i][i] = 1 #Diagonal de L con 1's\n",
    "        for j in range(i,n):\n",
    "            su = sum(L[i][k] * U[k][j] for k in range(i))\n",
    "            U[i][j] = A[i][j] - su\n",
    "        for j in range(i+1, n):\n",
    "            sl = sum(L[j][k] * U[k][i] for k in range(i))\n",
    "            L[j][i] = (A[j][i] - sl)/U[i][i]\n",
    "    return(L, U)\n",
    "    \n",
    "def fsust(L, b):\n",
    "    n = len(b)\n",
    "    y = np.zeros(n)\n",
    "    for i in range(n):\n",
    "        y[i] = b[i] - sum(L[i][j]*y[j] for j in range(i))\n",
    "    return(y)\n",
    "\n",
    "def bsust(U, y):\n",
    "    n = len(y)\n",
    "    x = np.zeros(n)\n",
    "    for i in range(n-1,-1,-1):\n",
    "        x[i] = (y[i] - sum(U[i][j]*x[j] for j in range(i+1, n)))/U[i][i]\n",
    "    return(x)\n",
    "\n",
    "def solsist(A, b):\n",
    "    L, U = lu(A)\n",
    "    y = fsust(L, b)\n",
    "    x = bsust(U, y)\n",
    "    return(x)\n",
    "\n",
    "\n",
    "A = np.array([[2,1,4,1],[3,4,-1,-1],[1,-4,1,5],[2,-2,1,3]], dtype=float)\n",
    "b = np. array([-4,3,9,7], dtype=float)\n",
    "x = solsist(A, b))\n",
    "\n",
    "print(\"La solución del sistemas es:\")\n",
    "print(x)"
   ]
  },
  {
   "cell_type": "markdown",
   "metadata": {},
   "source": [
    "Inciso e)"
   ]
  },
  {
   "cell_type": "code",
   "execution_count": 12,
   "metadata": {},
   "outputs": [
    {
     "name": "stdout",
     "output_type": "stream",
     "text": [
      "La solución obtenida con nuestro programa es:\n",
      "[ 2. -1. -2.  1.]\n",
      "La solucion calculada por solve es:\n",
      "[ 2. -1. -2.  1.]\n"
     ]
    }
   ],
   "source": [
    "import numpy as np\n",
    "\n",
    "def lu(A):\n",
    "    n = len(A)\n",
    "    L = np.zeros((n,n))\n",
    "    U = np.zeros((n,n))\n",
    "    for i in range(n):\n",
    "        L[i][i] = 1 #Diagonal de L con 1's\n",
    "        for j in range(i,n):\n",
    "            su = sum(L[i][k] * U[k][j] for k in range(i))\n",
    "            U[i][j] = A[i][j] - su\n",
    "        for j in range(i+1, n):\n",
    "            sl = sum(L[j][k] * U[k][i] for k in range(i))\n",
    "            L[j][i] = (A[j][i] - sl)/U[i][i]\n",
    "    return(L, U)\n",
    "    \n",
    "def fsust(L, b):\n",
    "    n = len(b)\n",
    "    y = np.zeros(n)\n",
    "    for i in range(n):\n",
    "        y[i] = b[i] - sum(L[i][j]*y[j] for j in range(i))\n",
    "    return(y)\n",
    "\n",
    "def bsust(U, y):\n",
    "    n = len(y)\n",
    "    x = np.zeros(n)\n",
    "    for i in range(n-1,-1,-1):\n",
    "        x[i] = (y[i] - sum(U[i][j]*x[j] for j in range(i+1, n)))/U[i][i]\n",
    "    return(x)\n",
    "\n",
    "def solsist(A, b):\n",
    "    L, U = lu(A)\n",
    "    y = fsust(L, b)\n",
    "    x = bsust(U, y)\n",
    "    return(x)\n",
    "\n",
    "\n",
    "A = np.array([[2,1,4,1],[3,4,-1,-1],[1,-4,1,5],[2,-2,1,3]], dtype=float)\n",
    "b = np. array([-4,3,9,7], dtype=float)\n",
    "x1 = solsist(A, b)\n",
    "x2 = np.linalg.solve(A, b)\n",
    "\n",
    "print(\"La solución obtenida con nuestro programa es:\")\n",
    "print(x1)\n",
    "print(\"La solucion calculada por solve es:\")\n",
    "print(x2)"
   ]
  },
  {
   "cell_type": "code",
   "execution_count": 13,
   "metadata": {},
   "outputs": [
    {
     "name": "stdout",
     "output_type": "stream",
     "text": [
      "La solución obtenida con nuestro programa es:\n",
      "[-0.64928473 -0.86617443 -0.36686664  0.65159206]\n",
      "La solucion calculada por solve es:\n",
      "[-0.64928473 -0.86617443 -0.36686664  0.65159206]\n"
     ]
    }
   ],
   "source": [
    "#para otro sistema propuesto\n",
    "import numpy as np\n",
    "\n",
    "def lu(A):\n",
    "    n = len(A)\n",
    "    L = np.zeros((n,n))\n",
    "    U = np.zeros((n,n))\n",
    "    for i in range(n):\n",
    "        L[i][i] = 1 #Diagonal de L con 1's\n",
    "        for j in range(i,n):\n",
    "            su = sum(L[i][k] * U[k][j] for k in range(i))\n",
    "            U[i][j] = A[i][j] - su\n",
    "        for j in range(i+1, n):\n",
    "            sl = sum(L[j][k] * U[k][i] for k in range(i))\n",
    "            L[j][i] = (A[j][i] - sl)/U[i][i]\n",
    "    return(L, U)\n",
    "    \n",
    "def fsust(L, b):\n",
    "    n = len(b)\n",
    "    y = np.zeros(n)\n",
    "    for i in range(n):\n",
    "        y[i] = b[i] - sum(L[i][j]*y[j] for j in range(i))\n",
    "    return(y)\n",
    "\n",
    "def bsust(U, y):\n",
    "    n = len(y)\n",
    "    x = np.zeros(n)\n",
    "    for i in range(n-1,-1,-1):\n",
    "        x[i] = (y[i] - sum(U[i][j]*x[j] for j in range(i+1, n)))/U[i][i]\n",
    "    return(x)\n",
    "\n",
    "def solsist(A, b):\n",
    "    L, U = lu(A)\n",
    "    y = fsust(L, b)\n",
    "    x = bsust(U, y)\n",
    "    return(x)\n",
    "\n",
    "\n",
    "A = np.array([[4,5,-1,7],[4,-5,2,0],[7,-3,-2,8],[9,5,-7,4]], dtype=float)\n",
    "b = np. array([-2,1,4,-5], dtype=float)\n",
    "x1 = solsist(A, b)\n",
    "x2 = np.linalg.solve(A, b)\n",
    "\n",
    "print(\"La solución obtenida con nuestro programa es:\")\n",
    "print(x1)\n",
    "print(\"La solucion calculada por solve es:\")\n",
    "print(x2)"
   ]
  },
  {
   "cell_type": "markdown",
   "metadata": {},
   "source": [
    "**2. Pozo cuántico asimétrico**\n",
    "\n",
    "Inciso a)"
   ]
  },
  {
   "cell_type": "markdown",
   "metadata": {},
   "source": [
    "Tenemos que:\n",
    "\n",
    "$$\\Psi(x)=\\sum_{n=1}^\\infty\\psi_n\\sin\\left(\\frac{\\pi nx}{L}\\right)$$\n",
    "\n",
    "Haciendo la segunda deirvada respecto a $x$\n",
    "\n",
    "$$\\frac{d^2}{dx^2}\\Psi(x)=\\sum_{n=1}^\\infty\\psi_n\\frac{d^2}{dx^2}\\sin\\left(\\frac{\\pi nx}{L}\\right)=\\sum_{n=1}^\\infty\\psi_n\\left(-\\frac{\\pi^2 n^2}{L^2}\\right)\\sin\\left(\\frac{\\pi nx}{L}\\right)$$\n",
    "\n",
    "Con el Hamiltoniano obtenemos que:\n",
    "\n",
    "$$\\hat{H}\\Psi(x)=-\\frac{\\hbar^2}{2M}\\sum_{n=1}^\\infty\\psi_n\\left(-\\frac{\\pi^2 n^2}{L^2}\\right)\\sin\\left(\\frac{\\pi nx}{L}\\right)+V(x)\\Psi(x)$$\n",
    "\n",
    "Como estamo en un pozo cuántico infinito, entonces, el potencial $V(x)=0$ en $0<x<L$. \n",
    "\n",
    "Entonces obtenemos que:\n",
    "\n",
    "$$\\hat{H}\\Psi(x)=\\sum_{n=1}^\\infty\\frac{\\hbar^2 \\pi^2 n^2}{2ML^2}\\psi_n\\sin\\left(\\frac{\\pi nx}{L}\\right)$$\n",
    "\n",
    "Usando la ec. de Schrödinger: \n",
    "\n",
    "$$E\\Psi(x)= E\\sum_{n=1}^\\infty\\psi_n\\sin\\left(\\frac{\\pi nx}{L}\\right)$$\n",
    "\n",
    "Multiplicando por $\\sin\\left(\\frac{\\pi mx}{L}\\right)$ e integrando en el espacio de x: \n",
    "\n",
    "$$\\int_0^L \\hat{H}\\Psi(x)\\sin\\left(\\frac{\\pi mx}{L}\\right)dx=\\int_0^L E\\Psi(x)\\sin\\left(\\frac{\\pi mx}{L}\\right)dx$$\n",
    "\n",
    "Como el seno es ortogonal, entonces\n",
    "\n",
    "$$\\sum_{n=1}^\\infty\\psi_n\\left(-\\frac{\\hbar^2 \\pi^2 n^2}{2ML^2}\\right)\\frac{L}{2} \\delta_{mn}=-\\frac{\\hbar^2 \\pi^2 m^2}{2ML^2}\\frac{L}{2}\\psi_m = E\\sum_{n=1}^\\infty\\psi_n\\frac{L}{2}\\delta_{mn}=\\frac{L}{2}E\\psi_m$$\n",
    "\n",
    "Entonces:\n",
    "\n",
    "$$-\\frac{\\hbar^2\\pi^2 m^2}{2ML^2}\\frac{L}{2}\\psi_m=\\frac{L}{2}E\\psi_m$$\n",
    "\n",
    "Por lo tanto\n",
    "\n",
    "$$\\sum_{n=1}^\\infty \\psi_n\\int_0^L\\sin\\left(\\frac{\\pi mx}{L}\\right)\\sin\\left(\\frac{\\pi nx}{L}\\right)dx=\\frac{L}{2}E\\psi_m$$\n",
    "\n",
    "\n",
    "Para demostrar que la ecuacion de Schrödinger se puede escribir de forma matricial, definimos la función de onda como: \n",
    "\n",
    "$$\\Psi(x)=\\sum_{n=1}^\\infty\\psi_n\\sin\\left(\\frac{\\pi nx}{L}\\right)$$ \n",
    "\n",
    "Usando el hamiltoniano obtenemos que \n",
    "\n",
    "$$\\hat{H}\\Psi(x)=\\sum_{n=1}^\\infty\\psi_n\\hat{H}\\sin\\left(\\frac{\\pi nx}{L}\\right)$$ \n",
    "\n",
    "entonces\n",
    "\n",
    "$$\\hat{H}\\sin\\left(\\frac{\\pi nx}{L}\\right)=-\\frac{\\hbar^2}{2M}\\frac{d^2}{dx^2}\\sin\\left(\\frac{\\pi nx}{L}\\right)+V(x)\\sin\\left(\\frac{\\pi nx}{L}\\right)$$\n",
    "\n",
    "Haciendo la segunda derivada:\n",
    "\n",
    "$$\\frac{d^2}{dx^2}\\sin\\left(\\frac{\\pi nx}{L}\\right)=-\\left(\\frac{\\pi n}{L}\\right)^2\\sin\\left(\\frac{\\pi nx}{L}\\right)$$ \n",
    "\n",
    "Entonces\n",
    "\n",
    "$$\\hat{H}\\sin\\left(\\frac{\\pi nx}{L}\\right)=\\frac{\\hbar^2 \\pi^2 n^2}{2ML^2}\\sin\\left(\\frac{\\pi nx}{L}\\right)+V(x)\\sin\\left(\\frac{\\pi nx}{L}\\right)$$ \n",
    "\n",
    "Sustituyendo en la ec. de Schrödinger\n",
    "\n",
    "$$\\sum_{n=1}^\\infty\\psi_n\\left( \\frac{\\hbar^2 \\pi^2 n^2}{2ML^2}+V(x)\\right)\\sin\\left(\\frac{\\pi nx}{L}\\right)=E\\sum_{n=1}^\\infty\\psi_n\\sin\\left(\\frac{\\pi nx}{L}\\right)$$ \n",
    "\n",
    "Multiplicando por $\\sin\\left(\\frac{\\pi mx}{L}\\right)$ e integrando en x, obtenemos que\n",
    "\n",
    "$$\\int_0^L\\hat{H}\\Psi(x)\\sin\\left(\\frac{\\pi mx}{L}\\right)dx=\\int_0^LE\\Psi(x)\\sin\\left(\\frac{\\pi mx}{L}\\right)dx$$ \n",
    "\n",
    "Como el seno es ortogonal entonces, la integral es\n",
    "\n",
    "$$\\sum_{n=1}^\\infty\\psi_nH_{mn}=E\\psi_m$$ \n",
    "\n",
    "Simplificando obtenemos finalmente que \n",
    "\n",
    "$$\\mathbb{H}\\vec{\\psi}=E\\vec{\\psi}$$"
   ]
  },
  {
   "cell_type": "markdown",
   "metadata": {},
   "source": [
    "Inciso b)"
   ]
  },
  {
   "cell_type": "markdown",
   "metadata": {},
   "source": [
    "Sabemos que $-\\frac{\\hbar^2}{2M}\\frac{d^2}{dx^2}\\sin\\left(\\frac{\\pi nx}{L}\\right)=\\frac{\\hbar^2\\pi^2 n^2}{2ML^2}\\sin\\left(\\frac{\\pi nx}{L}\\right)$  Y  $V(x)=\\frac{ax}{L}$\n",
    "\n",
    "Sutituyanedo para la matriz con el Hamiltoniano, tenemos que:\n",
    "\n",
    "$$H_{mn}=\\frac{2}{L}\\int_0^L\\sin\\left(\\frac{\\pi mx}{L}\\right) \\left[\\frac{\\hbar^2 \\pi^2 n^2}{2ML^2}\\sin\\left(\\frac{\\pi nx}{L}\\right)+\\frac{ax}{L}\\sin\\left(\\frac{\\pi nx}{L}\\right)\\right]dx$$ \n",
    "\n",
    "Desarrollando, podemos ver que:\n",
    "\n",
    "$$H_{mn}=\\frac{2\\hbar^2 \\pi^2 n^2}{2ML^3}\\int_0^L\\sin\\left(\\frac{\\pi mx}{L}\\right)\\sin\\left(\\frac{\\pi nx}{L}\\right)dx+\\frac{2a}{L^2}\\int_0^L x\\sin\\left(\\frac{\\pi mx}{L}\\right)\\sin\\left(\\frac{\\pi nx}{L}\\right)dx$$ \n",
    "\n",
    "La primera integral es:\n",
    "\n",
    "$$\\int_0^L\\sin\\left(\\frac{\\pi mx}{L}\\right)\\sin\\left(\\frac{\\pi nx}{L}\\right)dx=\\frac{L}{2}\\delta_{mn}$$\n",
    "\n",
    "La segunda integral es:\n",
    "\n",
    "$$\\int_0^L x\\sin\\left(\\frac{\\pi mx}{L}\\right)\\sin\\left(\\frac{\\pi nx}{L}\\right)dx=\\frac{L^2}{\\pi^2(m^2-n^2)}\\left[(-1)^{m+n}-1\\right]$$ \n",
    "\n",
    "Por lo tanto obtenemos que \n",
    "\n",
    "$$H_{mn}=\\frac{\\hbar^2\\pi^2 n^2}{ML^2}\\delta_{mn}+\\frac{2aL}{\\pi^2(m^2-n^2)^2}\\left[(-1)^{m+n}-1\\right]$$"
   ]
  },
  {
   "cell_type": "code",
   "execution_count": 62,
   "metadata": {},
   "outputs": [
    {
     "name": "stdin",
     "output_type": "stream",
     "text": [
      "Número entero m =  7\n",
      "Número entero n =  7\n"
     ]
    },
    {
     "name": "stdout",
     "output_type": "stream",
     "text": [
      "El Hamiltoniano es = 1.180832658596175e-17\n"
     ]
    }
   ],
   "source": [
    "import numpy as np\n",
    "\n",
    "a = 10*(1.60218e-19) #En J\n",
    "L = 5e-10 #En m\n",
    "M = 9.1094e-31 #en kg\n",
    "q =1.6022e-19 #en C\n",
    "hb = 1.0545718e-34 #en J s\n",
    "m = int(input(\"Número entero m = \"))\n",
    "n = int(input(\"Número entero n = \"))\n",
    "def H(m,n):\n",
    "    if m == n:\n",
    "        return ((hb**2) * (np.pi**2)*(n**2))/(2*M*L**2)+(a*L)/4\n",
    "    else:\n",
    "        return (8*a*L)/((np.pi**2)*(m**2-n**2)**2)*((-1)**(m+n)-1)\n",
    "\n",
    "print(\"El Hamiltoniano es =\", H(m,n))"
   ]
  },
  {
   "cell_type": "markdown",
   "metadata": {},
   "source": [
    "Inciso c)"
   ]
  },
  {
   "cell_type": "code",
   "execution_count": 98,
   "metadata": {},
   "outputs": [
    {
     "name": "stdout",
     "output_type": "stream",
     "text": [
      "Los 10 primero valores de energía son:\n",
      "1 .- 1.5041147502312324\n",
      "2 .- 6.016458997174934\n",
      "3 .- 13.537032742081092\n",
      "4 .- 24.065835984949725\n",
      "5 .- 37.60286872578078\n",
      "6 .- 54.14813096457435\n",
      "7 .- 73.70162270133041\n",
      "8 .- 96.26334393604888\n",
      "9 .- 121.83329466872986\n",
      "10 .- 150.41147489937316\n"
     ]
    }
   ],
   "source": [
    "import numpy as np\n",
    "\n",
    "a = 10*(1.60218e-19) #En J\n",
    "L = 5e-10 #En m\n",
    "M = 9.1094e-31 #en kg\n",
    "q =1.6022e-19 #en C\n",
    "hb = 1.0545718e-34 #en J s\n",
    "\n",
    "def H(m,n):\n",
    "    if m == n:\n",
    "        return ((hb**2) * (np.pi**2)*(n**2))/(2*M*L**2)+(a*L)/4\n",
    "    else:\n",
    "        return (8*a*L)/((np.pi**2)*(m**2-n**2)**2)*((-1)**(m+n)-1)\n",
    "        \n",
    "Hmatriz = np.zeros((10,10)) #tamaño de la matriz\n",
    "for m in range(1, 10 + 1):\n",
    "    for n in range(1, 10 + 1):\n",
    "        Hmatriz[m - 1, n - 1] = H(m,n)\n",
    "        \n",
    "ev,_ = np.linalg.eigh(Hmatriz) #Evaluar la matriz para obtener los eigenvalores\n",
    "\n",
    "\n",
    "conver = ev/(1.60218e-19) # converir a ev\n",
    "orden = np.sort(conver)#Ordenar los eigenvalores obtenidos\n",
    "\n",
    "print(\"Los 10 primero valores de energía son:\")\n",
    "for i in range(10):\n",
    "    print(i+1,\".-\", orden[i])"
   ]
  },
  {
   "cell_type": "markdown",
   "metadata": {},
   "source": [
    "Inciso d)"
   ]
  },
  {
   "cell_type": "code",
   "execution_count": 99,
   "metadata": {},
   "outputs": [
    {
     "name": "stdout",
     "output_type": "stream",
     "text": [
      "Los 10 primero valores de energía son:\n",
      "1 .- 1.5041147502312324\n",
      "2 .- 6.01645899717494\n",
      "3 .- 13.537032742082125\n",
      "4 .- 24.06583598494985\n",
      "5 .- 37.60286872577948\n",
      "6 .- 54.14813096457552\n",
      "7 .- 73.70162270133262\n",
      "8 .- 96.26334393605154\n",
      "9 .- 121.83329466873143\n",
      "10 .- 150.41147489937256\n"
     ]
    }
   ],
   "source": [
    "import numpy as np\n",
    "\n",
    "a = 10*(1.60218e-19) #En J\n",
    "L = 5e-10 #En m\n",
    "M = 9.1094e-31 #en kg\n",
    "q =1.6022e-19 #en C\n",
    "hb = 1.0545718e-34 #en J s\n",
    "\n",
    "def H(m,n):\n",
    "    if m == n:\n",
    "        return ((hb**2) * (np.pi**2)*(n**2))/(2*M*L**2)+(a*L)/4\n",
    "    else:\n",
    "        return (8*a*L)/((np.pi**2)*(m**2-n**2)**2)*((-1)**(m+n)-1)\n",
    "        \n",
    "Hmatriz = np.zeros((100,100)) #tamaño de la matriz\n",
    "for m in range(1, 100 + 1):\n",
    "    for n in range(1, 100 + 1):\n",
    "        Hmatriz[m - 1, n - 1] = H(m,n)\n",
    "        \n",
    "ev,_ = np.linalg.eigh(Hmatriz) #Evaluar la matriz para obtener los eigenvalores\n",
    "\n",
    "\n",
    "conver = ev/(1.60218e-19) # converir a ev\n",
    "orden = np.sort(conver)#Ordenar los eigenvalores obtenidos\n",
    "\n",
    "print(\"Los 10 primero valores de energía son:\")\n",
    "for i in range(10):\n",
    "    print(i+1,\".-\", orden[i]) #no hay cambios en los resultados"
   ]
  },
  {
   "cell_type": "markdown",
   "metadata": {},
   "source": [
    "Inciso e)"
   ]
  },
  {
   "cell_type": "code",
   "execution_count": 116,
   "metadata": {},
   "outputs": [
    {
     "name": "stdout",
     "output_type": "stream",
     "text": [
      "Norma 1 es: 2.5000000000000007e-10\n",
      "Norma 2 es: 2.4999999999999976e-10\n",
      "Norma 3 es: 2.500000000000004e-10\n"
     ]
    },
    {
     "data": {
      "image/png": "[encoded data removed]",
      "text/plain": [
       "<Figure size 640x480 with 1 Axes>"
      ]
     },
     "metadata": {},
     "output_type": "display_data"
    }
   ],
   "source": [
    "import numpy as np\n",
    "import matplotlib.pyplot as plt\n",
    "\n",
    "a = 10*(1.60218e-19) #En J\n",
    "L = 5e-10 #En m\n",
    "M = 9.1094e-31 #en kg\n",
    "q =1.6022e-19 #en C\n",
    "hb = 1.0545718e-34 #en J s\n",
    "\n",
    "def H(m,n):\n",
    "    if m == n:\n",
    "        return ((hb**2) * (np.pi**2)*(n**2))/(2*M*L**2)+(a*L)/4\n",
    "    else:\n",
    "        return (8*a*L)/((np.pi**2)*(m**2-n**2)**2)*((-1)**(m+n)-1)\n",
    "        \n",
    "Hmatriz = np.zeros((100,100)) #tamaño de la matriz\n",
    "for m in range(1, 100 + 1):\n",
    "    for n in range(1, 100 + 1):\n",
    "        Hmatriz[m - 1, n - 1] = H(m,n)\n",
    "        \n",
    "ev, vecprop = np.linalg.eigh(Hmatriz) #obtener eigenvalores\n",
    "\n",
    "p0 = vecprop[:,0] #coeficientes de Fourier\n",
    "p1 = vecprop[:,1]\n",
    "p2 = vecprop[:,2]\n",
    "\n",
    "def psi(x,c):\n",
    "    p = np.zeros_like(x)\n",
    "    for n in range(1,100+1):\n",
    "        p = p + c[n - 1] * np.sin((n * np.pi * x) / L)\n",
    "    return p\n",
    "\n",
    "x = np.linspace(0,L,1000) #espcaio donde está nuestra x\n",
    "\n",
    "P0 = psi(x,p0) #primeras 3 psis\n",
    "P1 = psi(x,p1)\n",
    "P2 = psi(x,p2)\n",
    "\n",
    "IP0 = P0**2 #obtención de psi x psi^*\n",
    "IP1 = P1**2\n",
    "IP2 = P2**2\n",
    "\n",
    "n0 = np.trapz(IP0,x) #Integrales de la norma de psi\n",
    "n1 = np.trapz(IP1,x)\n",
    "n2 = np.trapz(IP2,x)\n",
    "\n",
    "print(\"Norma 1 es:\", n0)\n",
    "print(\"Norma 2 es:\", n1)\n",
    "print(\"Norma 3 es:\", n2)\n",
    "\n",
    "plt.plot(x, IP0, label = \"Edo 0\")\n",
    "plt.plot(x, IP1, label = \"Edo 1\")\n",
    "plt.plot(x, IP2, label = \"Edo 2\")\n",
    "plt.xlabel(\"x\")\n",
    "plt.ylabel(\"Norma al cuadrado de Psi\")\n",
    "plt.title(\"Grafica de densidades de probabilidad\")\n",
    "plt.legend()\n",
    "plt.grid()\n",
    "plt.show()"
   ]
  },
  {
   "cell_type": "markdown",
   "metadata": {},
   "source": [
    "**3. Método de relajación**\n",
    "\n",
    "Inciso a)"
   ]
  },
  {
   "cell_type": "code",
   "execution_count": 10,
   "metadata": {},
   "outputs": [
    {
     "name": "stdout",
     "output_type": "stream",
     "text": [
      "La solución es: 0.7968118244957711\n"
     ]
    }
   ],
   "source": [
    "import numpy as np \n",
    "\n",
    "t = 1e-6 #tolerancia para la presición\n",
    "m = 10000 #maximo de iteraciones\n",
    "c = 2\n",
    "def relaj(c, t, m):\n",
    "    x = 0.5 #valor inicial\n",
    "    for i in range(m):\n",
    "        xn = 1 - np.exp(-c*x) #calculo del nuevo valor de x\n",
    "        if abs(xn-x) < t: #comprobar que la diferencia sea menor a la tolerancia\n",
    "            return(xn)\n",
    "        x = xn\n",
    "    raise ValueError(\"No hay convergencia\")\n",
    "print(\"La solución es:\", relaj(c,t,m))\n"
   ]
  },
  {
   "cell_type": "markdown",
   "metadata": {},
   "source": [
    "Inciso b)"
   ]
  },
  {
   "cell_type": "code",
   "execution_count": 20,
   "metadata": {},
   "outputs": [
    {
     "data": {
      "image/png": "[encoded data removed]",
      "text/plain": [
       "<Figure size 640x480 with 1 Axes>"
      ]
     },
     "metadata": {},
     "output_type": "display_data"
    }
   ],
   "source": [
    "import numpy as np \n",
    "import matplotlib.pyplot as plt\n",
    "\n",
    "t = 1e-6 #tolerancia para la presición\n",
    "m = 10000 #maximo de iteraciones\n",
    "def relaj(c, t, m):\n",
    "    x = 0.5 #valor inicial\n",
    "    for i in range(m):\n",
    "        xn = 1 - np.exp(-c*x) #calculo del nuevo valor de x\n",
    "        if abs(xn-x) < t: #comprobar que la diferencia sea menor a la tolerancia\n",
    "            return(xn)\n",
    "        x = xn\n",
    "    raise ValueError(\"No hay convergencia\")\n",
    "\n",
    "cs = np.arange(0, 3, 0.01) #valores de c\n",
    "xs = [] #vector vacio para las x\n",
    "\n",
    "for c in cs: #calcular la x para cada c\n",
    "    xs.append(relaj(c, t, m))\n",
    "\n",
    "plt.plot(cs, xs, label=\"x's v c's\")\n",
    "plt.xlabel(\"c\")\n",
    "plt.ylabel(\"x\")\n",
    "plt.title(\"Gráfica de x en funcion de c\")\n",
    "plt.legend()\n",
    "plt.grid()\n",
    "plt.show()"
   ]
  },
  {
   "cell_type": "markdown",
   "metadata": {},
   "source": [
    "**4. Glucólisis**\n",
    "\n",
    "Inciso a)"
   ]
  },
  {
   "cell_type": "markdown",
   "metadata": {},
   "source": [
    "Sustituyendo las soluciones en (1)\n",
    "\n",
    "$$\\frac{dx}{dt}=-b+a\\left(\\frac{b}{a+b^2}\\right)+b^2\\left(\\frac{b}{a+b^2}\\right)$$\n",
    "\n",
    "Obtenemos\n",
    "\n",
    "$$= -b+\\frac{ab}{a+b^2}+\\frac{b^3}{a + b^2}$$ \n",
    "\n",
    "$$=-b+\\frac{ab+b^3}{a+b^2}$$ \n",
    "\n",
    "$$=-b+\\frac{b(a+b^2)}{a+b^2}=0$$\n",
    "\n",
    "En (2)\n",
    "\n",
    "$$\\frac{dy}{dt}=b-a\\left(\\frac{b}{a+b^2}\\right)-b^2\\left(\\frac{b}{a+b^2}\\right)$$\n",
    "\n",
    "Obtenemos\n",
    "\n",
    "$$= b-\\frac{ab+b^3}{a+b^2}$$\n",
    "\n",
    "$$=\\frac{b(a+b^2)-(ab+b^3)}{a+b^2}=\\frac{ba+b^3-ab-b^3}{a+b^2}=0$$\n",
    "\n",
    "Como en ambas el resultado es 0, sabemos que satisface la ecuación\n"
   ]
  },
  {
   "cell_type": "markdown",
   "metadata": {},
   "source": [
    "Inciso b)"
   ]
  },
  {
   "cell_type": "markdown",
   "metadata": {},
   "source": [
    "Igualando las dos ecs. a 0 \n",
    "\n",
    "$$-x+ay+x^2y=0$$ \n",
    "\n",
    "$$b-ay-x^2y=0$$\n",
    "\n",
    "Despejando $x$ de 1 \n",
    "\n",
    "$$x=y(a+x^2)$$\n",
    "\n",
    "Despejando $y$ de 2 \n",
    "\n",
    "$$y=\\frac{b}{a+x^2}$$"
   ]
  },
  {
   "cell_type": "code",
   "execution_count": 129,
   "metadata": {},
   "outputs": [
    {
     "name": "stdin",
     "output_type": "stream",
     "text": [
      "Valor arbitrario 1\n",
      "Valor arbitrario 2\n"
     ]
    },
    {
     "data": {
      "text/plain": [
       "(None, None)"
      ]
     },
     "execution_count": 129,
     "metadata": {},
     "output_type": "execute_result"
    }
   ],
   "source": [
    "a=1\n",
    "b=2\n",
    "t = 1e-6 #exactitud\n",
    "m = 1000\n",
    "def relaj(a,b,t, m): #relajación\n",
    "    x = float(input(\"Valor arbitrario\"))\n",
    "    y = float(input(\"Valor arbitrario\"))\n",
    "    for i in range(m):\n",
    "        x1 = y *(a + x**2) #calcular las nuevas incognitas\n",
    "        y1 = b / (a + x**2)\n",
    "        if abs(x1-x) < t and abs(y1-y) < t:\n",
    "            return (x1, y1)\n",
    "        x,y = x1,y1\n",
    "    return(None,None)\n",
    "    \n",
    "relaj(a,b,t, m)"
   ]
  },
  {
   "cell_type": "markdown",
   "metadata": {},
   "source": [
    "Inciso c)"
   ]
  },
  {
   "cell_type": "markdown",
   "metadata": {},
   "source": [
    "Usaremos las ecuaciones reoganiadaz:\n",
    "\n",
    "de $y=\\frac{b}{a+x^2}$, despejamos $x$\n",
    "\n",
    "Obtenemos\n",
    "\n",
    "$$x^2=\\frac{b}{y}-a$$\n",
    "\n",
    "finalmente\n",
    "\n",
    "$$ x=\\sqrt{\\frac{b}{y}-a}$$"
   ]
  },
  {
   "cell_type": "code",
   "execution_count": 134,
   "metadata": {},
   "outputs": [
    {
     "name": "stdin",
     "output_type": "stream",
     "text": [
      "Valor arbitrario 1\n",
      "Valor arbitrario 2\n"
     ]
    },
    {
     "data": {
      "text/plain": [
       "(1.0, 1.0)"
      ]
     },
     "execution_count": 134,
     "metadata": {},
     "output_type": "execute_result"
    }
   ],
   "source": [
    "a=1\n",
    "b=2\n",
    "t = 1e-6 #exactitud\n",
    "m = 1000\n",
    "def relaj(a, b, t, m):\n",
    "    x = float(input(\"Valor arbitrario\"))\n",
    "    y = float(input(\"Valor arbitrario\"))\n",
    "    for i in range(m):\n",
    "        y1 = b /(a + x**2)\n",
    "        x1 = np.sqrt(b / y1-a) #calcular las nuevas incognitas\n",
    "        if abs(x1-x) < t and abs(y1-y) < t:\n",
    "            return (x1, y1)\n",
    "        x,y = x1,y1\n",
    "    return(None,None)\n",
    "\n",
    "relaj(a, b, t, m)"
   ]
  },
  {
   "cell_type": "markdown",
   "metadata": {},
   "source": [
    "**5. Constante de desplazamiento de Wien**\n",
    "\n",
    "Inciso a)"
   ]
  },
  {
   "cell_type": "markdown",
   "metadata": {},
   "source": [
    "**Demostración:**\n",
    "\n",
    "Tenemos que:\n",
    "\n",
    "$$l(\\lambda) = \\frac{2\\pi h c^2}{\\lambda^5}\\cdot \\frac{1}{e^{\\frac{hc}{\\lambda \\kappa_B T}-1}}$$\n",
    "\n",
    "Derivando respecto a $\\lambda$\n",
    "\n",
    "$$\\frac{dl(\\lambda)}{d\\lambda} = \\frac{d}{d\\lambda}(\\frac{2\\pi h c^2}{\\lambda^5}\\cdot \\frac{1}{e^{\\frac{hc}{\\lambda \\kappa_B T}-1}})$$\n",
    "\n",
    "simplifcando $f(\\lambda)= \\frac{1}{e^{\\frac{hc}{\\lambda \\kappa_B T}-1$ tenmos que la derivada es:\n",
    "\n",
    "$$\\frac{dl(\\lambda)}{d\\lambda} = \\frac{2\\pi h c^2}{\\lambda^5} \\cdot \\frac{df(\\lambda)}{d\\lambda} + f(\\lambda) \\cdot \\frac{d}{d\\lambda}(\\frac{2\\pi h c^2}{\\lambda^5})$$\n",
    "\n",
    "La derivada de $f(\\lambda)$ es:\n",
    "\n",
    "$$\\frac{df(\\lambda)}{d\\lambda} = \\frac{hc\\cdot e^{\\frac{hc}{\\lambda \\kappa_B T}}}{\\lambda^2 \\kappa_B T(e^{\\frac{hc}{\\lambda \\kappa_B T}}-1)^2}$$\n",
    "\n",
    "y la derivada de $\\frac{2\\pi h c^2}{\\lambda^5}$ es:\n",
    "\n",
    "$$\\frac{d}{d\\lambda} (\\frac{2\\pi h c^2}{\\lambda^5}) = -\\frac{10 \\pi h c^2}{\\lambda^6}$$\n",
    "\n",
    "combinando las derivadas, tenemos que: \n",
    "\n",
    "$$\\frac{dl(\\lambda)}{d\\lambda} = \\frac{2\\pi h c^2}{\\lambda^5} \\cdot \\frac{hc\\cdot e^{\\frac{hc}{\\lambda \\kappa_B T}}}{\\lambda^2 \\kappa_B T(e^{\\frac{hc}{\\lambda \\kappa_B T}}-1)^2} - \\frac{10 \\pi h c^2}{\\lambda^6} \\cdot \\frac{1}{e^{\\frac{hc}{\\lambda \\kappa_B T}}-1}$$\n",
    "\n",
    "simplificando e igualando a 0:\n",
    "\n",
    "$$ \\frac{2\\pi h c^2}{\\lambda^5} (\\frac{hc\\cdot e^{\\frac{hc}{\\lambda \\kappa_B T}}}{\\lambda^2 \\kappa_B T(e^{\\frac{hc}{\\lambda \\kappa_B T}}-1)^2} -\\frac{5}{\\lambda} \\cdot \\frac{1}{e^{\\frac{hc}{\\lambda \\kappa_B T}}-1}) = 0$$\n",
    "\n",
    "de lo que obtenemos:\n",
    "\n",
    "$$ \\frac{hc\\cdot e^{\\frac{hc}{\\lambda \\kappa_B T}}}{\\lambda^2 \\kappa_B T(e^{\\frac{hc}{\\lambda \\kappa_B T}}-1)^2} = \\frac{5}{\\lambda} \\cdot \\frac{1}{e^{\\frac{hc}{\\lambda \\kappa_B T}}-1}$$\n",
    "\n",
    "multiplicando ambos lados por $ \\lambda \\frac{1}{e^{\\frac{hc}{\\lambda \\kappa_B T}}-1} $ tenemos:\n",
    "\n",
    "$$ hc\\cdot e^{\\frac{hc}{\\lambda \\kappa_B T}} = 5\\lambda \\kappa_B T (e^{\\frac{hc}{\\lambda \\kappa_B T}}-1)$$\n",
    "\n",
    "dividiendo por $\\lambda \\kappa_B T$\n",
    "\n",
    "$$ \\frac{hc}{\\lambda \\kappa_B T}\\cdot e^{\\frac{hc}{\\lambda \\kappa_B T}} = 5(e^{\\frac{hc}{\\lambda \\kappa_B T}}-1)$$\n",
    "\n",
    "sea $x = \\frac{hc}{\\lambda \\kappa_B T}$\n",
    "\n",
    "$$ x \\cdot e^x = 5 (e^x -1)$$\n",
    "\n",
    "Finalmente tenemos que \n",
    "\n",
    "$$ 5 e^{-x} + x-5 = 0$$\n",
    "\n",
    "y segun el desplazamiento de Wien $\\lambda = b / T$\n",
    "\n",
    "Por lo que en este caso $b = \\frac{hc}{\\kappa_B x}$\n",
    "\n",
    "y $x$ es sol de la ec. no lineal ya obtenida\n",
    "\n",
    "$$ x \\cdot e^x = 5 (e^x -1)$$"
   ]
  },
  {
   "cell_type": "markdown",
   "metadata": {},
   "source": [
    "Inciso b)"
   ]
  },
  {
   "cell_type": "code",
   "execution_count": 39,
   "metadata": {},
   "outputs": [
    {
     "name": "stdout",
     "output_type": "stream",
     "text": [
      "0.0\n",
      "-2.0764574832634257\n",
      "-2.370215125908941\n",
      "-1.945740256577972\n",
      "-1.23189645956412\n",
      "-0.4014687222355713\n",
      "0.4759295562914989\n",
      "1.372251811264439\n",
      "2.2761983531922656\n",
      "3.1832166465427765\n",
      "4.09147251881163\n",
      "5.000226999648813\n",
      "La solucion a la ec no lineal es: x = 4.965114414691925\n",
      "La cte de desplazamiento de Wien es: b = 0.002901110955965899\n"
     ]
    }
   ],
   "source": [
    "import numpy as np\n",
    "\n",
    "t = 1e-6 #precision\n",
    "h = 6.626e-34 #J s\n",
    "c = 3e8 #m/s\n",
    "K = 1.38e-23 #J/K\n",
    "def f(x):\n",
    "    return(5 * np.exp(-x) + x -5)\n",
    "\n",
    "for x in np.linspace(0, 10, 12):#revisar los valores para poder ajustar a y b \n",
    "    print(f(x))\n",
    "    \n",
    "def binario(fun, a, b, t): #código de busqueda binaria\n",
    "    if fun(a) * fun(b) >= 0:\n",
    "        raise ValueError(\"La función debe tene signos opuestos en los extremos a y b\")\n",
    "    while (b-a)/2 > t:\n",
    "        p = (a + b)/2 #pto. medio\n",
    "        if fun(p) == 0:\n",
    "            return(p)\n",
    "        elif fun(a)*fun(p)<0:\n",
    "            b = p\n",
    "        else:\n",
    "            a = p\n",
    "    return((a+b)/2)\n",
    "\n",
    "def wien(): #calulo de cte de desplazamiento\n",
    "    a = 1\n",
    "    b = 10\n",
    "    xsol = binario(f, a, b, t)\n",
    "    b = h*c/(K * xsol)\n",
    "    return(b, xsol)\n",
    "\n",
    "b, xsol = wien()\n",
    "\n",
    "print(\"La solucion a la ec no lineal es: x =\", xsol)\n",
    "print(\"La cte de desplazamiento de Wien es: b =\", b)"
   ]
  },
  {
   "cell_type": "markdown",
   "metadata": {},
   "source": [
    "Inciso c)"
   ]
  },
  {
   "cell_type": "code",
   "execution_count": 14,
   "metadata": {},
   "outputs": [
    {
     "name": "stdout",
     "output_type": "stream",
     "text": [
      "La temperatura en la superficie del sol es: 5779.106253111893 K\n"
     ]
    }
   ],
   "source": [
    "import numpy as np\n",
    "\n",
    "t = 1e-6 #precision\n",
    "h = 6.626e-34 #J s\n",
    "c = 3e8 #m/s\n",
    "K = 1.38e-23 #J/K\n",
    "lamda = 502e-9 #en metros\n",
    "def f(x):\n",
    "    return(5 * np.exp(-x) + x -5)\n",
    "    \n",
    "def binario(fun, a, b, t): #código de busqueda binaria\n",
    "    if fun(a) * fun(b) >= 0:\n",
    "        raise ValueError(\"La función debe tene signos opuestos en los extremos a y b\")\n",
    "    while (b-a)/2 > t:\n",
    "        p = (a + b)/2 #pto. medio\n",
    "        if fun(p) == 0:\n",
    "            return(p)\n",
    "        elif fun(a)*fun(p)<0:\n",
    "            b = p\n",
    "        else:\n",
    "            a = p\n",
    "    return((a+b)/2)\n",
    "\n",
    "def wien(): #calulo de cte de desplazamiento\n",
    "    a = 1\n",
    "    b = 6\n",
    "    xsol = binario(f, a, b, t)\n",
    "    b = h*c/(K * xsol)\n",
    "    return(b, xsol)\n",
    "\n",
    "b, xsol = wien()\n",
    "T = b / lamda\n",
    "print(\"La temperatura en la superficie del sol es:\", T, \"K\")"
   ]
  },
  {
   "cell_type": "markdown",
   "metadata": {},
   "source": [
    "**6. El punto de Lagrange**\n",
    "\n",
    "Inciso a)"
   ]
  },
  {
   "cell_type": "markdown",
   "metadata": {},
   "source": [
    "Si $L_1$ una fuerza gravitacional de la Tierra y una fuerza gravitacional de la Luna.\n",
    "\n",
    "Entonces:\n",
    "\n",
    "$$F_Tierra =\\frac{GM}{r^2}$$ \n",
    "\n",
    "Y\n",
    "\n",
    "$$F_Luna =\\frac{Gm}{(R-r)^2}$$ \n",
    "\n",
    "Sabemos que la fuerza centrípeta es\n",
    "\n",
    "$$F_c=\\omega^2r$$ \n",
    "\n",
    "Por lo que para mantener el equilibrio\n",
    "\n",
    "$$F_T-F_L=F_c$$ \n",
    "\n",
    "Entonces obtenemos finalmente que:\n",
    "\n",
    "$$\\frac{GM}{r^2}-\\frac{Gm}{(R-r)^2}=\\omega^2r$$"
   ]
  }
 ],
 "metadata": {
  "@webio": {
   "lastCommId": null,
   "lastKernelId": null
  },
  "kernelspec": {
   "display_name": "Python 3 (ipykernel)",
   "language": "python",
   "name": "python3"
  },
  "language_info": {
   "codemirror_mode": {
    "name": "ipython",
    "version": 3
   },
   "file_extension": ".py",
   "mimetype": "text/x-python",
   "name": "python",
   "nbconvert_exporter": "python",
   "pygments_lexer": "ipython3",
   "version": "3.12.4"
  }
 },
 "nbformat": 4,
 "nbformat_minor": 4
}
