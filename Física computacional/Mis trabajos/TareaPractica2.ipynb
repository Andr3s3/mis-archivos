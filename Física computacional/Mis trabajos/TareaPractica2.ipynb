{
 "cells": [
  {
   "cell_type": "markdown",
   "metadata": {},
   "source": [
    "<h1 align=\"center\">Física Computacional.</h1>\n",
    "<h1 align=\"center\">Semestre 2015-1</h1>\n",
    "\n",
    "<h2>Andrés Camacho López </h2> \n",
    "\n",
    "---\n",
    "## Profesor:\n",
    "## Sergio A. Alcalá Corona\n",
    "## Ayudantes:\n",
    "### Rodrigo Vega Vilchis\n",
    "### Joel Gómez Uribe\n",
    "---"
   ]
  },
  {
   "cell_type": "markdown",
   "metadata": {},
   "source": [
    "<h1 align=\"center\">Programación para la física computacional</h1> \n",
    "\n",
    "## Práctica 2.  Programación para la física computacional\n",
    "\n",
    "\n",
    "### Fundamentos de programación\n",
    "---"
   ]
  },
  {
   "cell_type": "markdown",
   "metadata": {},
   "source": [
    "### EJERCICIOS:\n",
    "\n",
    "\n",
    "**1. Orbitas planetarias:** En el espacio, la orbita de un cuerpo alrededor de otro (como un planeta alrededor del Sol), no necesariamente es circular. En general, toma la forma de una elipse, con el cuerpo a veces mas cerca y otras más lejos. Si tenemos la distancia  ́$l_1$\n",
    "de maxima aproximación de un planeta al Sol (su *perihelio*), y su velocidad lineal $v_1$ en\n",
    "el perihelio, entonces cualquier otra propiedad de la orbita se puede calcular a partir de estas dos cantidades de la siguiente manera:\n",
    " \n",
    "(a) La segunda ley de Kepler nos dice que la distancia $l_2 $ y la velocidad $v_2$ del planeta\n",
    "en su punto mas distante, o áfelio, satisfacen que $l_2v_2$ = $l_1v_1$. Al mismo tiempo, la energía total, cinetica más la gravitatoria, de un planeta con velocidad $v$ y distancia $r$ del Sol esta dada por:  \n",
    "$$\n",
    "E = \\frac{1}{2}mv^2 − G \\frac{mM}{r} ,$$\n",
    "\n",
    "donde $m$ es la masa del planeta, $M = 1.9891 × 10^{30} kg$ es la masa del Sol y $G =6.6738 × 10^{−11} m^3 kg^{−1}s^{−2}$ es la constante gravitatoria de Newton. Dado que la energía debe conservarse, demuestre que $v_2$ es la raíz mas pequeña de la ecuación  cuadrática:  ́\n",
    "\n",
    "$$v^2 _2 − \\frac{2GM}{v_1l_1}v_2 − [v^2 _1 − \\frac{2GM}{l_1}] = 0.$$\n",
    "\n",
    "Una vez que tenemos $v_2$ podemos calcular $l_2$ usando la relación $l_2$ = $l_1v_1/v_2$."
   ]
  },
  {
   "cell_type": "markdown",
   "metadata": {},
   "source": [
    "**DEMOSTRACIÓN**"
   ]
  },
  {
   "cell_type": "markdown",
   "metadata": {},
   "source": [
    "Usando la conservación de la energía, primero obtengamos las ecuaciones de energía.\n",
    "\n",
    "Para el perihelio \n",
    "\\begin{equation*}\n",
    "E = \\frac{1}{2} m v_1^2 - G\\frac{m M}{l_1}\n",
    "\\end{equation*}\n",
    "\n",
    "Para el afelio \n",
    "\\begin{equation*}\n",
    "E = \\frac{1}{2}m v_2^2 - G\\frac{m M}{l_2}\n",
    "\\end{equation*}\n",
    "\n",
    "Por conservación de la energía, podemos igualar al energía en ambos puntos.\n",
    "\n",
    "\\begin{equation*}\n",
    "\\frac{1}{2} m v_1^2 - G\\frac{m M}{l_1} = \\frac{1}{2}m v_2^2 - G\\frac{m M}{l_2}\n",
    "\\end{equation*}\n",
    "\n",
    "Reorganizando la ecuación:\n",
    "\n",
    "\\begin{equation*}\n",
    "v_2^2 - 2G\\frac{M}{l_2} = v_1^2 - 2G\\frac{M}{l_1}\n",
    "\\end{equation*}\n",
    "\n",
    "Multiplicando por l_1:\n",
    "\n",
    "\\begin{equation*}\n",
    "l_1 v_2^2 - 2GM\\frac{l_1}{l_2} = l_1 v_1^2 - 2GM \n",
    "\\end{equation*}\n",
    "\n",
    "Como $\\frac{l_1}{l_2} = \\frac{v_2}{v_1}$ entonces tenemos que:\n",
    "\n",
    "\\begin{equation*}\n",
    "l_1 v_2^2 - 2GM\\frac{v_2}{v_1} = l_1 v_1^2 - 2GM \n",
    "\\end{equation*}\n",
    "\n",
    "Y ahora obtenemos que \n",
    "\n",
    "\\begin{equation*}\n",
    "v_2^2 - v_2 \\frac{2GM}{v_1 l_1} = v_1^2 - \\frac{2GM}{l_1} \n",
    "\\end{equation*}\n",
    "\n",
    "Fnalmente llegamos a que \n",
    "\n",
    "\\begin{equation*}\n",
    "v_2^2 - v_2 \\frac{2GM}{v_1 l_1} -(v_1^2 - \\frac{2GM}{l_1}) = 0 \n",
    "\\end{equation*}\n",
    "\n",
    "Por lo que por fórmula general, podemos ver que la raíz mas pequeña de la ecuación cuadrática es $v_2$ pues: \n",
    "\n",
    "\\begin{equation*}\n",
    "v_2 = \\frac{\\frac{2GM}{v_1 l_1} - \\sqrt{(\\frac{2GM}{v_1 l_1})^2 + 4 (v_1^2 - \\frac{2GM}{l_1})}}{2}\n",
    "\\end{equation*}"
   ]
  },
  {
   "cell_type": "markdown",
   "metadata": {},
   "source": [
    "**FIN DE LA DEMOSTRACIÓN**"
   ]
  },
  {
   "cell_type": "markdown",
   "metadata": {},
   "source": [
    "(b) Dados los valores de $v_1 $, $l_1 $, y $l_2 $, otros parámetros de la órbita se obtienen mediante fórmulas simples que pueden derivarse de las leyes de Kepler y del hecho de que la órbita es una elipse:\n",
    "    \n",
    "Semieje mayor: $a = \\frac{l_1+ l_2}{2}$\n",
    "        \n",
    "Semieje menor: $b = \\sqrt{l_1 l_2}$\n",
    "        \n",
    "Periodo orbital: $T = {\\frac{2\\pi ab}{l_1 v_1}}$\n",
    "        \n",
    "Excentricidad orbital: $e = \\frac{l_2 - l_1}{l_2 + l_1}$\n",
    "\n",
    "\n",
    "Escribe un programa que le pida al usuario que ingrese la distancia al Sol y la velocidad en el perihelio; para que calcule e imprima las cantidades $ l_2 $, $ v_2 $, $T $ y $ e $."
   ]
  },
  {
   "cell_type": "markdown",
   "metadata": {},
   "source": [
    "## NO SÉ PORQUE ESTA VERSIÓN DEL CODIGO NO ME SALIÓ OJALÁ ME PUDIERAN AYUDAR A SABER PORQUE. \n",
    "## SI SE CORRE ESTE CODIGO PRIMERO, ES NECESARIO REINICIAR EL KERNEL PARA QUE EL CODIGO CORRECTO DE LOS VALORES ESPERADOs (EL BUENO ES EL DE LA CELDA DE ABAJO) \n",
    "**import math as mt \n",
    "v1 = float(input(\"Velocidad en el perihelio en metros por segundo\"))\n",
    "l1 = float(input(\"Distancia en el perihelio en metros\"))\n",
    "G = 6.6738e-11 \n",
    "M = 1.9891e30\n",
    "def orbitas(v1, l1):\n",
    "    v2 = (((2*G*M)/(v1*l1))-mt.sqrt(((2*G*M)/(v1*l1))**2 + (4*((v1)**2 - (2*G*M)/l1))))/2\n",
    "    return(v2)\n",
    "def distafelio(v1, l1, v2):\n",
    "    l2 = (l1*v1)/v2\n",
    "    return(l2)\n",
    "def mayor(l1, l2):\n",
    "    a = (l1+l2)/2\n",
    "    return(a)\n",
    "def menor(l1, l2):\n",
    "    b = mt.sqrt(l1*l2)\n",
    "    return(b)\n",
    "def perido(a, b, l1, l2):\n",
    "    T = (2* mt.pi * a *b)/(l1*v1)\n",
    "    return(T)\n",
    "def excent(l1, v1):\n",
    "    e = (l2-l1)/(l2+l1)\n",
    "    return(e)\n",
    "def resultados(v1, l1):\n",
    "    v2 = orbitas(v1, l1)\n",
    "    l2 = distafelio(v1, l1, v2)\n",
    "    T = perido(a, b, l1, l2)\n",
    "    e = excent(l1, v1)\n",
    "    print(\"La velocidad en el afelio es:\", v2 , \"m/s\")\n",
    "    print(\"La distancia en el afelio es:\", l2 , \"m\")\n",
    "    print(\"El periódo orbital es:\", T, \"segundos\")\n",
    "    print(\"La excentricidad orbital es:\", e)\n",
    "resultados(v1, l1)**"
   ]
  },
  {
   "cell_type": "code",
   "execution_count": 20,
   "metadata": {},
   "outputs": [
    {
     "name": "stdin",
     "output_type": "stream",
     "text": [
      "Velocidad en el perihelio en metros por segundo 4.322e4\n",
      "Distancia en el perihelio en metros 2.14e10\n"
     ]
    },
    {
     "name": "stdout",
     "output_type": "stream",
     "text": [
      "La velocidad en el afelio es: 43220.0 m/s\n",
      "La distancia en el afelio es: 21400000000.0 m\n",
      "El periódo orbital es: 3111063.5255354727 segundos\n",
      "La excentricidad orbital es: 0.0\n"
     ]
    }
   ],
   "source": [
    "# No lo pude echar a andar usando una función y tampoco sé porque no pude, ojalá me puedan ayudar arreglarlo :c\n",
    "import math as mt \n",
    "v1 = float(input(\"Velocidad en el perihelio en metros por segundo\"))\n",
    "l1 = float(input(\"Distancia en el perihelio en metros\"))\n",
    "G = 6.6738e-11 \n",
    "M = 1.9891e30\n",
    "v2 = (((2*G*M)/(v1*l1))- mt.sqrt((((2*G*M)/(v1*l1))**2) + (4*(v1**2 - ((2*G*M)/l1)))))/2\n",
    "l2 = (l1*v1)/v2\n",
    "a = (l1+l2)/2\n",
    "b = mt.sqrt(l1*l2)\n",
    "T = (2* mt.pi * a *b)/(l1*v1)\n",
    "e = (l2-l1)/(l2+l1)\n",
    "print(\"La velocidad en el afelio es:\", v2 , \"m/s\")\n",
    "print(\"La distancia en el afelio es:\", l2 , \"m\")\n",
    "print(\"El periódo orbital es:\", T, \"segundos\")\n",
    "print(\"La excentricidad orbital es:\", e)"
   ]
  },
  {
   "cell_type": "markdown",
   "metadata": {},
   "source": [
    "(c) Prueba tu programa haciendo que calcule las propiedades de las órbitas de la Tierra (para las cuales $ l_1 = 1.4710 \\times 10^{11} m$ y $v_1 = 3.0287 \\times 10^4 \\text{m/s} $ y del cometa Halley $l_1 = 8.7830 \\times 10^{10} \\text{m} $ y $v_1 = 5.4529 \\times 10^4 \\, \\text{m/s} $. Entre otras cosas, deberías encontrar que el periodo orbital de la Tierra es de un año y el del cometa Halley es de unos 76 años."
   ]
  },
  {
   "cell_type": "code",
   "execution_count": 15,
   "metadata": {},
   "outputs": [
    {
     "name": "stdin",
     "output_type": "stream",
     "text": [
      "Velocidad en el perihelio en metros por segundo 3.0287e4\n",
      "Distancia en el perihelio en metros 1.4710e11\n"
     ]
    },
    {
     "name": "stdout",
     "output_type": "stream",
     "text": [
      "La velocidad en el afelio es: 29305.39917726127 m/s\n",
      "La distancia en el afelio es: 152027197208.65994 m\n",
      "El periódo orbital es: 31543060.207886923 segundos\n",
      "La excentricidad orbital es: 0.01647191313474219\n"
     ]
    }
   ],
   "source": [
    "import math as mt \n",
    "v1 = float(input(\"Velocidad en el perihelio en metros por segundo\"))\n",
    "l1 = float(input(\"Distancia en el perihelio en metros\"))\n",
    "G = 6.6738e-11 \n",
    "M = 1.9891e30\n",
    "v2 = (((2*G*M)/(v1*l1))- mt.sqrt((((2*G*M)/(v1*l1))**2) + (4*(v1**2 - ((2*G*M)/l1)))))/2\n",
    "l2 = (l1*v1)/v2\n",
    "a = (l1+l2)/2\n",
    "b = mt.sqrt(l1*l2)\n",
    "T = (2* mt.pi * a *b)/(l1*v1)\n",
    "e = (l2-l1)/(l2+l1)\n",
    "print(\"La velocidad en el afelio es:\", v2 , \"m/s\")\n",
    "print(\"La distancia en el afelio es:\", l2 , \"m\")\n",
    "print(\"El periódo orbital es:\", T, \"segundos\")\n",
    "print(\"La excentricidad orbital es:\", e)"
   ]
  },
  {
   "cell_type": "code",
   "execution_count": 16,
   "metadata": {},
   "outputs": [
    {
     "name": "stdin",
     "output_type": "stream",
     "text": [
      "Velocidad en el perihelio en metros por segundo 5.4529e4\n",
      "Distancia en el perihelio en metros 8.8730e10\n"
     ]
    },
    {
     "name": "stdout",
     "output_type": "stream",
     "text": [
      "La velocidad en el afelio es: 344.38933405172065 m/s\n",
      "La distancia en el afelio es: 14049094125758.76 m\n",
      "El periódo orbital es: 10249291250.039454 segundos\n",
      "La excentricidad orbital es: 0.9874478563022528\n"
     ]
    }
   ],
   "source": [
    "import math as mt \n",
    "v1 = float(input(\"Velocidad en el perihelio en metros por segundo\"))\n",
    "l1 = float(input(\"Distancia en el perihelio en metros\"))\n",
    "G = 6.6738e-11 \n",
    "M = 1.9891e30\n",
    "v2 = (((2*G*M)/(v1*l1))- mt.sqrt((((2*G*M)/(v1*l1))**2) + (4*(v1**2 - ((2*G*M)/l1)))))/2\n",
    "l2 = (l1*v1)/v2\n",
    "a = (l1+l2)/2\n",
    "b = mt.sqrt(l1*l2)\n",
    "T = (2* mt.pi * a *b)/(l1*v1)\n",
    "e = (l2-l1)/(l2+l1)\n",
    "print(\"La velocidad en el afelio es:\", v2 , \"m/s\")\n",
    "print(\"La distancia en el afelio es:\", l2 , \"m\")\n",
    "print(\"El periódo orbital es:\", T, \"segundos\")\n",
    "print(\"La excentricidad orbital es:\", e)"
   ]
  },
  {
   "cell_type": "markdown",
   "metadata": {},
   "source": [
    "**2. La constante de Madelung:** \n",
    "En física de la materia condensada, la constante de Madelung da el potencial eléctrico total que siente un átomo en un sólido; y depende de las cargas de los otros átomos cercanos y de sus ubicaciones.\n",
    "\n",
    "Por ejemplo, el cristal de cloruro de sodio sólido (la sal de mesa), tiene átomos dispuestos en una red cúbica, con átomos de sodio y cloro alternados, teniendo los de sodio una carga positiva $+e$ y los de cloro una negativa $-e$ (donde $e$ es la carga del electrón). Si etiquetamos cada posición en la red con tres coordenadas enteras $(i, j, k)$, entonces los átomos de sodio caen en posiciones donde $i + j + k$ es par, y los átomos de cloro en posiciones donde $i + j + k$ es impar.\n",
    "\n",
    "Consideremos un átomo de sodio en el origen, i.e. $i = j = k = 0$, y calculemos la constante de Madelung. Si el espaciado de los átomos en la red es $a$, entonces la distancia desde el origen al átomo en la posición $(i, j, k)$ es:\n",
    "\n",
    "$\n",
    "\\sqrt{(ia)^2 + (ja)^2 + (ka)^2}= a \\sqrt{i^2 + j^2 + k^2}\n",
    "$\n",
    "\n",
    "y el potencial en el origen creado por tal átomo es:\n",
    "\n",
    "$\n",
    "V(i,j,k) = \\pm \\frac{e}{4\\pi \\varepsilon_0 a \\sqrt{i^2 + j^2 + k^2}}\n",
    "$\n",
    "\n",
    "siendo $\\varepsilon_0$ la permitividad del vacío y el signo de la expresión se toma dependiendo de si $i + j + k$ es par o impar. Así entonces, el potencial total que siente el átomo de sodio es la suma de esta cantidad sobre todos los demás átomos. Supongamos una caja cúbica alrededor del átomo de sodio en el origen, con \\(L\\) átomos en todas las direcciones, entonces:\n",
    "\n",
    "$\n",
    "V_{total} = \\sum_{i,j,k \\neq 0 ; i,j,k = -L}^L V(i,j,k) = M \\frac{e}{4\\pi \\varepsilon_0 a}\n",
    "$\n",
    "\n",
    "donde \\(M\\) es la constante de Madelung (al menos aproximadamente).\n",
    "\n",
    "Tecnicamente, la constante de Madelung es el valor de M cuando L → ∞, pero se puede obtener una buena aproximacion simplemente usando un valor grande de L.\n",
    "\n",
    "Escribe un programa para calcular e imprimir la constante de Madelung para el cloruro de sodio. Utiliza un valor de L tan grande como puedas, sin dejar que tu programa se ejecutar en un tiempo razonable (un minuto o menos)."
   ]
  },
  {
   "cell_type": "code",
   "execution_count": 19,
   "metadata": {},
   "outputs": [
    {
     "name": "stdin",
     "output_type": "stream",
     "text": [
      "Ingresa el número de átomos(intenta que el número máximo se mantenga al rededor de 100): 50\n"
     ]
    },
    {
     "name": "stdout",
     "output_type": "stream",
     "text": [
      "La constante de Madelung es: -1.7361319160634316\n"
     ]
    }
   ],
   "source": [
    "import math as mt\n",
    "e = 1.60217e-19\n",
    "epsilon = 8.854e-12\n",
    "a = 1 #decidi usar este valor para simplificar, pero puede ser cualquier otro\n",
    "L = int(input(\"Ingresa el número de átomos(intenta que el número máximo se mantenga al rededor de 100):\"))\n",
    "def pontencial(i,j,k): \n",
    "    r = a * mt.sqrt(i**2 + j**2 + k**2)\n",
    "    s = (-1)**(i+j+k)\n",
    "    v = s*(e/(4*mt.pi*epsilon*r))\n",
    "    return(v)\n",
    "def madelung(L):\n",
    "    vc = []\n",
    "    vt = 0\n",
    "    for i in range(-L, L+1):\n",
    "        for j in range(-L, L+1):\n",
    "            for k in range(-L, L+1):\n",
    "                if i == 0 and j == 0 and k == 0:\n",
    "                    continue\n",
    "                else: \n",
    "                    vt = vt + pontencial(i,j,k)\n",
    "                    vc.append(vt)\n",
    "    m = vt*((4*mt.pi*epsilon*a)/e)\n",
    "    return(m)\n",
    "M = madelung(L)\n",
    "print(f\"La constante de Madelung es: {M}\") #aqui quise probar otra forma de usar el print"
   ]
  },
  {
   "cell_type": "markdown",
   "metadata": {},
   "source": [
    "**3. Coeficientes binomiales**\n",
    "El coeficiente binomial $\\binom{n}{k}$ es un número entero igual a:\n",
    "\\begin{equation}\n",
    "\\binom{n}{k} = \\frac{n!}{k!(n-k)!} = \\frac{n(n-1)(n-2) \\cdots (n-k+1)}{1 \\times 2 \\times \\cdots \\times k}\n",
    "\\end{equation}\n",
    "donde $(k \\geq 1)$, o bien $\\binom{n}{0} = 1 \\quad \\text{cuando} \\quad k = 0$.\n",
    "\n",
    "(a) Utiliza esta fórmula para escribir una función llamada $\\texttt{binomial(n, k)}$ (o como tú quieras) que calcule el coeficiente binomial para un $n$ y $k$ dados. Asegúrate de que tu función devuelva la respuesta en forma de un número entero (no flotante) y proporcione el valor correcto de $1$ para el caso en que $k = 0$."
   ]
  },
  {
   "cell_type": "code",
   "execution_count": 101,
   "metadata": {},
   "outputs": [
    {
     "name": "stdin",
     "output_type": "stream",
     "text": [
      "Entero n: 10\n",
      "Entero k menor a n: 4\n"
     ]
    },
    {
     "name": "stdout",
     "output_type": "stream",
     "text": [
      "n!= 3628800\n",
      "k!= 24\n",
      "(n-k)!= 720\n",
      "El binomial es: 210\n"
     ]
    }
   ],
   "source": [
    "n = int(input(\"Entero n:\"))\n",
    "k = int(input(\"Entero k menor a n:\"))\n",
    "m = n - k\n",
    "def factn(n):\n",
    "    if n == 1 or n == 0:\n",
    "        return 1\n",
    "    else:\n",
    "        return n * factn(n-1)\n",
    "def factk(k):\n",
    "    if k == 1 or k == 0:\n",
    "        return 1\n",
    "    else:\n",
    "        return k * factk(k-1)\n",
    "def factnk(m):\n",
    "    if m == 1 or m == 0:\n",
    "        return 1\n",
    "    else:\n",
    "        return m * factnk(m-1)\n",
    "def binomial():\n",
    "    b = (factn(n))//(factk(k)*factnk(m))\n",
    "    return(b)\n",
    "print(\"n!=\", factn(n))\n",
    "print(\"k!=\", factk(k))\n",
    "print(\"(n-k)!=\", factnk(m))\n",
    "print(\"El binomial es:\", binomial())"
   ]
  },
  {
   "cell_type": "markdown",
   "metadata": {},
   "source": [
    "(b) Usando tu función, escribe un programa que imprima las primeras 20 líneas del \"$triángulo$ $de$ $Pascal$\". La $n$-ésima línea del triángulo de Pascal contiene $n + 1$ números, que son los coeficientes $\\binom{n}{0}$, $\\binom{n}{1}$, $\\ldots$, $\\binom{n}{n}$. De tal manera que las primeras líneas son:\n",
    "\\begin{array}{c}\n",
    "1 \\\\\n",
    "1 \\quad 1 \\\\\n",
    "1 \\quad 2 \\quad 1 \\\\\n",
    "1 \\quad 3 \\quad 3 \\quad 1 \\\\\n",
    "1 \\quad 4 \\quad 6 \\quad 4 \\quad 1 \\\\\n",
    "\\end{array}"
   ]
  },
  {
   "cell_type": "code",
   "execution_count": 102,
   "metadata": {},
   "outputs": [
    {
     "name": "stdin",
     "output_type": "stream",
     "text": [
      "Escribe el numero de lineas que quieres ver: 5\n"
     ]
    },
    {
     "name": "stdout",
     "output_type": "stream",
     "text": [
      "\n",
      "1\n",
      "11\n",
      "111\n",
      "1111\n",
      "None\n"
     ]
    }
   ],
   "source": [
    "# No me salió este la verdad no logré hallar la forma en la ultima función donde hay que usar una k distinta para cada linea \n",
    "lin = int(input(\"Escribe el numero de lineas que quieres ver:\"))\n",
    "n = lin - 1\n",
    "k = n\n",
    "m = n - k\n",
    "def factn(n):\n",
    "    if n == 1 or n == 0:\n",
    "        return 1\n",
    "    else:\n",
    "        return n * factn(n-1)\n",
    "def factk(k):\n",
    "    if k == 1 or k == 0:\n",
    "        return 1\n",
    "    else:\n",
    "        return k * factk(k-1)\n",
    "def factnk(m):\n",
    "    if m == 1 or m == 0:\n",
    "        return 1\n",
    "    else:\n",
    "        return m * factnk(m-1)\n",
    "def binomial():\n",
    "    b = (factn(n))//(factk(k)*factnk(m))\n",
    "    return(b)\n",
    "def pascal(lin):\n",
    "    for n in range(lin):\n",
    "        for k in range(n):\n",
    "            print(binomial(), end=\"\")\n",
    "        print()\n",
    "print(pascal(lin))"
   ]
  },
  {
   "cell_type": "markdown",
   "metadata": {},
   "source": [
    "(c) La probabilidad de que para una moneda no sesgada, lanzada $n$ veces, salga águila $k$ veces es:\n",
    "    \\begin{equation}\n",
    "    p(k|n) = \\frac{\\binom{n}{k}}{2^n}\n",
    "    \\end{equation}\n",
    "Escribe un programa para calcular:\n",
    "\n",
    "I) La probabilidad total de que una moneda lanzada 100 veces, salga águila exactamente 60 veces, y\n",
    "\n",
    "II) La probabilidad de que salga águila 60 veces o más."
   ]
  },
  {
   "cell_type": "code",
   "execution_count": 104,
   "metadata": {},
   "outputs": [
    {
     "name": "stdin",
     "output_type": "stream",
     "text": [
      "Número de lanzamientos: 100\n",
      "¿Cuantas veces queires que salga águila?: 60\n"
     ]
    },
    {
     "name": "stdout",
     "output_type": "stream",
     "text": [
      "La probabilidad es: 0.010843866711637987\n"
     ]
    }
   ],
   "source": [
    "n = int(input(\"Número de lanzamientos:\"))\n",
    "k = int(input(\"¿Cuantas veces queires que salga águila?:\"))\n",
    "m = n - k\n",
    "def factn(n):\n",
    "    if n == 1 or n == 0:\n",
    "        return 1\n",
    "    else:\n",
    "        return n * factn(n-1)\n",
    "def factk(k):\n",
    "    if k == 1 or k == 0:\n",
    "        return 1\n",
    "    else:\n",
    "        return k * factk(k-1)\n",
    "def factnk(m):\n",
    "    if m == 1 or m == 0:\n",
    "        return 1\n",
    "    else:\n",
    "        return m * factnk(m-1)\n",
    "def proba():\n",
    "    b = ((factn(n))//(factk(k)*factnk(m)))/2**n\n",
    "    return(b)\n",
    "print(\"La probabilidad es:\", proba())"
   ]
  },
  {
   "cell_type": "code",
   "execution_count": 105,
   "metadata": {},
   "outputs": [
    {
     "name": "stdin",
     "output_type": "stream",
     "text": [
      "Número de lanzamientos: 100\n",
      "¿Cuantas veces queires que salga águila: 60\n"
     ]
    },
    {
     "name": "stdout",
     "output_type": "stream",
     "text": [
      "La probabilidad es: None\n"
     ]
    }
   ],
   "source": [
    "# me estan costando mucho trabajo este tipo de ejercicios ayuda :c\n",
    "n = int(input(\"Número de lanzamientos:\"))\n",
    "k = int(input(\"¿Cuantas veces queires que salga águila:\"))\n",
    "m = n - k\n",
    "def factn(n):\n",
    "    if n == 1 or n == 0:\n",
    "        return 1\n",
    "    else:\n",
    "        return n * factn(n-1)\n",
    "def factk(k):\n",
    "    if k == 1 or k == 0:\n",
    "        return 1\n",
    "    else:\n",
    "        return k * factk(k-1)\n",
    "def factnk(m):\n",
    "    if m == 1 or m == 0:\n",
    "        return 1\n",
    "    else:\n",
    "        return m * factnk(m-1)\n",
    "def proba():\n",
    "    b = ((factn(n))//(factk(k)*factnk(m)))/2**n\n",
    "    return(b)\n",
    "def probas():\n",
    "    v = []\n",
    "    p = 0\n",
    "    for t in range(k, n+1):\n",
    "        p = p + proba()\n",
    "        v.append(p)\n",
    "print(\"La probabilidad es:\", probas())"
   ]
  },
  {
   "cell_type": "markdown",
   "metadata": {},
   "source": [
    "**4. Números primos**\n",
    "Es posible escribir un programa bastante rápido para calcular números primos siguiendo las siguientes observaciones:\n",
    "\n",
    "(a) Un número $n$ es primo, si no tiene factores primos menores que $n$. Por lo tanto, sólo necesitamos comprobar si es divisible por otros números primos.\n",
    "\n",
    "(b) Si un número $n$ no es primo y tiene un factor $r$, entonces $n = rs$, donde $s$ también es un factor. Si $r \\geq \\sqrt{n}$ entonces $n = rs \\geq \\sqrt{ns}$ lo que implica que $s \\geq \\sqrt{n}$ . Es decir, cualquier **no primo** debe tener factores, y por lo tanto también factores primos, menores o iguales a $\\sqrt{n}$. Por lo tanto, para determinar si un número es primo, tenemos que verificar sus factores primos solo hasta $\\sqrt{n}$; si no hay ninguno, entonces el número es primo.\n",
    "\n",
    "(c) Si encontramos un factor primo menor que $\\sqrt{n}$ entonces sabemos que el número no es primo y, por lo tanto, no hay necesidad de realizar más comprobaciones; podemos abandonar este número y pasar al siguiente.\n",
    "\n",
    "Escribe un programa que encuentre todos los números primos hasta 10000 (diez mil). Crea una lista para almacenar los números primos, que comience con solo un número primo (el 2). Luego, para cada número $n$ del 3 al 10000, verifica si el número es divisible por alguno de los números primos de la lista hasta $\\sqrt{n}$. En cuanto encuentres un factor primo, puedes dejar de comprobar el resto de números (pues ya sabrías que $n$ es primo). Si no encuentras factores primos iguales o menores a $\\sqrt{n}$, entonces $n$ es primo y habría que agregarlo a la lista. Puedes imprimir la lista completa al final del programa, o bien, ir imprimiendo los números individualmente a medida que los vayas encontrando."
   ]
  },
  {
   "cell_type": "code",
   "execution_count": 94,
   "metadata": {},
   "outputs": [
    {
     "name": "stdout",
     "output_type": "stream",
     "text": [
      "[1, 2, 3, 5, 7, 11, 13, 17, 19, 23, 29, 31, 37, 41, 43, 47, 53, 59, 61, 67, 71, 73, 79, 83, 89, 97, 101, 103, 107, 109, 113, 127, 131, 137, 139, 149, 151, 157, 163, 167, 173, 179, 181, 191, 193, 197, 199, 211, 223, 227, 229, 233, 239, 241, 251, 257, 263, 269, 271, 277, 281, 283, 293, 307, 311, 313, 317, 331, 337, 347, 349, 353, 359, 367, 373, 379, 383, 389, 397, 401, 409, 419, 421, 431, 433, 439, 443, 449, 457, 461, 463, 467, 479, 487, 491, 499, 503, 509, 521, 523, 541, 547, 557, 563, 569, 571, 577, 587, 593, 599, 601, 607, 613, 617, 619, 631, 641, 643, 647, 653, 659, 661, 673, 677, 683, 691, 701, 709, 719, 727, 733, 739, 743, 751, 757, 761, 769, 773, 787, 797, 809, 811, 821, 823, 827, 829, 839, 853, 857, 859, 863, 877, 881, 883, 887, 907, 911, 919, 929, 937, 941, 947, 953, 967, 971, 977, 983, 991, 997]\n"
     ]
    }
   ],
   "source": [
    "n = range(1, 1000)\n",
    "def primo(n):\n",
    "    for i in range(2, n):\n",
    "        if (n % i) == 0 :\n",
    "            return False\n",
    "    return True\n",
    "\n",
    "primos = list(filter(primo, n))\n",
    "print(primos)"
   ]
  },
  {
   "cell_type": "markdown",
   "metadata": {},
   "source": [
    "**5. Recursión**\n",
    "Una característica muy útil de las funciones que podemos definir es la recursividad, es decir, la capacidad de una función de llamarse a sí misma. Por ejemplo, considere la siguiente definición del factorial $n!$ de un entero positivo $n$:\n",
    "\n",
    "\\begin{equation}\n",
    "n! = \\begin{cases}\n",
    "1 & \\text{si } n = 1, \\\\\n",
    "n \\times (n-1)! & \\text{si } n > 1.\n",
    "\\end{cases}\n",
    "\\end{equation}\n",
    "\n",
    "Esto constituye una definición completa del factorial que nos permite calcular el valor de $n!$ para cualquier entero positivo. Podemos emplear esta definición directamente para crear una función para calcular factoriales, como esta (en Python):\n",
    "\n",
    "def factorial(n):\n",
    "\n",
    "    if n == 1:\n",
    "        return 1\n",
    "    else:\n",
    "        return n * factorial(n-1)\n",
    "\n",
    "Nota\n",
    "Como si $n \\neq 1$, la función se llama a sí misma para calcular el factorial de $n-1$, de tal manera que al pedir $\\texttt{print(factorial(5))} $ el intérprete de Python imprimirá correctamente la respuesta 120.\n",
    "\n",
    "(a) Anteriormente, en clase encontramos los números de Catalán $C_n$. Si hacemos una pequeña modificación, la definición de $C_n$ se puede reescribir de la siguiente forma:\n",
    "\\begin{equation}\n",
    "C_n = \\begin{cases}\n",
    "1 & \\text{si } n = 0, \\\\\n",
    "\\frac{4n-2}{n+1} C_{n-1} & \\text{si } n > 0.\n",
    "\\end{cases}\n",
    "\\end{equation}\n",
    "Escribe una función, usando recursividad, que calcule $C_n$ y utilízala para calcular e imprimir $C_{100}$."
   ]
  },
  {
   "cell_type": "code",
   "execution_count": null,
   "metadata": {},
   "outputs": [],
   "source": []
  },
  {
   "cell_type": "markdown",
   "metadata": {},
   "source": [
    "(b) Euclides demostró que el máximo común divisor \\(g(m, n)\\) de dos enteros no negativos \\(m\\) y \\(n\\) satisface que:\n",
    "\\begin{equation}\n",
    "g(m, n) = \\begin{cases}\n",
    "m & \\text{si } n = 0, \\\\\n",
    "g(n, m \\mod n) & \\text{si } n > 0.\n",
    "\\end{cases}\n",
    "\\end{equation}\n",
    "\n",
    "Usando esta fórmula, escribe una función $g(m, n)$ que emplee recursividad para calcular el máximo común divisor de $m$ y $n$. Usa tu función para calcular e imprimir el máximo común divisor de 108 y 192.\n",
    "\n",
    "Comparando el cálculo de los números de Catalán del inciso anterior con lo hecho en clase, vemos que es posible hacer el cálculo de dos maneras, ya sea directamente o usando recursividad. En la mayoría de los casos, si una cantidad se puede calcular sin recursividad, será más rápido y normalmente se recomienda hacerlo así, si es posible. Sin embargo, hay algunos cálculos que son esencialmente imposibles (o al menos mucho más difíciles) sin recursividad."
   ]
  },
  {
   "cell_type": "code",
   "execution_count": null,
   "metadata": {},
   "outputs": [],
   "source": []
  }
 ],
 "metadata": {
  "@webio": {
   "lastCommId": null,
   "lastKernelId": null
  },
  "kernelspec": {
   "display_name": "Python 3 (ipykernel)",
   "language": "python",
   "name": "python3"
  },
  "language_info": {
   "codemirror_mode": {
    "name": "ipython",
    "version": 3
   },
   "file_extension": ".py",
   "mimetype": "text/x-python",
   "name": "python",
   "nbconvert_exporter": "python",
   "pygments_lexer": "ipython3",
   "version": "3.12.4"
  }
 },
 "nbformat": 4,
 "nbformat_minor": 4
}
