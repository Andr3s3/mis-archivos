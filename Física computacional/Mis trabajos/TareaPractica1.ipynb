{
 "cells": [
  {
   "cell_type": "markdown",
   "metadata": {},
   "source": [
    "<h1 align=\"center\">Física Computacional.</h1>\n",
    "<h1 align=\"center\">Semestre 2015-1</h1>\n",
    "\n",
    "<h2>Andrés Camacho López </h2> \n",
    "\n",
    "---\n",
    "## Profesor:\n",
    "## Sergio A. Alcalá Corona\n",
    "## Ayudantes:\n",
    "### Rodrigo Vega Vilchis\n",
    "### Joel Gómez Uribe\n",
    "---"
   ]
  },
  {
   "cell_type": "markdown",
   "metadata": {},
   "source": [
    "<h1 align=\"center\">Programación para la física computacional</h1> \n",
    "\n",
    "## Práctica 1.  Programación para la física computacional\n",
    "\n",
    "\n",
    "### Programación básica para la física\n",
    "\n",
    "---"
   ]
  },
  {
   "cell_type": "markdown",
   "metadata": {},
   "source": [
    "### EJERCICIOS:\n",
    "\n",
    "\n",
    "**1. Coordenadas polares y cartesianas:** Supongamos que se nos da (es decir, el usuario introduce) la posición de un punto en un espacio bidimensional: \n",
    " \n",
    "(a) Si el punto se especifica  en coordenadas polares $r$,$\\theta$. Escribe un programa (en `python` sin usar la biblioteca `numpy`) que calcule e imprima la conversión a coordenadas cartesianas $x$, $y$."
   ]
  },
  {
   "cell_type": "code",
   "execution_count": 22,
   "metadata": {},
   "outputs": [
    {
     "name": "stdout",
     "output_type": "stream",
     "text": [
      "(20.225424859373685, 14.694631307311829)\n"
     ]
    }
   ],
   "source": [
    "import math as mt\n",
    "r = 25 \n",
    "theta = mt.radians(36)\n",
    "x = r*mt.cos(theta)\n",
    "y = r*mt.sin(theta)\n",
    "cartesianas = (x,y) \n",
    "print(cartesianas)"
   ]
  },
  {
   "cell_type": "markdown",
   "metadata": {},
   "source": [
    "(b) Si el punto se especifica en coordenadas cartesianas $x$, $y$. Escribe un programa (en `python` sin usar `numpy`) que calcule e imprima la conversión a coordenadas polares $r$,$\\theta$."
   ]
  },
  {
   "cell_type": "code",
   "execution_count": 37,
   "metadata": {},
   "outputs": [
    {
     "name": "stdout",
     "output_type": "stream",
     "text": [
      "(5.0, 53.13010235415598)\n"
     ]
    }
   ],
   "source": [
    "import math as mt\n",
    "x = 3\n",
    "y = 4\n",
    "r = mt.sqrt(x**2 + y**2)\n",
    "theta = mt.degrees(mt.atan2(y,x))\n",
    "Polares = (r,theta)\n",
    "print(Polares)"
   ]
  },
  {
   "cell_type": "markdown",
   "metadata": {},
   "source": [
    "**2. Productos vectoriales y matriciales:** Escribe el pseudocódigo de los algoritmos que realicen las siguientes operaciones vectoriales; así como los respectivos programas en `python`, sin usar bibliotecas como `numpy` ni cualquier otra (*i.e.* usando sólo listas ) que implementen dichos algoritmos:\n",
    "\n",
    "(a) El *producto interior* (producto punto) de dos vectores en $\\mathbb{R}^3$. En este caso, para la implementación el usuario del programa debe insertar las entradas de los vectores."
   ]
  },
  {
   "cell_type": "code",
   "execution_count": null,
   "metadata": {},
   "outputs": [],
   "source": [
    "# producto punto: \n",
    "# definir la funcion de producto punto \n",
    "# igualar la varible suma m a 0\n",
    "# asignar un vector vacío v3\n",
    "# crear nuestro ciclo para hacer el producto punto \n",
    "# definir el rango en el que ser hará nuestro ciclo \n",
    "# definir la forma en la que se va a calcular cada entrada\n",
    "# asignar los valores de m al vector vacío para alamcenarlos y sumarlos\n",
    "# regresar la suma m \n",
    "# definir la funcion para escribir los vectores \n",
    "# asignar el forma de lista el v1 y v2 con sus inputs correspondientes en cada entrada\n",
    "# asignar la igualdad del resultado como la función de producto punto \n",
    "# imprimir el resultado. "
   ]
  },
  {
   "cell_type": "code",
   "execution_count": 91,
   "metadata": {},
   "outputs": [],
   "source": [
    "def producto_punto(v1,v2):\n",
    "    m = 0\n",
    "    v3 = []\n",
    "    for i in range(len(v1)):\n",
    "        m = m + (v1[i] * v2[i])\n",
    "        v3.append(m)\n",
    "    return(m)\n",
    "def vectores():\n",
    "    v1 = [float(input(\"x1:\")),float(input(\"y1:\" mt.ra)),float(input(\"z1:\"))]\n",
    "    v2 = [float(input(\"x2:\")),float(input(\"y2:\")),float(input(\"z2:\"))]\n",
    "    resultado = producto_punto(v1,v2)\n",
    "    print(\"El prducto punto es P =\",resultado) "
   ]
  },
  {
   "cell_type": "code",
   "execution_count": 92,
   "metadata": {},
   "outputs": [
    {
     "name": "stdin",
     "output_type": "stream",
     "text": [
      "x1: 1.5\n",
      "y1: 21\n",
      "z1: 0.25\n",
      "x2: 154.4\n",
      "y2: 214.4\n",
      "z2: 15\n"
     ]
    },
    {
     "name": "stdout",
     "output_type": "stream",
     "text": [
      "El prducto punto es P = 4737.750000000001\n"
     ]
    }
   ],
   "source": [
    "vectores()"
   ]
  },
  {
   "cell_type": "markdown",
   "metadata": {},
   "source": [
    "(b) El producto interior de dos vectores en $\\mathbb{R}^n$. Para la implementación, en este caso, encuentra una manera de generar dos vectores diferentes en $\\mathbb{R}^n$<a name=\"cite_ref-1\"></a>[<sup>[1]</sup>](#cite_note-1)."
   ]
  },
  {
   "cell_type": "code",
   "execution_count": null,
   "metadata": {},
   "outputs": [],
   "source": [
    "# Producto interior para cualquiera dos vectores en Rn:\n",
    "# definir una lista de entradas con un rango dado para dos vectores diferentes\n",
    "# definir la funcion para hacer el producto vectorial:\n",
    "# igualar nuestra variable de la suma s a 0 \n",
    "# crear un vector vacio v3\n",
    "# agregar la condicion cuando los vectores tienen el mismo numero de entradas\n",
    "# crear nuestro ciclo para hacer el producto punto \n",
    "# definir el rango en el que ser hará nuestro ciclo \n",
    "# definir la forma en la que se va a calcular cada entrada\n",
    "# asignar los valores de s al vector vacío para alamcenarlos y sumarlos\n",
    "# regresar s\n",
    "# definir nuestra condición cuando los vectores tienen distinto numero de entradas\n",
    "# regresar el mensaje de como no se puede calcular el producto interior\n",
    "# imprimir el valor de s "
   ]
  },
  {
   "cell_type": "code",
   "execution_count": 107,
   "metadata": {},
   "outputs": [],
   "source": [
    "b1 = list(range(5,10))\n",
    "b2 = list(range(15,20))\n",
    "def producto_interior(b1,b2):\n",
    "    s = 0\n",
    "    v3 = []\n",
    "    if len(b1) == len(b2):\n",
    "        for i in range(len(b1)):\n",
    "            s = s + (b1[i] * b2[i])\n",
    "            v3.append(s)\n",
    "        return(s)\n",
    "    else:\n",
    "        len(b1) != len(b2)\n",
    "        return(print(\"Los vectores deben tener el mismo numero de entradas\"))\n",
    "    print(s)"
   ]
  },
  {
   "cell_type": "code",
   "execution_count": 133,
   "metadata": {},
   "outputs": [
    {
     "data": {
      "text/plain": [
       "[5, 6, 7, 8, 9]"
      ]
     },
     "execution_count": 133,
     "metadata": {},
     "output_type": "execute_result"
    }
   ],
   "source": [
    "b1"
   ]
  },
  {
   "cell_type": "code",
   "execution_count": 132,
   "metadata": {},
   "outputs": [
    {
     "data": {
      "text/plain": [
       "[15, 16, 17, 18, 19]"
      ]
     },
     "execution_count": 132,
     "metadata": {},
     "output_type": "execute_result"
    }
   ],
   "source": [
    "b2"
   ]
  },
  {
   "cell_type": "code",
   "execution_count": 108,
   "metadata": {},
   "outputs": [
    {
     "data": {
      "text/plain": [
       "605"
      ]
     },
     "execution_count": 108,
     "metadata": {},
     "output_type": "execute_result"
    }
   ],
   "source": [
    "producto_interior(b1,b2)"
   ]
  },
  {
   "cell_type": "markdown",
   "metadata": {},
   "source": [
    "(c) El producto de una matriz en $\\mathbb{A} \\in \\mathbb{R}^{nxn}$, por un vector de $\\mathbb{R}^n$. Para la implementación las entradas tanto del vector como de la matriz deben leerse de un archivo de datos (que tú puedes generar)."
   ]
  },
  {
   "cell_type": "code",
   "execution_count": null,
   "metadata": {},
   "outputs": [],
   "source": [
    "# no pude con el archivo de dato, me faltó timepo para entender esa parte"
   ]
  },
  {
   "cell_type": "code",
   "execution_count": null,
   "metadata": {},
   "outputs": [],
   "source": []
  },
  {
   "cell_type": "markdown",
   "metadata": {},
   "source": [
    "(d) El producto de dos matrices $\\mathbb{A}, \\mathbb{B} \\in \\mathbb{R}^{nxn}$. En la implementación las entradas de ambas matrices deben leerse de un archivo de datos (que tú generes).\n"
   ]
  },
  {
   "cell_type": "code",
   "execution_count": null,
   "metadata": {},
   "outputs": [],
   "source": [
    "# no pude con el archivo de dato, me faltó timepo para entender esa parte"
   ]
  },
  {
   "cell_type": "code",
   "execution_count": null,
   "metadata": {},
   "outputs": [],
   "source": []
  },
  {
   "cell_type": "markdown",
   "metadata": {},
   "source": [
    "(e) Convierte tus códigos en funciones y generaliza todo en un única función que realice el producto de dos matrices $\\mathbb{A}, \\in \\mathbb{R}^{nm}$ y $\\mathbb{B} \\in \\mathbb{R}^{mn}$, así como el cálculo de cualquiera de los incisos anteriores, dependiendo de la entrada que se le de a la función.En todos los casos, las entradas deben leerse de un archivo de datos."
   ]
  },
  {
   "cell_type": "code",
   "execution_count": null,
   "metadata": {},
   "outputs": [],
   "source": [
    "# no pude con el archivo de dato, me faltó timepo para entender esa parte"
   ]
  },
  {
   "cell_type": "code",
   "execution_count": null,
   "metadata": {},
   "outputs": [],
   "source": []
  },
  {
   "cell_type": "code",
   "execution_count": null,
   "metadata": {},
   "outputs": [],
   "source": []
  },
  {
   "cell_type": "markdown",
   "metadata": {},
   "source": [
    "**3. Caida de una pelota desde una torre:** Se deja caer una pelota desde una torre de altura $h$. Tiene velocidad inicial cero y acelera hacia abajo con la gravedad. \n",
    "\n",
    "Escribe un programa que le pida al usuario que ingrese la altura en metros de la torre y luego calcule e imprima el tiempo en segundos hasta que la pelota toque el suelo (ignora la resistencia del aire). \n",
    "    \n",
    "Despues, usa tu programa para calcular el tiempo de una pelota lanzada desde una torre de 100 m de altura.\n",
    "\n"
   ]
  },
  {
   "cell_type": "code",
   "execution_count": 129,
   "metadata": {},
   "outputs": [],
   "source": [
    "import math as mt\n",
    "g = 9.81 \n",
    "def calclulo_caida(h): \n",
    "    if h > 0:\n",
    "        t = mt.sqrt((2*h)/g)\n",
    "        return(t)\n",
    "    else:\n",
    "        h <= 0\n",
    "        return(print(\"La altura debe ser mayor a 0\"))\n",
    "def altura():\n",
    "    h = float(input(\"Ingresa la alura en metros:\"))\n",
    "    tiempo = calclulo_caida(h)\n",
    "    print(\"El tiempo de caida hasta que la pelota toca es suelo es\", tiempo, \"segundos\")"
   ]
  },
  {
   "cell_type": "code",
   "execution_count": 130,
   "metadata": {},
   "outputs": [
    {
     "name": "stdin",
     "output_type": "stream",
     "text": [
      "Ingresa la alura en metros: 100\n"
     ]
    },
    {
     "name": "stdout",
     "output_type": "stream",
     "text": [
      "El tiempo de caida hasta que la pelota toca es suelo es 4.515236409857309 segundos\n"
     ]
    }
   ],
   "source": [
    "altura()"
   ]
  },
  {
   "cell_type": "markdown",
   "metadata": {},
   "source": [
    "\n",
    "**4. Altitud de un satélite**: se va a lanzar un satélite en una órbita circular alrededor de la Tierra de modo que orbite el planeta una vez cada $T$ segundos."
   ]
  },
  {
   "cell_type": "markdown",
   "metadata": {},
   "source": [
    "(a) Demuestre que la altitud $h$ sobre la superficie de la Tierra que debe tener el satélite es:\n",
    "\n",
    "<h3 align=\"center\">$h = \\biggl( {GMT^2\\over4\\pi^2} \\biggr)^{1/3} - R$,</h3> \n",
    "\n",
    "donde $G = 6,67 × 10^{−11} m^3 kg^{−1}s^{−2}$ es la constante gravitatoria de Newton, $M = 5,97 ×\n",
    "1024 kg$ es la masa de la Tierra, y $R = 6371 km$ es su radio.\n",
    "\n",
    "\n"
   ]
  },
  {
   "cell_type": "markdown",
   "metadata": {},
   "source": [
    "(b) Escribe un programa que le pida al usuario que ingrese el valor deseado de $T$ y luego calcule\n",
    "e imprima la altura correcta en metros.\n"
   ]
  },
  {
   "cell_type": "code",
   "execution_count": null,
   "metadata": {},
   "outputs": [],
   "source": [
    "# Demostración:\n",
    "# Primero obteniendo la velocidad angular w = (2pi)/T [rad/s]\n",
    "# Ahora en este prblema sabemo que la fuerza de gravedad es igual a la fuerza centripeta\n",
    "# Viendo la fuerza centripeta F_c\n",
    "# F_c = m * (v^2)/(R+h) donde m es la masa de saltélite, v es la velocidad tangencial y R+h es el radio el cual es la suma de la R y h \n",
    "# F_c = m *(w^2(R+h)^2)/(R+h) = m*w^2*(R+h)\n",
    "# viendo la fuerza de gravedad F_g\n",
    "# F_g = G * (M*m)/(R+h) donde ya conocemos cada término \n",
    "# igualando F_c = F_g\n",
    "# m*w^2*(R+h) = G * (M*m)/(R+h) esto  es (R+h)^3 = (G * M)/w^2 \n",
    "# ahora vemos que R+h = ((G*M*T^2)/(4*pi^2))^{1/3}\n",
    "# Finalmente demostramos que h = ((G*M*T^2)/(4*pi^2))^{1/3} - R"
   ]
  },
  {
   "cell_type": "code",
   "execution_count": 8,
   "metadata": {},
   "outputs": [
    {
     "name": "stdin",
     "output_type": "stream",
     "text": [
      "ingresa el tiempo en segundos: 6000\n"
     ]
    },
    {
     "name": "stdout",
     "output_type": "stream",
     "text": [
      "La altura del satélite es de 763238.8150119493 metros\n"
     ]
    }
   ],
   "source": [
    "import math as mt \n",
    "G = 6.67e-11\n",
    "M = 5.97e24\n",
    "R = 6371e3 #pues G está en metros y hay que poner R en metros\n",
    "T = float(input(\"ingresa el tiempo en segundos:\"))\n",
    "def altura(T):\n",
    "    if T > 5063.4:\n",
    "        h = ((G*M*(T**2))/(4*(mt.pi**2)))**(1/3) - R\n",
    "        return(h)\n",
    "    else:\n",
    "        T <= 5063.4\n",
    "        return(print(\"el tiempo debe ser mayor a 5063.4 segundos para obtener un calculo real\"))\n",
    "def calculo():\n",
    "    H = altura(T)\n",
    "    print(\"La altura del satélite es de\", H, \"metros\")\n",
    "calculo()"
   ]
  },
  {
   "cell_type": "code",
   "execution_count": 2,
   "metadata": {},
   "outputs": [
    {
     "name": "stdout",
     "output_type": "stream",
     "text": [
      "La altura del satélite es de 763238.8150119493 metros\n"
     ]
    }
   ],
   "source": [
    "calculo()"
   ]
  },
  {
   "cell_type": "markdown",
   "metadata": {},
   "source": [
    "(c) Utiliza tu programa para calcular las altitudes de los satélites que orbitan la Tierra una vez al día (la llamada *órbita \"geosincrónica\"*), una vez cada **90 minutos** y una vez cada **45 minutos**. \n",
    "¿Qué concluyes del último de estos cálculos?"
   ]
  },
  {
   "cell_type": "code",
   "execution_count": 28,
   "metadata": {},
   "outputs": [
    {
     "name": "stdin",
     "output_type": "stream",
     "text": [
      "ingresa el tiempo en segundos: 86400\n"
     ]
    },
    {
     "name": "stdout",
     "output_type": "stream",
     "text": [
      "La altura del satélite es de 35855910.176174976 metros\n"
     ]
    }
   ],
   "source": [
    "calculo()"
   ]
  },
  {
   "cell_type": "code",
   "execution_count": 29,
   "metadata": {},
   "outputs": [
    {
     "name": "stdin",
     "output_type": "stream",
     "text": [
      "ingresa el tiempo en segundos: 5400\n"
     ]
    },
    {
     "name": "stdout",
     "output_type": "stream",
     "text": [
      "La altura del satélite es de 279321.6253728606 metros\n"
     ]
    }
   ],
   "source": [
    "calculo()"
   ]
  },
  {
   "cell_type": "code",
   "execution_count": 31,
   "metadata": {},
   "outputs": [
    {
     "name": "stdin",
     "output_type": "stream",
     "text": [
      "ingresa el tiempo en segundos: 2700\n"
     ]
    },
    {
     "name": "stdout",
     "output_type": "stream",
     "text": [
      "el tiempo debe ser mayor a 5063.4 segundos para obtener un calculo real\n",
      "La altura del satélite es de None metros\n"
     ]
    }
   ],
   "source": [
    "calculo()"
   ]
  },
  {
   "cell_type": "code",
   "execution_count": 33,
   "metadata": {},
   "outputs": [],
   "source": [
    "# si el valor es menor al que ya he establecido el programa, la altura la dará como una alutra negativa\n",
    "# debido a que si el tiempo es más corto, la velocidad tangencial lograría generar un fuerza mas grande que F_g y el satélite saldría de orbita\n",
    "# por lo que para encajar en la fórmula, tendrías que tener una distancia menor para que la fuerza sea suficiente para que se pueda orbitar"
   ]
  },
  {
   "cell_type": "markdown",
   "metadata": {},
   "source": [
    "**5. Relatividad especial:** Una nave espacial viaja desde la Tierra en línea recta a una velocidad relativista $v$ a otro planeta a $x$ años luz de distancia.\n",
    " \n",
    " Escribe un programa que le pida al usuario el valor de $x$ y la velocidad $v$ como una fracción de la velocidad de la luz $c$, y que imprima el tiempo en años que tarda la nave espacial en llegar a su destino\n",
    " \n",
    "(a) en el marco de reposo de un observador en la Tierra y "
   ]
  },
  {
   "cell_type": "code",
   "execution_count": 103,
   "metadata": {},
   "outputs": [],
   "source": [
    "import math as mt\n",
    "c = 3e8\n",
    "def tiempo(x,v):\n",
    "    if v <= 1:\n",
    "        gamma = 1/mt.sqrt(1-v**2)\n",
    "        tiempo_años = (x / v)*gamma \n",
    "        return(tiempo_años)\n",
    "    else:\n",
    "        v > 1\n",
    "        return(print(\"La velocidad debe estar entre 0 y 1 pues v no puede ser mayor a c\"))\n",
    "def tierra():\n",
    "    x = float(input(\"Ingresa distancia a la tierra en años luz:\"))\n",
    "    v = float(input(\"Ingresa la velocidad de la nave como fraccíon (en notación decimal) de c:\"))\n",
    "    años = tiempo(x,v)\n",
    "    print(\"El tiempo que tardará la nave en llegar es de:\", años, \"años\")"
   ]
  },
  {
   "cell_type": "code",
   "execution_count": 104,
   "metadata": {},
   "outputs": [
    {
     "name": "stdin",
     "output_type": "stream",
     "text": [
      "Ingresa distancia a la tierra en años luz: 10\n",
      "Ingresa la velocidad de la nave como fraccíon (en notación decimal) de c: 0.99\n"
     ]
    },
    {
     "name": "stdout",
     "output_type": "stream",
     "text": [
      "El tiempo que tardará la nave en llegar es de: 71.60416212205408 años\n"
     ]
    }
   ],
   "source": [
    "tierra()"
   ]
  },
  {
   "cell_type": "markdown",
   "metadata": {},
   "source": [
    "(b) como lo percibiría un pasajero a bordo de la nave. \n",
    " Usa tu programa para calcular las respuestas para un planeta a 10 años luz de distancia con $v = 0.99c$"
   ]
  },
  {
   "cell_type": "code",
   "execution_count": 102,
   "metadata": {},
   "outputs": [],
   "source": [
    "import math as mt\n",
    "c = 3e8\n",
    "def tiempo_nave(x,v):\n",
    "    if v <= 1:\n",
    "        gamma = 1/mt.sqrt(1 - v**2)\n",
    "        tiempo_años = (x / v)/gamma\n",
    "        return(tiempo_años)\n",
    "    else:\n",
    "        v > 1\n",
    "        return(print(\"La velocidad debe estar entre 0 y 1 pues v no puede ser mayor a c\"))\n",
    "def nave():\n",
    "    x = float(input(\"Ingresa distancia a la tierra en años luz:\"))\n",
    "    v = float(input(\"Ingresa la velocidad de la nave como fraccíon (en notación decimal) de c:\"))\n",
    "    años = tiempo_nave(x,v)\n",
    "    print(\"El tiempo que tardará la nave en llegar es de:\", años, \"años\")"
   ]
  },
  {
   "cell_type": "code",
   "execution_count": 105,
   "metadata": {},
   "outputs": [
    {
     "name": "stdin",
     "output_type": "stream",
     "text": [
      "Ingresa distancia a la tierra en años luz: 10\n",
      "Ingresa la velocidad de la nave como fraccíon (en notación decimal) de c: 0.99\n"
     ]
    },
    {
     "name": "stdout",
     "output_type": "stream",
     "text": [
      "El tiempo que tardará la nave en llegar es de: 1.424922826228878 años\n"
     ]
    }
   ],
   "source": [
    "nave()"
   ]
  },
  {
   "cell_type": "markdown",
   "metadata": {},
   "source": [
    "<a name=\"cite_note-1\"></a>[1](#cite_ref-1) sólo para esto si puedes usar `numpy` mas no para realizar el resto del programa"
   ]
  }
 ],
 "metadata": {
  "@webio": {
   "lastCommId": null,
   "lastKernelId": null
  },
  "kernelspec": {
   "display_name": "Python 3 (ipykernel)",
   "language": "python",
   "name": "python3"
  },
  "language_info": {
   "codemirror_mode": {
    "name": "ipython",
    "version": 3
   },
   "file_extension": ".py",
   "mimetype": "text/x-python",
   "name": "python",
   "nbconvert_exporter": "python",
   "pygments_lexer": "ipython3",
   "version": "3.12.4"
  }
 },
 "nbformat": 4,
 "nbformat_minor": 4
}
