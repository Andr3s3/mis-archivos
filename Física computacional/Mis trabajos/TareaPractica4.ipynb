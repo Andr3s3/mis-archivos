{
 "cells": [
  {
   "cell_type": "markdown",
   "metadata": {},
   "source": [
    "<h1 align=\"center\">Física Computacional.</h1>\n",
    "<h1 align=\"center\">Semestre 2015-1</h1>\n",
    "\n",
    "<h2>Andrés Camacho López </h2> \n",
    "\n",
    "---\n",
    "## Profesor:\n",
    "## Sergio A. Alcalá Corona\n",
    "## Ayudantes:\n",
    "### Rodrigo Vega Vilchis\n",
    "### Joel Gómez Uribe\n",
    "---"
   ]
  },
  {
   "cell_type": "markdown",
   "metadata": {},
   "source": [
    "<h1 align=\"center\">Programación para la física computacional</h1> \n",
    "\n",
    "## Práctica 4.  Programación para la física computacional\n",
    "\n",
    "\n",
    "###\n",
    "\n",
    "---"
   ]
  },
  {
   "cell_type": "markdown",
   "metadata": {},
   "source": [
    "### EJERCICIOS:\n",
    "\n",
    "\n",
    "**2. Escribe un programa en el que definas funciones que realicen lo siguiente:**\n",
    "\n",
    "(a) Toma como argumentos un valor flotante y el número \\(32 o 64\\). Entonces devuelve\n",
    "su representacion de punto flotante (numeros de maquina) de 32 o 64 bits."
   ]
  },
  {
   "cell_type": "code",
   "execution_count": 36,
   "metadata": {},
   "outputs": [
    {
     "name": "stdout",
     "output_type": "stream",
     "text": [
      "Para 32 bits: (0 01011101 00100101010110011000011)\n",
      "Para 64 bits: (0 01111011101 0010010101011001100001100001011011011101100111110001)\n"
     ]
    }
   ],
   "source": [
    "val = 6.67e-11\n",
    "bit1 = 32\n",
    "bit2 = 64\n",
    "def conver(val, bit):\n",
    "    if bit == 32:\n",
    "        if val >= 0:\n",
    "            signo = 0\n",
    "        else:\n",
    "            singo = 1 \n",
    "        val = abs(val) \n",
    "        Er = 0 \n",
    "        if val !=0: \n",
    "            while val < 1:\n",
    "                val = val*2\n",
    "                Er = Er-1\n",
    "            while val >= 2:\n",
    "                val = val/2\n",
    "                Er = Er + 1\n",
    "        Er = Er + 127\n",
    "        mant = int((val-1)*(2**23)) \n",
    "        binario = f\"({signo:01b} {Er:08b} {mant:023b})\" \n",
    "    if bit == 64:\n",
    "        if val >= 0:\n",
    "            signo = 0\n",
    "        else:\n",
    "            singo = 1 \n",
    "        val = abs(val) \n",
    "        Er = 0 \n",
    "        if val != 0: \n",
    "            while val < 1:\n",
    "                val = val*2\n",
    "                Er = Er-1\n",
    "            while val >= 2:\n",
    "                val = val/2\n",
    "                Er = Er + 1\n",
    "        Er = Er + 1023\n",
    "        mant = int((val-1)*(2**52))\n",
    "        binario = f\"({signo:01b} {Er:011b} {mant:052b})\"\n",
    "    return binario\n",
    "\n",
    "print(\"Para 32 bits:\", conver(val, bit1))\n",
    "print(\"Para 64 bits:\", conver(val, bit2))"
   ]
  },
  {
   "cell_type": "markdown",
   "metadata": {},
   "source": [
    "(b) Toma como argumentos un numero de maquina y el numero 32 o 64 que representa si es un numero en estandar simple (32 bits) o doble (64 bits). Entonces devuelve su representacion decimal."
   ]
  },
  {
   "cell_type": "code",
   "execution_count": 60,
   "metadata": {},
   "outputs": [
    {
     "name": "stdout",
     "output_type": "stream",
     "text": [
      "La conversion de 32 bits es: 4.6870441711523214e+70\n",
      "La conversion de 64 bits es: 6.67e-11\n",
      "La conversion de 64 bits es: -6.67e-11\n"
     ]
    }
   ],
   "source": [
    "def conver(binario, bit):\n",
    "    if bit == 32:\n",
    "        signo = int(binario[0:1])\n",
    "        Er = int(binario[1:9],2)+127 \n",
    "        mant = int(binario[9:],2)/(2*22)\n",
    "        val = (mant+1)*(2**Er)\n",
    "        if signo == 1:\n",
    "            val = (-1) * val\n",
    "    elif bit == 64:\n",
    "        signo = int(binario[0:1])\n",
    "        Er = int(binario[1:12],2)-1023 \n",
    "        mant = int(binario[12:],2)/(2**52)\n",
    "        val = (mant + 1)*(2**Er)\n",
    "        if signo == 1:\n",
    "            val = (-1) * val\n",
    "    return val\n",
    "print(\"La conversion de 32 bits es:\", conver(\"10101110100100101010110011000011\",32)) # no se porque en este caso no me sale\n",
    "print(\"La conversion de 64 bits es:\", conver(\"0011110111010010010101011001100001100001011011011101100111110001\",64))\n",
    "print(\"La conversion de 64 bits es:\", conver(\"1011110111010010010101011001100001100001011011011101100111110001\",64)) # prueba para el signo "
   ]
  },
  {
   "cell_type": "markdown",
   "metadata": {},
   "source": [
    "**Ejercicio 3**\n"
   ]
  },
  {
   "cell_type": "code",
   "execution_count": 3,
   "metadata": {},
   "outputs": [
    {
     "name": "stdout",
     "output_type": "stream",
     "text": [
      "forma normal: 788657867364790503552363213932185062295135977687173263294742533244359449963403342920304284011984623904177212138919638830257642790242637105061926624952829931113462857270763317237396988943922445621451664240254033291864131227428294853277524242407573903240321257405579568660226031904170324062351700858796178922222789623703897374720000000000000000000000000000000000000000000000000\n",
      "con punto flotante: inf\n"
     ]
    }
   ],
   "source": [
    "n1 = 200\n",
    "n2 = 200.0\n",
    "def fact(n):\n",
    "    if n == 0 or n ==1:\n",
    "        return 1\n",
    "    if n%1 == 0:\n",
    "        return(n*fact(n-1))\n",
    "    else:\n",
    "        return(n*fact(n - 1))\n",
    "print(\"forma normal:\", fact(n1))\n",
    "print(\"con punto flotante:\", fact(n2))"
   ]
  },
  {
   "cell_type": "markdown",
   "metadata": {},
   "source": [
    "**Ejercicio 4:**\n",
    "\n",
    "Inciso a)\n",
    "\n"
   ]
  },
  {
   "cell_type": "code",
   "execution_count": 24,
   "metadata": {},
   "outputs": [
    {
     "name": "stdout",
     "output_type": "stream",
     "text": [
      "Las soluciones son: (-9.999894245993345e-13, -0.999999999999)\n"
     ]
    }
   ],
   "source": [
    "import math as mt\n",
    "a = 0.001\n",
    "b = 1000\n",
    "c = 0.001\n",
    "def sol(a,b,c):\n",
    "    raiz = b**2 - (4*a*c)\n",
    "    if raiz < 0:\n",
    "        return(\"Esta ecuación no se puede resolver\")\n",
    "    x1 = (-b + mt.sqrt(raiz))/2*a\n",
    "    x2 = (-b - mt.sqrt(raiz))/2*a\n",
    "    return (x1, x2)\n",
    "\n",
    "print(\"Las soluciones son:\" , sol(a,b,c))"
   ]
  },
  {
   "cell_type": "markdown",
   "metadata": {},
   "source": [
    "Inciso b)"
   ]
  },
  {
   "cell_type": "markdown",
   "metadata": {},
   "source": [
    "**Demostracón**\n",
    "\n",
    "Tenemos que:\n",
    "\n",
    "\\begin{equation}\n",
    "    x_{1,2} = \\frac{-b \\pm \\sqrt{b^2 -4ac}}{2a}\n",
    "\\end{equation}\n",
    "\n",
    "multiplicando por $-b \\pm \\sqrt{b^2 -4ac}$  arriba y abajo de la ecuación anterior\n",
    "\n",
    "\\begin{equation}\n",
    "    x_{1,2} = \\frac{-b \\pm \\sqrt{b^2 -4ac}}{2a} \\cdot \\frac{-b \\pm \\sqrt{b^2 -4ac}}{-b \\pm \\sqrt{b^2 -4ac}}\n",
    "\\end{equation}\n",
    "\n",
    "obtenemos que:\n",
    "\n",
    "\\begin{equation}\n",
    "    x_{1,2} = \\frac{b^2 - b^2+4ac}{2a \\cdot -b \\pm \\sqrt{b^2 - 4ac}}\n",
    "\\end{equation}\n",
    "lo que finalmente resulta en:\n",
    "\n",
    "\\begin{equation}\n",
    "    x_{1,2} = \\frac{2c}{-b \\pm \\sqrt{b^2 - 4ac}}\n",
    "\\end{equation}"
   ]
  },
  {
   "cell_type": "code",
   "execution_count": 10,
   "metadata": {},
   "outputs": [
    {
     "name": "stdout",
     "output_type": "stream",
     "text": [
      "Las soluciones son con la fórmula normal son: (-9.999894245993345e-13, -0.999999999999)\n",
      "Las soluciones con la nueva fórmula son: (-1.000000000001e-06, -1.000000000001e-06)\n"
     ]
    }
   ],
   "source": [
    "import math as mt\n",
    "a = 0.001\n",
    "b = 1000\n",
    "c = 0.001\n",
    "def solnorm(a,b,c):\n",
    "    raiz = b**2 - (4*a*c)\n",
    "    if raiz < 0:\n",
    "        return(\"Esta ecuación no se puede resolver\")\n",
    "    x1 = (-b + mt.sqrt(raiz))/2*a\n",
    "    x2 = (-b - mt.sqrt(raiz))/2*a\n",
    "    return (x1, x2)\n",
    "\n",
    "def solnueva(a,b,c):\n",
    "    raiz = b**2 - (4*a*c)\n",
    "    if raiz < 0:\n",
    "        return(\"Esta ecuación no se puede resolver\")\n",
    "    x3 = (2*c) / (-b + mt.sqrt(raiz))\n",
    "    x4 = x3 = (2*c) / (-b - mt.sqrt(raiz))\n",
    "    return (x3, x4)\n",
    "    \n",
    "print(\"Las soluciones son con la fórmula normal son:\" , solnorm(a,b,c))\n",
    "print(\"Las soluciones con la nueva fórmula son:\", solnueva(a,b,c))"
   ]
  },
  {
   "cell_type": "markdown",
   "metadata": {},
   "source": [
    "Vemos que las soluciones no son iguales, esto puede ser debido a errores en la presición de cada fórmula debido a la fomra en la que se opera en cada una."
   ]
  },
  {
   "cell_type": "markdown",
   "metadata": {},
   "source": [
    "Inciso c)"
   ]
  },
  {
   "cell_type": "code",
   "execution_count": 12,
   "metadata": {},
   "outputs": [
    {
     "name": "stdout",
     "output_type": "stream",
     "text": [
      "Las soluciones más precisas son: (-1.000000000001e-06, -0.999999999999)\n"
     ]
    }
   ],
   "source": [
    "import math as mt\n",
    "a = 0.001\n",
    "b = 1000\n",
    "c = 0.001\n",
    "def sol(a,b,c):\n",
    "    raiz = b**2 - (4*a*c)\n",
    "    if raiz < 0:\n",
    "        return(\"Esta ecuación no se puede resolver\")\n",
    "    x1 = (-b + mt.sqrt(raiz))/2*a\n",
    "    x2 = (-b - mt.sqrt(raiz))/2*a\n",
    "    x3 = (2*c) / (-b + mt.sqrt(raiz))\n",
    "    x4 = x3 = (2*c) / (-b - mt.sqrt(raiz))\n",
    "    if abs(x1)<abs(x3):\n",
    "        xa = x3\n",
    "    else:\n",
    "        xa = x1\n",
    "    if abs(x2)<abs(x4):\n",
    "        xb = x4\n",
    "    else:\n",
    "        xb = x2\n",
    "    return (xa, xb)\n",
    "\n",
    "print(\"Las soluciones más precisas son:\", sol(a,b,c))"
   ]
  },
  {
   "cell_type": "markdown",
   "metadata": {},
   "source": [
    "**Ejercicio 5**\n",
    " \n",
    " Inciso a)"
   ]
  },
  {
   "cell_type": "code",
   "execution_count": 17,
   "metadata": {},
   "outputs": [
    {
     "name": "stdout",
     "output_type": "stream",
     "text": [
      "La derivada aproximada es: 1.010000000000001\n",
      "La derivada analítica es: 1\n"
     ]
    }
   ],
   "source": [
    "x0 = 1\n",
    "delta = 1e-2\n",
    "def f(x):\n",
    "    return x * (x-1)\n",
    "def derivada(f, x0, delta):\n",
    "    return ( (f(x0 + delta)-f(x0))/delta)\n",
    "print(\"La derivada aproximada es:\" , derivada(f,x0,delta))\n",
    "print(\"La derivada analítica es:\", (2*x0) -1)\n",
    "#Tenemos valores diferente posiblemente por errores de rendondeo y precision "
   ]
  },
  {
   "cell_type": "markdown",
   "metadata": {},
   "source": [
    "Inciso b) "
   ]
  },
  {
   "cell_type": "code",
   "execution_count": 23,
   "metadata": {},
   "outputs": [
    {
     "name": "stdout",
     "output_type": "stream",
     "text": [
      "La derivada aproximada para cada delta es: [1.0000999999998899, 1.0000009999177333, 1.0000000039225287, 1.000000082840371, 1.0000889005833413, 0.9992007221626509]\n"
     ]
    }
   ],
   "source": [
    "x0 = 1\n",
    "deltas = [1e-4, 1e-6, 1e-8, 1e-10, 1e-12, 1e-14]\n",
    "def f(x):\n",
    "    return x * (x-1)\n",
    "def derivada(f, x0, delta):\n",
    "    v =[]\n",
    "    for delta in deltas:\n",
    "        d = (f(x0 + delta)-f(x0))/delta\n",
    "        v.append(d)\n",
    "    return(v)\n",
    "print(\"La derivada aproximada para cada delta es:\" , derivada(f,x0,delta))"
   ]
  },
  {
   "cell_type": "markdown",
   "metadata": {},
   "source": [
    "Essta perdida de presición puede ser debido a errores de redondeo y a que los valores de delta al ser mas pequeños, la resta de los valores de f(x) puede ser minima."
   ]
  }
 ],
 "metadata": {
  "@webio": {
   "lastCommId": null,
   "lastKernelId": null
  },
  "kernelspec": {
   "display_name": "Python 3 (ipykernel)",
   "language": "python",
   "name": "python3"
  },
  "language_info": {
   "codemirror_mode": {
    "name": "ipython",
    "version": 3
   },
   "file_extension": ".py",
   "mimetype": "text/x-python",
   "name": "python",
   "nbconvert_exporter": "python",
   "pygments_lexer": "ipython3",
   "version": "3.12.4"
  }
 },
 "nbformat": 4,
 "nbformat_minor": 4
}
