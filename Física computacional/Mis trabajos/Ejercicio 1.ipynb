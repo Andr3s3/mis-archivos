{
 "cells": [
  {
   "cell_type": "code",
   "execution_count": null,
   "id": "6dbd33f6-30b0-4dc7-9511-dd867fcf45b5",
   "metadata": {},
   "outputs": [],
   "source": [
    "# hacer el producto escalar de dos vectores con m elementos "
   ]
  },
  {
   "cell_type": "code",
   "execution_count": 28,
   "id": "4a592756-3819-46eb-81f5-bea5c3b2a39b",
   "metadata": {},
   "outputs": [],
   "source": [
    "#v1 = range(1,3) escoger dependiendo del caso \n",
    "#v2 = range(2,4)\n",
    "v1 = list(range(1,3))\n",
    "v2 = list(range(2,4))"
   ]
  },
  {
   "cell_type": "code",
   "execution_count": 18,
   "id": "f3657e74-7b75-4d98-8e68-04316020f20c",
   "metadata": {},
   "outputs": [
    {
     "name": "stdout",
     "output_type": "stream",
     "text": [
      "[1, 2]\n"
     ]
    }
   ],
   "source": [
    "print(v1)"
   ]
  },
  {
   "cell_type": "code",
   "execution_count": 19,
   "id": "5b702c34-818c-439c-a49a-a931ff4a05dc",
   "metadata": {},
   "outputs": [
    {
     "data": {
      "text/plain": [
       "2"
      ]
     },
     "execution_count": 19,
     "metadata": {},
     "output_type": "execute_result"
    }
   ],
   "source": [
    "len(v1)"
   ]
  },
  {
   "cell_type": "code",
   "execution_count": 20,
   "id": "2b5203d8-dde9-4a7b-ad7f-68e9ba718c65",
   "metadata": {},
   "outputs": [
    {
     "data": {
      "text/plain": [
       "2"
      ]
     },
     "execution_count": 20,
     "metadata": {},
     "output_type": "execute_result"
    }
   ],
   "source": [
    "len(v2)"
   ]
  },
  {
   "cell_type": "code",
   "execution_count": 27,
   "id": "3a488cf2-0b72-421c-a6fe-53d29bb03b99",
   "metadata": {},
   "outputs": [
    {
     "name": "stdout",
     "output_type": "stream",
     "text": [
      "8\n"
     ]
    }
   ],
   "source": [
    "v3 = []\n",
    "m = 0\n",
    "for i in range(len(v1)): \n",
    "    m = m + v1[i]*v2[i]\n",
    "    v3.append(m)\n",
    "print(m)"
   ]
  },
  {
   "cell_type": "code",
   "execution_count": 48,
   "id": "4617a8a7-4835-4518-bec2-906b96859cd9",
   "metadata": {},
   "outputs": [],
   "source": [
    "d = 3"
   ]
  },
  {
   "cell_type": "code",
   "execution_count": 56,
   "id": "236d158f-6a0a-48fa-9a6d-41d64351d00e",
   "metadata": {},
   "outputs": [],
   "source": [
    "b1 = range(3)\n",
    "b2 = range(3)"
   ]
  },
  {
   "cell_type": "code",
   "execution_count": 58,
   "id": "039affa8-6ac1-431c-9648-f6ec56b024c1",
   "metadata": {},
   "outputs": [],
   "source": [
    "#for i in b1:\n",
    "    #print(i)\n",
    "    #b2[i]=b1[i]*2+1"
   ]
  },
  {
   "cell_type": "code",
   "execution_count": 53,
   "id": "0976c671-b423-4256-bce0-6c0552b6b82b",
   "metadata": {},
   "outputs": [
    {
     "name": "stdout",
     "output_type": "stream",
     "text": [
      "5\n",
      "15\n",
      "36\n"
     ]
    }
   ],
   "source": [
    "m = 0\n",
    "for i in range(d): \n",
    "    m = m + b1[i]*b2[i]\n",
    "    print(m)"
   ]
  },
  {
   "cell_type": "code",
   "execution_count": 12,
   "id": "b8a4c9f4-e1b4-4797-bf60-1c8319056aa3",
   "metadata": {},
   "outputs": [],
   "source": [
    "b1 = [1,2,3,4,5]\n",
    "b2 = [5,6,744,844,9]\n",
    "def punto(b1,b2):\n",
    "    d = len(b1)\n",
    "    m = 0\n",
    "    for i in range(d): \n",
    "        m = m + b1[i]*b2[i]\n",
    "    return m"
   ]
  },
  {
   "cell_type": "code",
   "execution_count": 13,
   "id": "2a3a04b7-2fe2-4a1d-ae3a-c102a1767dd7",
   "metadata": {},
   "outputs": [
    {
     "data": {
      "text/plain": [
       "5670"
      ]
     },
     "execution_count": 13,
     "metadata": {},
     "output_type": "execute_result"
    }
   ],
   "source": [
    "punto(b1,b2)"
   ]
  },
  {
   "cell_type": "code",
   "execution_count": null,
   "id": "119c16bd-26d0-4a56-a16b-0d9b4e817ace",
   "metadata": {},
   "outputs": [],
   "source": []
  }
 ],
 "metadata": {
  "kernelspec": {
   "display_name": "Python 3 (ipykernel)",
   "language": "python",
   "name": "python3"
  },
  "language_info": {
   "codemirror_mode": {
    "name": "ipython",
    "version": 3
   },
   "file_extension": ".py",
   "mimetype": "text/x-python",
   "name": "python",
   "nbconvert_exporter": "python",
   "pygments_lexer": "ipython3",
   "version": "3.12.4"
  }
 },
 "nbformat": 4,
 "nbformat_minor": 5
}
